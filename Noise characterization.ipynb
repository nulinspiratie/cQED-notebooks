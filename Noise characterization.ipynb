{
 "metadata": {
  "name": "",
  "signature": "sha256:4e857eea153a046e2efa301d33ecd085b11bcdeb26773728e11b6d61a4efbd7d"
 },
 "nbformat": 3,
 "nbformat_minor": 0,
 "worksheets": [
  {
   "cells": [
    {
     "cell_type": "code",
     "collapsed": false,
     "input": [
      "import h5py as h5\n",
      "from matplotlib import pyplot as plt\n",
      "import numpy as np\n",
      "import os\n",
      "%pylab\n",
      "plt.ion()\n",
      "from lmfit import Model"
     ],
     "language": "python",
     "metadata": {},
     "outputs": [
      {
       "output_type": "stream",
       "stream": "stdout",
       "text": [
        "Using matplotlib backend: GTKAgg\n",
        "Populating the interactive namespace from numpy and matplotlib\n"
       ]
      }
     ],
     "prompt_number": 1
    },
    {
     "cell_type": "code",
     "collapsed": false,
     "input": [
      "# These are the \"Tableau 20\" colors as RGB.  \n",
      "tableau20 = [(31, 119, 180), (174, 199, 232), (255, 127, 14), (255, 187, 120),  \n",
      "             (44, 160, 44), (152, 223, 138), (214, 39, 40), (255, 152, 150),  \n",
      "             (148, 103, 189), (197, 176, 213), (140, 86, 75), (196, 156, 148),  \n",
      "             (227, 119, 194), (247, 182, 210), (127, 127, 127), (199, 199, 199),  \n",
      "             (188, 189, 34), (219, 219, 141), (23, 190, 207), (158, 218, 229)]  \n",
      "  \n",
      "# Scale the RGB values to the [0, 1] range, which is the format matplotlib accepts.  \n",
      "for i in range(len(tableau20)):  \n",
      "    r, g, b = tableau20[i]  \n",
      "    tableau20[i] = (r / 255., g / 255., b / 255.)  "
     ],
     "language": "python",
     "metadata": {},
     "outputs": [],
     "prompt_number": 24
    },
    {
     "cell_type": "heading",
     "level": 3,
     "metadata": {},
     "source": [
      "Succesful HDF5 loading"
     ]
    },
    {
     "cell_type": "code",
     "collapsed": false,
     "input": [
      "datafilepath = r'D:\\qtlab\\data\\VNA_T_dependence\\123043_sweep_T_dependence.hdf5'\n",
      "data=h5.File(datafilepath,'r')\n",
      "print 'hdf5 columns:', data['Experimental_Data'].keys()\n",
      "freq = data['Experimental_Data'].values()[0].value\n",
      "S21 = data['Experimental_Data']['S21 (ampl)'].value\n",
      "data.close()\n",
      "plt.figure('iPython')\n",
      "plt.plot(freq, S21)\n",
      "plt.show()"
     ],
     "language": "python",
     "metadata": {},
     "outputs": [
      {
       "output_type": "stream",
       "stream": "stdout",
       "text": [
        "hdf5 columns: [u'Frequency', u'S21 (ampl)', u'S21 (comp)', u'S21 (imag)', u'S21 (real)']\n"
       ]
      }
     ],
     "prompt_number": 25
    },
    {
     "cell_type": "code",
     "collapsed": false,
     "input": [
      "folder = r'D:\\qtlab\\data\\Noise characterization\\IF_sweep\\data'\n",
      "npoints = 2001\n",
      "bwlist = [1,3,10,30,100,300,1000,3000,10000]\n",
      "bwdict = {}\n",
      "for bw in bwlist:\n",
      "    bwdict[bw] = []\n",
      "filenames = os.listdir(folder)\n",
      "filenames = filter(lambda x: x[-4:] == 'hdf5', filenames)\n",
      "for filename in filenames:\n",
      "    bw = int(filename.split('_')[2][:-5])\n",
      "    bwdict[bw].append(filename)"
     ],
     "language": "python",
     "metadata": {},
     "outputs": [],
     "prompt_number": 41
    },
    {
     "cell_type": "code",
     "collapsed": false,
     "input": [
      "data={}\n",
      "for bw, filenames in bwdict.items():\n",
      "    files = len(filenames)\n",
      "    data[bw] = np.zeros(files * npoints)\n",
      "    for k, filename in enumerate(filenames):\n",
      "        filepath = os.path.join(folder,filename)\n",
      "        filedata = h5.File(filepath, 'r')\n",
      "        data[bw][k*npoints : (k+1) * npoints] = filedata['Experimental_Data']['S21 (ampl)'].value\n",
      "        filedata.close()\n",
      "    print 'bw: %d\\t length: %d' % (bw, len(data[bw]))"
     ],
     "language": "python",
     "metadata": {},
     "outputs": [
      {
       "output_type": "stream",
       "stream": "stdout",
       "text": [
        "bw: 1\t length: 24012\n",
        "bw: 3\t length: 24012\n",
        "bw: 100\t length: 24012\n",
        "bw: 1000\t length: 24012\n",
        "bw: 10\t length: 24012\n",
        "bw: 300\t length: 24012\n",
        "bw: 10000\t length: 24012\n",
        "bw: 3000\t length: 24012\n"
       ]
      },
      {
       "output_type": "stream",
       "stream": "stdout",
       "text": [
        "bw: 30\t length: 24012\n"
       ]
      }
     ],
     "prompt_number": 27
    },
    {
     "cell_type": "heading",
     "level": 3,
     "metadata": {},
     "source": [
      "Plot bandwidth data"
     ]
    },
    {
     "cell_type": "code",
     "collapsed": false,
     "input": [
      "plotbw = 100\n",
      "plt.figure('Bandwidth data1')\n",
      "plt.clf()\n",
      "plt.plot(data[plotbw])\n",
      "plt.title('Bandwidth: %d' % plotbw)\n",
      "plt.xlabel('Measurement point')\n",
      "plt.ylabel('S21 (mV)')\n",
      "plt.text"
     ],
     "language": "python",
     "metadata": {},
     "outputs": [
      {
       "metadata": {},
       "output_type": "pyout",
       "prompt_number": 28,
       "text": [
        "<function matplotlib.pyplot.text>"
       ]
      }
     ],
     "prompt_number": 28
    },
    {
     "cell_type": "heading",
     "level": 3,
     "metadata": {},
     "source": [
      "Plot bandwidth data as a function of averages"
     ]
    },
    {
     "cell_type": "heading",
     "level": 4,
     "metadata": {},
     "source": [
      "Perform quadratic fit"
     ]
    },
    {
     "cell_type": "code",
     "collapsed": false,
     "input": [
      "def polynomial(x, a, b, c):\n",
      "    return a + b * x + c * x**2\n",
      "polymodel = Model(polynomial)"
     ],
     "language": "python",
     "metadata": {},
     "outputs": [],
     "prompt_number": 29
    },
    {
     "cell_type": "code",
     "collapsed": false,
     "input": [
      "plotbw = 10\n",
      "avglist = [1,3,10,30, 100,300]\n",
      "\n",
      "#Initialize figure\n",
      "plt.figure('Noise versus averaging',figsize = (6,4))\n",
      "plt.clf()\n",
      "plt.gca().get_xaxis().get_major_formatter().set_useOffset(False)\n",
      "plt.gca().get_yaxis().get_major_formatter().set_useOffset(False)\n",
      "plt.title('Bandwidth: %d Hz (no correction)' % plotbw)\n",
      "\n",
      "points = len(data[plotbw])\n",
      "\n",
      "#Create fit\n",
      "ainit, binit, cinit = mean(data[plotbw]), 0, 0\n",
      "x = np.arange(len(data[plotbw]))\n",
      "fitresult = polymodel.fit(data[plotbw], x = x, a = ainit, b = binit, c = cinit)\n",
      "\n",
      "for avg in avglist:\n",
      "    #Perform averaging\n",
      "    segments = points / avg\n",
      "    data_avg = map(np.mean,np.array_split(data[plotbw],segments)) \n",
      "    x = np.linspace(0,points,len(data_avg))\n",
      "    plt.plot(x, data_avg, label = 'averages: %d' % avg)\n",
      "\n",
      "\n",
      "plt.plot(fitresult.best_fit, label = 'fit')\n",
      "xlim = plt.xlim()\n",
      "ylim = plt.ylim()\n",
      "plt.text(xlim[0] + .02*(xlim[1] - xlim[0]),ylim[0] + .02*(ylim[1] - ylim[0]),\n",
      "         'Fit results:\\na: %.3G\\nb: %.3G\\nc: %.3G' % tuple(fitresult.best_values.values()))\n",
      "plt.legend(fontsize='small')"
     ],
     "language": "python",
     "metadata": {},
     "outputs": [
      {
       "metadata": {},
       "output_type": "pyout",
       "prompt_number": 59,
       "text": [
        "<matplotlib.legend.Legend at 0x23314e48>"
       ]
      }
     ],
     "prompt_number": 59
    },
    {
     "cell_type": "heading",
     "level": 4,
     "metadata": {},
     "source": [
      "(Corrected with polynomial)"
     ]
    },
    {
     "cell_type": "code",
     "collapsed": false,
     "input": [
      "plotbw = 3\n",
      "avglist = [3,10,30, 100,300]\n",
      "\n",
      "#Initialize figure\n",
      "plt.figure('Noise versus averaging (with correction)',figsize = (6,4))\n",
      "plt.gca().get_xaxis().get_major_formatter().set_useOffset(False)\n",
      "plt.gca().get_yaxis().get_major_formatter().set_useOffset(False)\n",
      "plt.title('Bandwidth: %d Hz (with correction)' % plotbw)\n",
      "\n",
      "points = len(data[plotbw])\n",
      "\n",
      "#Create fit\n",
      "ainit, binit, cinit = mean(data[plotbw]), 0, 0\n",
      "x = np.arange(len(data[plotbw]))\n",
      "fitresult = polymodel.fit(data[plotbw], x = x, a = ainit, b = binit, c = cinit)\n",
      "\n",
      "for avg in avglist:\n",
      "    #Perform averaging\n",
      "    segments = points / avg\n",
      "    data_avg = np.array(map(np.mean,np.array_split(data[plotbw],segments)) )\n",
      "    x = np.linspace(0,points,len(data_avg))\n",
      "    a,b,c = [fitresult.best_values[par] for par in ['a','b','c']]\n",
      "    data_avg /= polymodel.func(x,a,b,c)\n",
      "    #print avg, len(data_avg), np.mean(data_avg), np.std(data_avg)\n",
      "    plt.plot(x, data_avg, label = 'averages: %d' % avg)\n",
      "\n",
      "\n",
      "#plt.plot(fitresult.best_fit, label = 'fit')\n",
      "xlim = plt.xlim()\n",
      "ylim = plt.ylim()\n",
      "plt.text(xlim[0] + .02*(xlim[1] - xlim[0]),ylim[0] + .02*(ylim[1] - ylim[0]),\n",
      "         'Fit results:\\na: %.3G\\nb: %.3G\\nc: %.3G' % tuple(fitresult.best_values.values()))\n",
      "plt.legend()"
     ],
     "language": "python",
     "metadata": {},
     "outputs": [
      {
       "metadata": {},
       "output_type": "pyout",
       "prompt_number": 31,
       "text": [
        "<matplotlib.legend.Legend at 0x1f303898>"
       ]
      }
     ],
     "prompt_number": 31
    },
    {
     "cell_type": "heading",
     "level": 3,
     "metadata": {},
     "source": [
      "Standard deviation and variance (with correction)"
     ]
    },
    {
     "cell_type": "code",
     "collapsed": false,
     "input": [
      "avglist = [1,3,10,30,100,300,1000]\n",
      "avgdata = {}\n",
      "points = len(data[plotbw])\n",
      "\n",
      "\n",
      "fig = plt.figure('mean, std, var', figsize=(6,8))\n",
      "plt.clf()\n",
      "axmean = fig.add_subplot(3,1,1)\n",
      "axmean.get_yaxis().get_major_formatter().set_useOffset(False)\n",
      "axmean.ticklabel_format(style='sci', axis='y', scilimits=(0,0))\n",
      "axmean.set_ylabel('mean S21 (mV)')\n",
      "plt.setp(axmean.get_xticklabels(), visible=False)\n",
      "\n",
      "axstd = fig.add_subplot(3,1,2, sharex = axmean)\n",
      "axstd.set_ylabel('std S21 (mV)')\n",
      "plt.setp(axstd.get_xticklabels(), visible=False)\n",
      "\n",
      "axvar = fig.add_subplot(3,1,3, sharex = axmean)\n",
      "axvar.set_xlabel('Number of averages')\n",
      "axvar.set_ylabel('var S21 (mV)')\n",
      "    \n",
      "    \n",
      "for plotbw in bwlist[1:]:\n",
      "    #Create fit\n",
      "    ainit, binit, cinit = mean(data[plotbw]), 0, 0\n",
      "    x = np.arange(len(data[plotbw]))\n",
      "    fitresult = polymodel.fit(data[plotbw], x = x, a = ainit, b = binit, c = cinit)\n",
      "\n",
      "    avgdata[plotbw] = np.zeros((len(avglist),3))\n",
      "    for k, avg in enumerate(avglist):\n",
      "        segments = points / avg\n",
      "        data_avg = np.array(map(np.mean,np.array_split(data[plotbw],segments)))\n",
      "        x = np.linspace(0,points,len(data_avg))\n",
      "        a,b,c = [fitresult.best_values[par] for par in ['a','b','c']]\n",
      "        data_avg /= polymodel.func(x,a,b,c)\n",
      "        avgdata[plotbw][k] = [np.mean(data_avg),np.std(data_avg), np.var(data_avg)]\n",
      "\n",
      "    #Plotting\n",
      "    axmean.semilogx(avglist, avgdata[plotbw][:,0], 'o-', label = 'bw: %d' % plotbw)\n",
      "    axstd.loglog(avglist, avgdata[plotbw][:,1], 'o-', label = 'bw: %d' % plotbw)\n",
      "    axvar.loglog(avglist, avgdata[plotbw][:,2], 'o-', label = 'bw: %d' % plotbw)\n",
      "    \n",
      "axmean.legend(fontsize='small')\n",
      "plt.tight_layout()"
     ],
     "language": "python",
     "metadata": {},
     "outputs": [],
     "prompt_number": 47
    },
    {
     "cell_type": "heading",
     "level": 3,
     "metadata": {},
     "source": [
      "Noise temperature"
     ]
    },
    {
     "cell_type": "code",
     "collapsed": false,
     "input": [
      "Tnlist = np.zeros((len(bwlist)-1,2))\n",
      "for k,df in enumerate(bwlist[1:]):\n",
      "    R = float(50)\n",
      "    P = float(-123)\n",
      "    P_watt = 10**-3 * 10 ** (P/10)\n",
      "    Vin = np.sqrt(8 * R * P_watt)\n",
      "    std = avgdata[df][0,1]\n",
      "    Kb = 1.38 * 10**-23\n",
      "    Tn = (std * Vin / 4.)**2 / (Kb * R * df * (np.pi / 2))\n",
      "    print df, std, Tn\n",
      "    Tnlist[k] = [df, Tn]"
     ],
     "language": "python",
     "metadata": {},
     "outputs": [
      {
       "output_type": "stream",
       "stream": "stdout",
       "text": [
        "3 0.00256326598579 25.3184512049\n",
        "10 0.00469282172627 25.4588717604\n",
        "30 0.00802335302074 24.8062769804\n",
        "100 0.0157640262169 28.7279964089\n",
        "300 0.0258152109623 25.6803620996\n",
        "1000 0.0451366423112 23.552094703\n",
        "3000 0.0763855944357 22.4839552132\n",
        "10000 0.140273126099 22.7467834059\n"
       ]
      }
     ],
     "prompt_number": 56
    },
    {
     "cell_type": "code",
     "collapsed": false,
     "input": [
      "plt.figure('Noise temperature versus bandwidth')\n",
      "plt.clf()\n",
      "plt.gca().get_xaxis().get_major_formatter().set_useOffset(False)\n",
      "plt.gca().get_yaxis().get_major_formatter().set_useOffset(False)\n",
      "plt.semilogx(Tnlist[:,0],Tnlist[:,1],'o-', label = 'bw: %d Hz' % bw)\n",
      "plt.xlabel('Bandwidth (Hz)')\n",
      "plt.ylabel('Noise temperature (K)')"
     ],
     "language": "python",
     "metadata": {},
     "outputs": [
      {
       "metadata": {},
       "output_type": "pyout",
       "prompt_number": 57,
       "text": [
        "<matplotlib.text.Text at 0x1b829320>"
       ]
      }
     ],
     "prompt_number": 57
    },
    {
     "cell_type": "heading",
     "level": 3,
     "metadata": {},
     "source": [
      "Pickle loading"
     ]
    },
    {
     "cell_type": "code",
     "collapsed": false,
     "input": [
      "picklefilepath = r'D:\\qtlab\\data\\IF_sweep\\IF_sweep.pickle'\n",
      "IF_data = np.load(picklefilepath,'r')[0]"
     ],
     "language": "python",
     "metadata": {},
     "outputs": [],
     "prompt_number": 10
    }
   ],
   "metadata": {}
  }
 ]
}