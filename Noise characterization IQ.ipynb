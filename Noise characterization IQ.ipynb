{
 "metadata": {
  "name": "",
  "signature": "sha256:b22b568a387cd190097388071bb96847ba3e2730c2aca73aa85514227d09e755"
 },
 "nbformat": 3,
 "nbformat_minor": 0,
 "worksheets": [
  {
   "cells": [
    {
     "cell_type": "code",
     "collapsed": false,
     "input": [
      "import h5py as h5\n",
      "from matplotlib import pyplot as plt\n",
      "import numpy as np\n",
      "import os\n",
      "%pylab\n",
      "plt.ion()\n",
      "from lmfit import Model\n",
      "import copy"
     ],
     "language": "python",
     "metadata": {},
     "outputs": [
      {
       "output_type": "stream",
       "stream": "stdout",
       "text": [
        "Using matplotlib backend: GTKAgg\n",
        "Populating the interactive namespace from numpy and matplotlib\n"
       ]
      },
      {
       "output_type": "stream",
       "stream": "stderr",
       "text": [
        "WARNING: pylab import has clobbered these variables: ['xlim', 'ylim']\n",
        "`%matplotlib` prevents importing * from pylab and numpy\n"
       ]
      }
     ],
     "prompt_number": 27
    },
    {
     "cell_type": "code",
     "collapsed": false,
     "input": [
      "# These are the \"Tableau 20\" colors as RGB.  \n",
      "tableau20 = [(31, 119, 180), (174, 199, 232), (255, 127, 14), (255, 187, 120),  \n",
      "             (44, 160, 44), (152, 223, 138), (214, 39, 40), (255, 152, 150),  \n",
      "             (148, 103, 189), (197, 176, 213), (140, 86, 75), (196, 156, 148),  \n",
      "             (227, 119, 194), (247, 182, 210), (127, 127, 127), (199, 199, 199),  \n",
      "             (188, 189, 34), (219, 219, 141), (23, 190, 207), (158, 218, 229)]  \n",
      "  \n",
      "# Scale the RGB values to the [0, 1] range, which is the format matplotlib accepts.  \n",
      "for i in range(len(tableau20)):  \n",
      "    r, g, b = tableau20[i]  \n",
      "    tableau20[i] = (r / 255., g / 255., b / 255.)  "
     ],
     "language": "python",
     "metadata": {},
     "outputs": [],
     "prompt_number": 52
    },
    {
     "cell_type": "heading",
     "level": 3,
     "metadata": {},
     "source": [
      "Succesful HDF5 loading"
     ]
    },
    {
     "cell_type": "code",
     "collapsed": false,
     "input": [
      "datafilepath = r'D:\\qtlab\\data\\VNA_T_dependence\\123043_sweep_T_dependence.hdf5'\n",
      "data=h5.File(datafilepath,'r')\n",
      "print 'hdf5 columns:', data['Experimental_Data'].keys()\n",
      "freq = data['Experimental_Data'].values()[0].value\n",
      "S21 = data['Experimental_Data']['S21 (ampl)'].value\n",
      "data.close()\n",
      "plt.figure('iPython')\n",
      "plt.plot(freq, S21)\n",
      "plt.show()"
     ],
     "language": "python",
     "metadata": {},
     "outputs": [
      {
       "output_type": "stream",
       "stream": "stdout",
       "text": [
        "hdf5 columns: [u'Frequency', u'S21 (ampl)', u'S21 (comp)', u'S21 (imag)', u'S21 (real)']\n"
       ]
      }
     ],
     "prompt_number": 61
    },
    {
     "cell_type": "code",
     "collapsed": false,
     "input": [
      "folder = r'D:\\qtlab\\data\\Noise characterization\\IF_sweep\\data'\n",
      "npoints = 2001\n",
      "bwlist = [1,3,10,30,100,300,1000,3000,10000]\n",
      "bwdict = {}\n",
      "for bw in bwlist:\n",
      "    bwdict[bw] = []\n",
      "filenames = os.listdir(folder)\n",
      "filenames = filter(lambda x: x[-4:] == 'hdf5', filenames)\n",
      "for filename in filenames:\n",
      "    bw = int(filename.split('_')[2][:-5])\n",
      "    bwdict[bw].append(filename)"
     ],
     "language": "python",
     "metadata": {},
     "outputs": [],
     "prompt_number": 54
    },
    {
     "cell_type": "code",
     "collapsed": false,
     "input": [
      "data={}\n",
      "for bw, filenames in bwdict.items():\n",
      "    files = len(filenames)\n",
      "    data[bw] = np.zeros(files * npoints)\n",
      "    for k, filename in enumerate(filenames):\n",
      "        filepath = os.path.join(folder,filename)\n",
      "        filedata = h5.File(filepath, 'r')\n",
      "        data[bw][k*npoints : (k+1) * npoints] = filedata['Experimental_Data']['S21 (ampl)'].value\n",
      "        filedata.close()\n",
      "    print 'bw: %d\\t length: %d' % (bw, len(data[bw]))"
     ],
     "language": "python",
     "metadata": {},
     "outputs": [
      {
       "output_type": "stream",
       "stream": "stdout",
       "text": [
        "bw: 1\t length: 24012\n",
        "bw: 3\t length: 24012\n",
        "bw: 100\t length: 24012\n",
        "bw: 1000\t length: 24012\n",
        "bw: 10\t length: 24012\n",
        "bw: 300\t length: 24012\n",
        "bw: 10000\t length: 24012\n",
        "bw: 3000\t length: 24012"
       ]
      },
      {
       "output_type": "stream",
       "stream": "stdout",
       "text": [
        "\n",
        "bw: 30\t length: 24012\n"
       ]
      }
     ],
     "prompt_number": 55
    },
    {
     "cell_type": "heading",
     "level": 3,
     "metadata": {},
     "source": [
      "Plot bandwidth data"
     ]
    },
    {
     "cell_type": "code",
     "collapsed": false,
     "input": [
      "plotbw = 100\n",
      "plt.figure('Bandwidth data1')\n",
      "plt.clf()\n",
      "plt.plot(data[plotbw])\n",
      "plt.title('Bandwidth: %d' % plotbw)\n",
      "plt.xlabel('Measurement point')\n",
      "plt.ylabel('S21 (mV)')\n",
      "plt.text"
     ],
     "language": "python",
     "metadata": {},
     "outputs": [
      {
       "metadata": {},
       "output_type": "pyout",
       "prompt_number": 56,
       "text": [
        "<function matplotlib.pyplot.text>"
       ]
      }
     ],
     "prompt_number": 56
    },
    {
     "cell_type": "heading",
     "level": 3,
     "metadata": {},
     "source": [
      "Plot bandwidth data as a function of averages"
     ]
    },
    {
     "cell_type": "heading",
     "level": 4,
     "metadata": {},
     "source": [
      "Perform quadratic fit"
     ]
    },
    {
     "cell_type": "code",
     "collapsed": false,
     "input": [
      "def polynomial(x, a, b, c):\n",
      "    return a + b * x + c * x**2\n",
      "polymodel = Model(polynomial)"
     ],
     "language": "python",
     "metadata": {},
     "outputs": [],
     "prompt_number": 57
    },
    {
     "cell_type": "code",
     "collapsed": false,
     "input": [
      "plotbw = 10\n",
      "avglist = [1,3,10,30, 100,300]\n",
      "\n",
      "#Initialize figure\n",
      "plt.figure('Noise versus averaging',figsize = (6,4))\n",
      "plt.clf()\n",
      "plt.gca().get_xaxis().get_major_formatter().set_useOffset(False)\n",
      "plt.gca().get_yaxis().get_major_formatter().set_useOffset(False)\n",
      "plt.title('Bandwidth: %d Hz (no correction)' % plotbw)\n",
      "\n",
      "points = len(data[plotbw])\n",
      "\n",
      "#Create fit\n",
      "ainit, binit, cinit = mean(data[plotbw]), 0, 0\n",
      "x = np.arange(len(data[plotbw]))\n",
      "fitresult = polymodel.fit(data[plotbw], x = x, a = ainit, b = binit, c = cinit)\n",
      "\n",
      "for avg in avglist:\n",
      "    #Perform averaging\n",
      "    segments = points / avg\n",
      "    data_avg = map(np.mean,np.array_split(data[plotbw],segments)) \n",
      "    x = np.linspace(0,points,len(data_avg))\n",
      "    plt.plot(x, data_avg, label = 'averages: %d' % avg)\n",
      "\n",
      "\n",
      "plt.plot(fitresult.best_fit, label = 'fit')\n",
      "xlim = plt.xlim()\n",
      "ylim = plt.ylim()\n",
      "plt.text(xlim[0] + .02*(xlim[1] - xlim[0]),ylim[0] + .02*(ylim[1] - ylim[0]),\n",
      "         'Fit results:\\na: %.3G\\nb: %.3G\\nc: %.3G' % tuple(fitresult.best_values.values()))\n",
      "plt.legend(fontsize='small')"
     ],
     "language": "python",
     "metadata": {},
     "outputs": [
      {
       "metadata": {},
       "output_type": "pyout",
       "prompt_number": 58,
       "text": [
        "<matplotlib.legend.Legend at 0x20bd1438>"
       ]
      }
     ],
     "prompt_number": 58
    },
    {
     "cell_type": "heading",
     "level": 4,
     "metadata": {},
     "source": [
      "(Corrected with polynomial)"
     ]
    },
    {
     "cell_type": "code",
     "collapsed": false,
     "input": [
      "plotbw = 3\n",
      "avglist = [3,10,30, 100,300]\n",
      "\n",
      "#Initialize figure\n",
      "plt.figure('Noise versus averaging (with correction)',figsize = (6,4))\n",
      "plt.gca().get_xaxis().get_major_formatter().set_useOffset(False)\n",
      "plt.gca().get_yaxis().get_major_formatter().set_useOffset(False)\n",
      "plt.title('Bandwidth: %d Hz (with correction)' % plotbw)\n",
      "\n",
      "points = len(data[plotbw])\n",
      "\n",
      "#Create fit\n",
      "ainit, binit, cinit = mean(data[plotbw]), 0, 0\n",
      "x = np.arange(len(data[plotbw]))\n",
      "fitresult = polymodel.fit(data[plotbw], x = x, a = ainit, b = binit, c = cinit)\n",
      "\n",
      "for avg in avglist:\n",
      "    #Perform averaging\n",
      "    segments = points / avg\n",
      "    data_avg = np.array(map(np.mean,np.array_split(data[plotbw],segments)) )\n",
      "    x = np.linspace(0,points,len(data_avg))\n",
      "    a,b,c = [fitresult.best_values[par] for par in ['a','b','c']]\n",
      "    data_avg /= polymodel.func(x,a,b,c)\n",
      "    #print avg, len(data_avg), np.mean(data_avg), np.std(data_avg)\n",
      "    plt.plot(x, data_avg, label = 'averages: %d' % avg)\n",
      "\n",
      "\n",
      "#plt.plot(fitresult.best_fit, label = 'fit')\n",
      "xlim = plt.xlim()\n",
      "ylim = plt.ylim()\n",
      "plt.text(xlim[0] + .02*(xlim[1] - xlim[0]),ylim[0] + .02*(ylim[1] - ylim[0]),\n",
      "         'Fit results:\\na: %.3G\\nb: %.3G\\nc: %.3G' % tuple(fitresult.best_values.values()))\n",
      "plt.legend()"
     ],
     "language": "python",
     "metadata": {},
     "outputs": [
      {
       "metadata": {},
       "output_type": "pyout",
       "prompt_number": 59,
       "text": [
        "<matplotlib.legend.Legend at 0x23767080>"
       ]
      }
     ],
     "prompt_number": 59
    },
    {
     "cell_type": "heading",
     "level": 3,
     "metadata": {},
     "source": [
      "Standard deviation and variance (with correction)"
     ]
    },
    {
     "cell_type": "code",
     "collapsed": false,
     "input": [
      "avglist = [1,3,10,30,100,300,1000]\n",
      "avgdata = {}\n",
      "points = len(data[plotbw])\n",
      "\n",
      "\n",
      "fig = plt.figure('mean, std, var', figsize=(6,8))\n",
      "plt.clf()\n",
      "axmean = fig.add_subplot(3,1,1)\n",
      "axmean.get_yaxis().get_major_formatter().set_useOffset(False)\n",
      "axmean.ticklabel_format(style='sci', axis='y', scilimits=(0,0))\n",
      "axmean.set_ylabel('mean S21 (mV)')\n",
      "plt.setp(axmean.get_xticklabels(), visible=False)\n",
      "\n",
      "axstd = fig.add_subplot(3,1,2, sharex = axmean)\n",
      "axstd.set_ylabel('std S21 (mV)')\n",
      "plt.setp(axstd.get_xticklabels(), visible=False)\n",
      "\n",
      "axvar = fig.add_subplot(3,1,3, sharex = axmean)\n",
      "axvar.set_xlabel('Number of averages')\n",
      "axvar.set_ylabel('var S21 (mV)')\n",
      "    \n",
      "    \n",
      "for plotbw in bwlist[1:]:\n",
      "    #Create fit\n",
      "    ainit, binit, cinit = mean(data[plotbw]), 0, 0\n",
      "    x = np.arange(len(data[plotbw]))\n",
      "    fitresult = polymodel.fit(data[plotbw], x = x, a = ainit, b = binit, c = cinit)\n",
      "\n",
      "    avgdata[plotbw] = np.zeros((len(avglist),3))\n",
      "    for k, avg in enumerate(avglist):\n",
      "        segments = points / avg\n",
      "        data_avg = np.array(map(np.mean,np.array_split(data[plotbw],segments)))\n",
      "        x = np.linspace(0,points,len(data_avg))\n",
      "        a,b,c = [fitresult.best_values[par] for par in ['a','b','c']]\n",
      "        data_avg /= polymodel.func(x,a,b,c)\n",
      "        avgdata[plotbw][k] = [np.mean(data_avg),np.std(data_avg), np.var(data_avg)]\n",
      "\n",
      "    #Plotting\n",
      "    axmean.semilogx(avglist, avgdata[plotbw][:,0], 'o-', label = 'bw: %d' % plotbw)\n",
      "    axstd.loglog(avglist, avgdata[plotbw][:,1], 'o-', label = 'bw: %d' % plotbw)\n",
      "    axvar.loglog(avglist, avgdata[plotbw][:,2], 'o-', label = 'bw: %d' % plotbw)\n",
      "    \n",
      "axmean.legend(fontsize='small')\n",
      "plt.tight_layout()"
     ],
     "language": "python",
     "metadata": {},
     "outputs": [],
     "prompt_number": 60
    },
    {
     "cell_type": "code",
     "collapsed": false,
     "input": [
      "avgdata_Q"
     ],
     "language": "python",
     "metadata": {},
     "outputs": [
      {
       "metadata": {},
       "output_type": "pyout",
       "prompt_number": 50,
       "text": [
        "{3: array([[  1.00000010e+00,   2.56326599e-03,   6.57033251e-06],\n",
        "        [  1.00000007e+00,   1.50424874e-03,   2.26276428e-06],\n",
        "        [  9.99999634e-01,   8.51194008e-04,   7.24531240e-07],\n",
        "        [  9.99997908e-01,   5.19721131e-04,   2.70110054e-07],\n",
        "        [  9.99996922e-01,   3.52170137e-04,   1.24023806e-07],\n",
        "        [  9.99994020e-01,   2.61898761e-04,   6.85909610e-08],\n",
        "        [  9.99983038e-01,   2.08675028e-04,   4.35452672e-08]]),\n",
        " 10: array([[  1.00000003e+00,   4.69282173e-03,   2.20225758e-05],\n",
        "        [  1.00000002e+00,   2.73091876e-03,   7.45791729e-06],\n",
        "        [  9.99999802e-01,   1.47273870e-03,   2.16895929e-06],\n",
        "        [  9.99999413e-01,   8.39138406e-04,   7.04153265e-07],\n",
        "        [  9.99999143e-01,   4.86953755e-04,   2.37123960e-07],\n",
        "        [  9.99998161e-01,   2.96210375e-04,   8.77405863e-08],\n",
        "        [  9.99994595e-01,   1.75677359e-04,   3.08625344e-08]]),\n",
        " 30: array([[  1.00000000e+00,   8.02335302e-03,   6.43741937e-05],\n",
        "        [  9.99999968e-01,   4.64017571e-03,   2.15312306e-05],\n",
        "        [  9.99999908e-01,   2.52644997e-03,   6.38294947e-06],\n",
        "        [  9.99999237e-01,   1.46744742e-03,   2.15340194e-06],\n",
        "        [  9.99998252e-01,   8.01641519e-04,   6.42629125e-07],\n",
        "        [  9.99995094e-01,   4.83836073e-04,   2.34097345e-07],\n",
        "        [  9.99983696e-01,   2.75144265e-04,   7.57043664e-08]]),\n",
        " 100: array([[  1.00000000e+00,   1.57640262e-02,   2.48504523e-04],\n",
        "        [  1.00000003e+00,   9.01478344e-03,   8.12663204e-05],\n",
        "        [  1.00000062e+00,   4.79143481e-03,   2.29578475e-05],\n",
        "        [  9.99999952e-01,   2.72966586e-03,   7.45107573e-06],\n",
        "        [  1.00000107e+00,   1.57099141e-03,   2.46801402e-06],\n",
        "        [  1.00000371e+00,   1.00670858e-03,   1.01346217e-06],\n",
        "        [  1.00001259e+00,   6.04062905e-04,   3.64891994e-07]]),\n",
        " 300: array([[  1.00000001e+00,   2.58152110e-02,   6.66425117e-04],\n",
        "        [  9.99999996e-01,   1.48232979e-02,   2.19730162e-04],\n",
        "        [  1.00000058e+00,   8.03109596e-03,   6.44985024e-05],\n",
        "        [  9.99998861e-01,   4.61971432e-03,   2.13417604e-05],\n",
        "        [  9.99998927e-01,   2.72644145e-03,   7.43348297e-06],\n",
        "        [  9.99998112e-01,   1.56837793e-03,   2.45980934e-06],\n",
        "        [  9.99994508e-01,   9.09763336e-04,   8.27669327e-07]]),\n",
        " 1000: array([[  9.99999953e-01,   4.51366423e-02,   2.03731648e-03],\n",
        "        [  9.99999880e-01,   2.62307790e-02,   6.88053767e-04],\n",
        "        [  1.00000006e+00,   1.41795559e-02,   2.01059805e-04],\n",
        "        [  9.99997686e-01,   8.38660497e-03,   7.03351430e-05],\n",
        "        [  9.99996513e-01,   4.48202838e-03,   2.00885784e-05],\n",
        "        [  9.99988795e-01,   2.73536864e-03,   7.48224162e-06],\n",
        "        [  9.99962442e-01,   1.37632697e-03,   1.89427592e-06]]),\n",
        " 3000: array([[  9.99999944e-01,   7.63855944e-02,   5.83475904e-03],\n",
        "        [  9.99999877e-01,   4.39220070e-02,   1.92914270e-03],\n",
        "        [  9.99999987e-01,   2.42027663e-02,   5.85773894e-04],\n",
        "        [  9.99998858e-01,   1.39258753e-02,   1.93930002e-04],\n",
        "        [  9.99995895e-01,   7.36582688e-03,   5.42554056e-05],\n",
        "        [  9.99989502e-01,   3.91027485e-03,   1.52902494e-05],\n",
        "        [  9.99965314e-01,   2.31761306e-03,   5.37133029e-06]]),\n",
        " 10000: array([[  1.00000021e+00,   1.40273126e-01,   1.96765499e-02],\n",
        "        [  1.00000054e+00,   8.02985090e-02,   6.44785054e-03],\n",
        "        [  1.00000316e+00,   4.41221002e-02,   1.94675973e-03],\n",
        "        [  1.00000662e+00,   2.49989468e-02,   6.24947340e-04],\n",
        "        [  1.00001629e+00,   1.37378640e-02,   1.88728908e-04],\n",
        "        [  1.00005085e+00,   7.82724600e-03,   6.12657799e-05],\n",
        "        [  1.00016945e+00,   3.22820018e-03,   1.04212764e-05]])}"
       ]
      }
     ],
     "prompt_number": 50
    },
    {
     "cell_type": "code",
     "collapsed": false,
     "input": [
      "avgdata_I"
     ],
     "language": "python",
     "metadata": {},
     "outputs": [
      {
       "metadata": {},
       "output_type": "pyout",
       "prompt_number": 51,
       "text": [
        "{3: array([[  1.00000010e+00,   2.56326599e-03,   6.57033251e-06],\n",
        "        [  1.00000007e+00,   1.50424874e-03,   2.26276428e-06],\n",
        "        [  9.99999634e-01,   8.51194008e-04,   7.24531240e-07],\n",
        "        [  9.99997908e-01,   5.19721131e-04,   2.70110054e-07],\n",
        "        [  9.99996922e-01,   3.52170137e-04,   1.24023806e-07],\n",
        "        [  9.99994020e-01,   2.61898761e-04,   6.85909610e-08],\n",
        "        [  9.99983038e-01,   2.08675028e-04,   4.35452672e-08]]),\n",
        " 10: array([[  1.00000003e+00,   4.69282173e-03,   2.20225758e-05],\n",
        "        [  1.00000002e+00,   2.73091876e-03,   7.45791729e-06],\n",
        "        [  9.99999802e-01,   1.47273870e-03,   2.16895929e-06],\n",
        "        [  9.99999413e-01,   8.39138406e-04,   7.04153265e-07],\n",
        "        [  9.99999143e-01,   4.86953755e-04,   2.37123960e-07],\n",
        "        [  9.99998161e-01,   2.96210375e-04,   8.77405863e-08],\n",
        "        [  9.99994595e-01,   1.75677359e-04,   3.08625344e-08]]),\n",
        " 30: array([[  1.00000000e+00,   8.02335302e-03,   6.43741937e-05],\n",
        "        [  9.99999968e-01,   4.64017571e-03,   2.15312306e-05],\n",
        "        [  9.99999908e-01,   2.52644997e-03,   6.38294947e-06],\n",
        "        [  9.99999237e-01,   1.46744742e-03,   2.15340194e-06],\n",
        "        [  9.99998252e-01,   8.01641519e-04,   6.42629125e-07],\n",
        "        [  9.99995094e-01,   4.83836073e-04,   2.34097345e-07],\n",
        "        [  9.99983696e-01,   2.75144265e-04,   7.57043664e-08]]),\n",
        " 100: array([[  1.00000000e+00,   1.57640262e-02,   2.48504523e-04],\n",
        "        [  1.00000003e+00,   9.01478344e-03,   8.12663204e-05],\n",
        "        [  1.00000062e+00,   4.79143481e-03,   2.29578475e-05],\n",
        "        [  9.99999952e-01,   2.72966586e-03,   7.45107573e-06],\n",
        "        [  1.00000107e+00,   1.57099141e-03,   2.46801402e-06],\n",
        "        [  1.00000371e+00,   1.00670858e-03,   1.01346217e-06],\n",
        "        [  1.00001259e+00,   6.04062905e-04,   3.64891994e-07]]),\n",
        " 300: array([[  1.00000001e+00,   2.58152110e-02,   6.66425117e-04],\n",
        "        [  9.99999996e-01,   1.48232979e-02,   2.19730162e-04],\n",
        "        [  1.00000058e+00,   8.03109596e-03,   6.44985024e-05],\n",
        "        [  9.99998861e-01,   4.61971432e-03,   2.13417604e-05],\n",
        "        [  9.99998927e-01,   2.72644145e-03,   7.43348297e-06],\n",
        "        [  9.99998112e-01,   1.56837793e-03,   2.45980934e-06],\n",
        "        [  9.99994508e-01,   9.09763336e-04,   8.27669327e-07]]),\n",
        " 1000: array([[  9.99999953e-01,   4.51366423e-02,   2.03731648e-03],\n",
        "        [  9.99999880e-01,   2.62307790e-02,   6.88053767e-04],\n",
        "        [  1.00000006e+00,   1.41795559e-02,   2.01059805e-04],\n",
        "        [  9.99997686e-01,   8.38660497e-03,   7.03351430e-05],\n",
        "        [  9.99996513e-01,   4.48202838e-03,   2.00885784e-05],\n",
        "        [  9.99988795e-01,   2.73536864e-03,   7.48224162e-06],\n",
        "        [  9.99962442e-01,   1.37632697e-03,   1.89427592e-06]]),\n",
        " 3000: array([[  9.99999944e-01,   7.63855944e-02,   5.83475904e-03],\n",
        "        [  9.99999877e-01,   4.39220070e-02,   1.92914270e-03],\n",
        "        [  9.99999987e-01,   2.42027663e-02,   5.85773894e-04],\n",
        "        [  9.99998858e-01,   1.39258753e-02,   1.93930002e-04],\n",
        "        [  9.99995895e-01,   7.36582688e-03,   5.42554056e-05],\n",
        "        [  9.99989502e-01,   3.91027485e-03,   1.52902494e-05],\n",
        "        [  9.99965314e-01,   2.31761306e-03,   5.37133029e-06]]),\n",
        " 10000: array([[  1.00000021e+00,   1.40273126e-01,   1.96765499e-02],\n",
        "        [  1.00000054e+00,   8.02985090e-02,   6.44785054e-03],\n",
        "        [  1.00000316e+00,   4.41221002e-02,   1.94675973e-03],\n",
        "        [  1.00000662e+00,   2.49989468e-02,   6.24947340e-04],\n",
        "        [  1.00001629e+00,   1.37378640e-02,   1.88728908e-04],\n",
        "        [  1.00005085e+00,   7.82724600e-03,   6.12657799e-05],\n",
        "        [  1.00016945e+00,   3.22820018e-03,   1.04212764e-05]])}"
       ]
      }
     ],
     "prompt_number": 51
    },
    {
     "cell_type": "heading",
     "level": 3,
     "metadata": {},
     "source": [
      "Noise temperature"
     ]
    },
    {
     "cell_type": "code",
     "collapsed": false,
     "input": [
      "Tnlist = np.zeros((len(bwlist)-1,2))\n",
      "for k,df in enumerate(bwlist[1:]):\n",
      "    R = float(50)\n",
      "    P = float(-123)\n",
      "    P_watt = 10**-3 * 10 ** (P/10)\n",
      "    Vin = np.sqrt(8 * R * P_watt)\n",
      "    std = avgdata[df][0,1]\n",
      "    Kb = 1.38 * 10**-23\n",
      "    Tn = (std * Vin / 4.)**2 / (Kb * R * df * (np.pi / 2))\n",
      "    print df, std, Tn\n",
      "    Tnlist[k] = [df, Tn]"
     ],
     "language": "python",
     "metadata": {},
     "outputs": [
      {
       "output_type": "stream",
       "stream": "stdout",
       "text": [
        "3 0.00256326598579 25.3184512049\n",
        "10 0.00469282172627 25.4588717604\n",
        "30 0.00802335302074 24.8062769804\n",
        "100 0.0157640262169 28.7279964089\n",
        "300 0.0258152109623 25.6803620996\n",
        "1000 0.0451366423112 23.552094703\n",
        "3000 0.0763855944357 22.4839552132\n",
        "10000 0.140273126099 22.7467834059\n"
       ]
      }
     ],
     "prompt_number": 56
    },
    {
     "cell_type": "code",
     "collapsed": false,
     "input": [
      "plt.figure('Noise temperature versus bandwidth')\n",
      "plt.clf()\n",
      "plt.gca().get_xaxis().get_major_formatter().set_useOffset(False)\n",
      "plt.gca().get_yaxis().get_major_formatter().set_useOffset(False)\n",
      "plt.semilogx(Tnlist[:,0],Tnlist[:,1],'o-', label = 'bw: %d Hz' % bw)\n",
      "plt.xlabel('Bandwidth (Hz)')\n",
      "plt.ylabel('Noise temperature (K)')"
     ],
     "language": "python",
     "metadata": {},
     "outputs": [
      {
       "metadata": {},
       "output_type": "pyout",
       "prompt_number": 57,
       "text": [
        "<matplotlib.text.Text at 0x1b829320>"
       ]
      }
     ],
     "prompt_number": 57
    },
    {
     "cell_type": "heading",
     "level": 3,
     "metadata": {},
     "source": [
      "Pickle loading"
     ]
    },
    {
     "cell_type": "code",
     "collapsed": false,
     "input": [
      "picklefilepath = r'D:\\qtlab\\data\\IF_sweep\\IF_sweep.pickle'\n",
      "IF_data = np.load(picklefilepath,'r')[0]"
     ],
     "language": "python",
     "metadata": {},
     "outputs": [],
     "prompt_number": 10
    }
   ],
   "metadata": {}
  }
 ]
}