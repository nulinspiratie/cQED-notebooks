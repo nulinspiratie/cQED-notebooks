{
 "metadata": {
  "name": "",
  "signature": "sha256:89e38f2d84f4d61a302da5979059d5813c433db39b96354d55c9afb6ac9a1315"
 },
 "nbformat": 3,
 "nbformat_minor": 0,
 "worksheets": [
  {
   "cells": [
    {
     "cell_type": "heading",
     "level": 2,
     "metadata": {},
     "source": [
      "Settings"
     ]
    },
    {
     "cell_type": "code",
     "collapsed": false,
     "input": [
      "base_directory = r'D:/qtlab'\n",
      "ignore_resonators = ['02HDMSDRIE', '10HDMSDRIE2nd', '17HMDSDRIEOPT']"
     ],
     "language": "python",
     "metadata": {},
     "outputs": [],
     "prompt_number": 1
    },
    {
     "cell_type": "heading",
     "level": 2,
     "metadata": {},
     "source": [
      "Constants"
     ]
    },
    {
     "cell_type": "code",
     "collapsed": false,
     "input": [
      "hbar = 1.054571726e-34\n",
      "k_B = 1.3806488e-23"
     ],
     "language": "python",
     "metadata": {},
     "outputs": [],
     "prompt_number": 2
    },
    {
     "cell_type": "heading",
     "level": 2,
     "metadata": {},
     "source": [
      "Imports"
     ]
    },
    {
     "cell_type": "code",
     "collapsed": false,
     "input": [
      "%pylab\n",
      "import sys\n",
      "# sys.path.append('D:\\qtlab\\modules')\n",
      "# sys.path.append('D:\\qtlab\\source')\n",
      "import pickle\n",
      "import numpy as np\n",
      "import os\n",
      "\n",
      "from sympy.solvers import solve\n",
      "from sympy import Symbol\n",
      "from scipy.optimize import curve_fit\n",
      "import matplotlib\n",
      "import matplotlib as mpl\n",
      "import matplotlib.pyplot as plt\n",
      "mpl.rc('mathtext', fontset='stixsans',default='regular')\n",
      "mpl.rcParams['font.sans-serif'] = 'Arial', 'Arial', 'Avant Garde', 'Computer Modern Sans serif'"
     ],
     "language": "python",
     "metadata": {},
     "outputs": [
      {
       "output_type": "stream",
       "stream": "stdout",
       "text": [
        "Using matplotlib backend: GTKAgg\n",
        "Populating the interactive namespace from numpy and matplotlib\n"
       ]
      }
     ],
     "prompt_number": 3
    },
    {
     "cell_type": "code",
     "collapsed": false,
     "input": [
      "# These are the \"Tableau 20\" colors as RGB.  \n",
      "tableau20 = [(31, 119, 180), (174, 199, 232), (255, 127, 14), (255, 187, 120),  \n",
      "             (44, 160, 44), (152, 223, 138), (214, 39, 40), (255, 152, 150),  \n",
      "             (148, 103, 189), (197, 176, 213), (140, 86, 75), (196, 156, 148),  \n",
      "             (227, 119, 194), (247, 182, 210), (127, 127, 127), (199, 199, 199),  \n",
      "             (188, 189, 34), (219, 219, 141), (23, 190, 207), (158, 218, 229)]  \n",
      "  \n",
      "# Scale the RGB values to the [0, 1] range, which is the format matplotlib accepts.  \n",
      "for i in range(len(tableau20)):  \n",
      "    r, g, b = tableau20[i]  \n",
      "    tableau20[i] = (r / 255., g / 255., b / 255.)  "
     ],
     "language": "python",
     "metadata": {},
     "outputs": [],
     "prompt_number": 4
    },
    {
     "cell_type": "heading",
     "level": 2,
     "metadata": {},
     "source": [
      "Calibrations"
     ]
    },
    {
     "cell_type": "code",
     "collapsed": false,
     "input": [
      "def convert_power(freq, power):\n",
      "    '''\n",
      "    args: freq (Ghz), power (dBm), line_cal (freq,dBm), sma_vatt_cal (freq,dBm)\n",
      "    line_cal is the calibration from input line of the fridge to the mixing chamber\n",
      "    sma_vatt_cal is the calibration from the source up til the input of the fridge\n",
      "    '''\n",
      "    if freq >= 1e3:\n",
      "        freq /=1e9\n",
      "    line_freqs = line_cal[:,0]/1e9\n",
      "    line_ind = np.argmax(freq<=line_freqs)\n",
      "    sma_vatt_freqs = sma_vatt_cal[:,0]\n",
      "    sma_vatt_ind = np.argmax(freq<=sma_vatt_freqs)\n",
      "    ecco_freqs = ecco_cal[:,0]\n",
      "    ecco_ind = np.argmax(freq<=ecco_freqs)\n",
      "    lin1lin2_freqs = lin1lin2_cal[:,0]\n",
      "    lin1lin2_ind = np.argmax(freq<=lin1lin2_freqs)\n",
      "    \n",
      "    #Note power is the opposite of attenuation\n",
      "    line_power = line_cal[line_ind,1]\n",
      "    sma_vatt_power = sma_vatt_cal[sma_vatt_ind,1]\n",
      "    ecco_power = ecco_cal[ecco_ind, 1]\n",
      "    lin1lin2_power = lin1lin2_cal[lin1lin2_ind,1]\n",
      "    total_power = power + line_power + sma_vatt_power + ecco_power + lin1lin2_power/2\n",
      "    return total_power"
     ],
     "language": "python",
     "metadata": {},
     "outputs": [],
     "prompt_number": 5
    },
    {
     "cell_type": "code",
     "collapsed": false,
     "input": [
      "def get_photon_number(Pin, f, Ql, Qc, T):\n",
      "    #Calculates the number of photons present in a resonator\n",
      "    # input Pin, f, Ql, Qc, T in dBm, GHz,#,#,K\n",
      "    #Returns {n_P, n_Thermal}\n",
      "    #n_P is the number of photons present due to input power\n",
      "    #n_Thermal is the number of photons present due to thermal excitations\n",
      "    omega = 2.*np.pi*f*1e9\n",
      "    n_Thermal = 1./(np.exp(hbar*omega/k_B/T)-1.)\n",
      "    n_P = 4./hbar/omega**2*Ql**2/Qc*10**(Pin/10.)/1.e3\n",
      "    return({'n_P':n_P, 'n_Thermal':n_Thermal})"
     ],
     "language": "python",
     "metadata": {},
     "outputs": [],
     "prompt_number": 6
    },
    {
     "cell_type": "code",
     "collapsed": false,
     "input": [
      "def data_smoothing(x, N):\n",
      "    return np.convolve(np.array(N*[np.average(x[:N])]+x.tolist()+N*[np.average(x[-N:])]), np.ones((N,))/N)[(3*N/2-1):-3*N/2]"
     ],
     "language": "python",
     "metadata": {},
     "outputs": [],
     "prompt_number": 7
    },
    {
     "cell_type": "code",
     "collapsed": false,
     "input": [
      "#Load calibration settings\n",
      "resolution = .2 #GHz, for smoothing\n",
      "\n",
      "line_cal = np.loadtxt('D:\\qtlab\\data\\Set5\\calibration cooldown Maserati 07\\LIN2.dat',delimiter=';',skiprows=29,usecols=(0,1))\n",
      "\n",
      "calnpz = np.load('D:\\qtlab\\data\\Set5\\calibrations\\calibrations.npz')\n",
      "sma_vatt_cal = np.array([calnpz['f'],calnpz['single_sma_vatt']]).transpose()\n",
      "\n",
      "ecco_cold_cal = np.load(r'D:\\qtlab\\data\\Set5\\Eccosorb calibrations\\20141003_ECCO3COLD.npz')\n",
      "ecco_rt_cal = np.load(r'D:\\qtlab\\data\\Set5\\Eccosorb calibrations\\20141003_ECCO3RT.npz')\n",
      "ecco_cal = np.array([ecco_rt_cal['f']/1e9, ecco_cold_cal['s21']/2 - ecco_rt_cal['s21']/2]).transpose()\n",
      "\n",
      "df = ecco_cal[1,0]-ecco_cal[0,0]\n",
      "ecco_smooth_cal = data_smoothing(ecco_cal[:,1],int(resolution/df))\n",
      "ecco_cal[:,1] = ecco_smooth_cal\n",
      "\n",
      "\n",
      "\n",
      "lin1lin2_rt_cal = np.loadtxt(r'K:\\ns\\qt\\Transmon\\Fridges\\LaMaserati\\Wiring Characterisation\\140915_roundtrips_during_cooldown\\S21_L01_L02_1630_beforeprecool.dat',delimiter=';',skiprows = 29,usecols=(0,1))\n",
      "lin1lin2_1K_cal = np.loadtxt(r'K:\\ns\\qt\\Transmon\\Fridges\\LaMaserati\\Wiring Characterisation\\140915_roundtrips_during_cooldown\\S21_L01_L02_140917_1311_Tmclo1060mK.dat',delimiter=';',skiprows = 29,usecols=(0,1))\n",
      "lin1lin2_cal = np.array([lin1lin2_1K_cal[:,0]/1e9,lin1lin2_1K_cal[:,1] - lin1lin2_rt_cal[:,1]]).transpose()\n",
      "\n",
      "df = lin1lin2_cal[1,0]-lin1lin2_cal[0,0]\n",
      "lin1lin2_smooth_cal = data_smoothing(lin1lin2_cal[:,1],int(resolution/df))\n",
      "lin1lin2_cal[:,1]=lin1lin2_smooth_cal"
     ],
     "language": "python",
     "metadata": {},
     "outputs": [],
     "prompt_number": 8
    },
    {
     "cell_type": "heading",
     "level": 2,
     "metadata": {},
     "source": [
      "Data loading"
     ]
    },
    {
     "cell_type": "code",
     "collapsed": false,
     "input": [
      "def load_data(path):\n",
      "    pickledata = pickle.load(open(os.path.join(path,'all_results.pickle'),'rb'))\n",
      "    reslst={'resdata':[],'resfreqs':[],'resnames':[]}\n",
      "    \n",
      "    for resname, res in pickledata['resname'].items():\n",
      "        if resname not in ignore_resonators:\n",
      "            reslst['resnames'] += [resname]\n",
      "\n",
      "            #Stores resonance frequencies (for highest power)\n",
      "            resfreq = res['pow'][res['pow'].keys()[0]]['fitpars'][1]\n",
      "            #check if resonance frequencies are in GHz\n",
      "            reslst['resfreqs'] += [resfreq]\n",
      "\n",
      "            resdict = {'power':[], 'input_power':[], 'f0':[], 'n_photon':[], 'n_drive':[], 'n_thermal':[], 'Qi':[], 'Qc':[], 'Ql':[], 'errQi':[], 'errQc':[], 'errQl':[]}\n",
      "            for power, powerdata in sorted(res['pow'].items()):\n",
      "                input_power = convert_power(resfreq, power)\n",
      "                f0 = powerdata['fitpars'][1]\n",
      "                Qi, Qc, Ql = powerdata['Qicl']\n",
      "                errQi, errQc, errQl = powerdata['errQicl']\n",
      "                temperature = powerdata['T']/1000. #In Kelvin\n",
      "                n_drive, n_thermal = map(get_photon_number(input_power, resfreq/1.e9, Ql, Qc, temperature).get, ['n_P', 'n_Thermal'])\n",
      "                n_photon = n_drive + n_thermal\n",
      "\n",
      "                for item in resdict.keys():\n",
      "                    resdict[item] += [eval(item)]\n",
      "            reslst['resdata'] += [resdict]\n",
      "    return reslst"
     ],
     "language": "python",
     "metadata": {},
     "outputs": [],
     "prompt_number": 9
    },
    {
     "cell_type": "code",
     "collapsed": false,
     "input": [
      "def merge_data(reslst1, reslst2):\n",
      "    reslst = reslst1.copy()\n",
      "    for k, resname in enumerate(reslst2['resnames']):\n",
      "        #print 'resonator',resname\n",
      "        #print 'reslst',reslst\n",
      "        if resname not in reslst['resnames']:\n",
      "            #print 'not merging for resonator',resname\n",
      "            reslst['resnames'] += [resname]\n",
      "            reslst['resfreqs'] += [reslst2['resfreqs'][k]]\n",
      "            reslst['resdata'] += [reslst2['resdata'][k]]\n",
      "        else: #Perform merge\n",
      "            resind = reslst['resnames'].index(resname)\n",
      "            #print 'resind',resind\n",
      "            #print reslst['resdata']\n",
      "            for l, power in enumerate(reslst2['resdata'][k]['power']):\n",
      "                if power not in reslst['resdata'][resind]['power']:\n",
      "                    for key in reslst['resdata'][resind].keys():\n",
      "                        reslst['resdata'][resind][key] += [reslst2['resdata'][k][key][l]]\n",
      "            #Sorting\n",
      "            sortorder = np.argsort(reslst['resdata'][resind]['power'])\n",
      "            for key, value in reslst['resdata'][resind].items():\n",
      "                reslst['resdata'][resind][key] = np.array(value)[sortorder].tolist()\n",
      "    return reslst"
     ],
     "language": "python",
     "metadata": {},
     "outputs": [],
     "prompt_number": 10
    },
    {
     "cell_type": "code",
     "collapsed": false,
     "input": [
      "def load_merge_data(path, reslst=None):\n",
      "\n",
      "    reslst_load = load_data(path)\n",
      "    print '{:<70}: Resonators: {}'.format(path,reslst_load['resnames'])\n",
      "    if reslst != None and reslst != {}:\n",
      "        reslst = merge_data(reslst, reslst_load)\n",
      "    else:\n",
      "        reslst = reslst_load\n",
      "    return reslst"
     ],
     "language": "python",
     "metadata": {},
     "outputs": [],
     "prompt_number": 11
    },
    {
     "cell_type": "markdown",
     "metadata": {},
     "source": [
      "Resonator info\n",
      "\n",
      "2. name: 02HDMSDRIE:\t f_res: 1.83 GHz\n",
      "3. name: 03HDMSDRIE:\t f_res: 2.75 GHz\n",
      "0. name: 04HDMSDRIE:\t f_res: 3.68 GHz\n",
      "1. name: 05HDMSDRIE:\t f_res: 4.57 GHz\n",
      "5. name: 10HDMSDRIE2nd:\t f_res: 5.51 GHz\n",
      "4. name: 06HDMSDRIE:\t f_res: 6.41 GHz\n",
      "6. name: 17HMDSDRIEOPT:\t f_res: 9.17 GHz"
     ]
    },
    {
     "cell_type": "heading",
     "level": 2,
     "metadata": {},
     "source": [
      "Plotting quality factor versus photon number"
     ]
    },
    {
     "cell_type": "code",
     "collapsed": false,
     "input": [
      "ignore_resonators = ['10HDMSDRIE2nd']#['02HDMSDRIE', '10HDMSDRIE2nd', '17HMDSDRIEOPT']\n",
      "folders = [\n",
      "    r'data\\HDMS_Set4_ANISO\\20141221\\5_set4_LaMaserati',  #Resonators 05                  powers [-30:-64:-2]\n",
      "    r'data\\HDMS_Set4_ANISO\\20141221\\6_set4_LaMaserati',  #Resonators 05                  powers [-66:-76:-2] + [-80:-100:-4]\n",
      "    r'data\\HDMS_Set4_ANISO\\20141222\\11_set4_LaMaserati' #Resonators 04                  powers [-30:-76:-2] + [-80:-104:-4]\n",
      "]\n",
      "resonator_data = {}\n",
      "for folder in folders:\n",
      "    folder = os.path.join(base_directory, folder)\n",
      "    resonator_data = load_merge_data(folder, resonator_data)\n",
      "\n",
      "ignore_resonators = ['10HDMSDRIE2nd', '04HDMSDRIE', '05HDMSDRIE']#['02HDMSDRIE', '10HDMSDRIE2nd', '17HMDSDRIEOPT', '04HDMSDRIE', '05HDMSDRIE']\n",
      "folders = [\n",
      "    r'data\\HDMS_Set4_ANISO\\20141124\\4_set4_LaMaserati',  #Resonators 02, 03, 04, 05      powers [-30:-74:-2]\n",
      "    r'data\\HDMS_Set4_ANISO\\20141126\\2_set4_LaMaserati',  #Resonators 06, 10              powers [-30:-74:-2]\n",
      "    r'data\\HDMS_Set4_ANISO\\20141127\\2_set4_LaMaserati',  #Resonators 02, 03              powers [-80:-100:-2]\n",
      "    r'data\\HDMS_Set4_ANISO\\20141127\\26_set4_LaMaserati', #Resonators 04, 05, 06, 10      powers [-80:-100:-2]\n",
      "    r'data\\HDMS_Set4_ANISO\\20141128\\02HDMSDRIE',         #Resonators 02                  powers [-110]\n",
      "    r'data\\HDMS_Set4_ANISO\\20141128\\04HDMSDRIE',         #Resonators 04                  powers [-110]\n",
      "    r'data\\HDMS_Set4_ANISO\\20141128\\17HMDSDRIEOPT',      #Resonators 17                  powers [-30:-74:-2]\n",
      "    r'data\\HDMS_Set4_ANISO\\20141129\\10HDMSDRIE2nd',      #Resonator 10                   powers [-66:-74:-2]\n",
      "    r'data\\HDMS_Set4_ANISO\\20141129\\03HDMSDRIE',         #Resonators 03                  powers [-110]\n",
      "    r'data\\HDMS_Set4_ANISO\\20141202\\10HDMSDRIE2nd',      #Resonators 10                  powers [-94]\n",
      "    r'data\\HDMS_Set4_ANISO\\20141201\\set4_LaMaserati',    #Resonators 03, 04, 05, 10      powers [-84:-94:-10]\n",
      "    r'data\\HDMS_Set4_ANISO\\20141202\\05HDMSDRIE',         #Resonators 05                  powers [-76]\n",
      "    r'data\\HDMS_Set4_ANISO\\20141202\\04HDMSDRIE',         #Resonators 04                  powers [-104]\n",
      "    r'data\\HDMS_Set4_ANISO\\20141203\\17HMDSDRIEOPT',      #Resonators 17                  powers [-84:-94:-10]\n",
      "    r'data\\HDMS_Set4_ANISO\\20141204\\06HDMSDRIE',         #Resonators 06                  powers [-84]\n",
      "    r'data\\HDMS_Set4_ANISO\\20141205\\17HMDSDRIEOPT'       #Resonators 17                  powers [-80]\n",
      "]\n",
      "for folder in folders:\n",
      "    folder = os.path.join(base_directory, folder)\n",
      "    resonator_data = load_merge_data(folder, resonator_data)\n",
      "\n",
      "ignore_resonators = ['02HDMSDRIE', '10HDMSDRIE2nd', '17HMDSDRIEOPT']\n",
      "\n",
      "#Remove first element from 06HDMSDRIE because it is below single photon level\n",
      "for resonator in ['06HDMSDRIE', '17HMDSDRIEOPT']:\n",
      "    index = resonator_data['resnames'].index(resonator)\n",
      "    for attr, val in resonator_data['resdata'][index].items():\n",
      "        val.pop(0)"
     ],
     "language": "python",
     "metadata": {},
     "outputs": [
      {
       "output_type": "stream",
       "stream": "stdout",
       "text": [
        "D:/qtlab\\data\\HDMS_Set4_ANISO\\20141221\\5_set4_LaMaserati              : Resonators: ['05HDMSDRIE']\n",
        "D:/qtlab\\data\\HDMS_Set4_ANISO\\20141221\\6_set4_LaMaserati              : Resonators: ['05HDMSDRIE']\n",
        "D:/qtlab\\data\\HDMS_Set4_ANISO\\20141222\\11_set4_LaMaserati             : Resonators: ['04HDMSDRIE']"
       ]
      },
      {
       "output_type": "stream",
       "stream": "stdout",
       "text": [
        "\n",
        "D:/qtlab\\data\\HDMS_Set4_ANISO\\20141124\\4_set4_LaMaserati              : Resonators: ['02HDMSDRIE', '03HDMSDRIE']"
       ]
      },
      {
       "output_type": "stream",
       "stream": "stdout",
       "text": [
        "\n",
        "D:/qtlab\\data\\HDMS_Set4_ANISO\\20141126\\2_set4_LaMaserati              : Resonators: ['06HDMSDRIE']"
       ]
      },
      {
       "output_type": "stream",
       "stream": "stdout",
       "text": [
        "\n",
        "D:/qtlab\\data\\HDMS_Set4_ANISO\\20141127\\2_set4_LaMaserati              : Resonators: ['02HDMSDRIE', '03HDMSDRIE']\n",
        "D:/qtlab\\data\\HDMS_Set4_ANISO\\20141127\\26_set4_LaMaserati             : Resonators: ['06HDMSDRIE']"
       ]
      },
      {
       "output_type": "stream",
       "stream": "stdout",
       "text": [
        "\n",
        "D:/qtlab\\data\\HDMS_Set4_ANISO\\20141128\\02HDMSDRIE                     : Resonators: ['02HDMSDRIE']\n",
        "D:/qtlab\\data\\HDMS_Set4_ANISO\\20141128\\04HDMSDRIE                     : Resonators: []\n",
        "D:/qtlab\\data\\HDMS_Set4_ANISO\\20141128\\17HMDSDRIEOPT                  : Resonators: ['17HMDSDRIEOPT']"
       ]
      },
      {
       "output_type": "stream",
       "stream": "stdout",
       "text": [
        "\n",
        "D:/qtlab\\data\\HDMS_Set4_ANISO\\20141129\\10HDMSDRIE2nd                  : Resonators: []\n",
        "D:/qtlab\\data\\HDMS_Set4_ANISO\\20141129\\03HDMSDRIE                     : Resonators: ['03HDMSDRIE']\n",
        "D:/qtlab\\data\\HDMS_Set4_ANISO\\20141202\\10HDMSDRIE2nd                  : Resonators: []\n",
        "D:/qtlab\\data\\HDMS_Set4_ANISO\\20141201\\set4_LaMaserati                : Resonators: ['03HDMSDRIE']\n",
        "D:/qtlab\\data\\HDMS_Set4_ANISO\\20141202\\05HDMSDRIE                     : Resonators: []\n",
        "D:/qtlab\\data\\HDMS_Set4_ANISO\\20141202\\04HDMSDRIE                     : Resonators: []"
       ]
      },
      {
       "output_type": "stream",
       "stream": "stdout",
       "text": [
        "\n",
        "D:/qtlab\\data\\HDMS_Set4_ANISO\\20141203\\17HMDSDRIEOPT                  : Resonators: ['17HMDSDRIEOPT']\n",
        "D:/qtlab\\data\\HDMS_Set4_ANISO\\20141204\\06HDMSDRIE                     : Resonators: ['06HDMSDRIE']\n",
        "D:/qtlab\\data\\HDMS_Set4_ANISO\\20141205\\17HMDSDRIEOPT                  : Resonators: ['17HMDSDRIEOPT']\n"
       ]
      }
     ],
     "prompt_number": 12
    },
    {
     "cell_type": "code",
     "collapsed": false,
     "input": [
      "idx = 3\n",
      "print resonator_data['resnames'][idx]\n",
      "print resonator_data['resfreqs'][idx]\n",
      "idx_power = resonator_data['resdata'][idx]['power'].index(-60)\n",
      "print resonator_data['resdata'][idx]['n_photon'][idx_power]"
     ],
     "language": "python",
     "metadata": {},
     "outputs": [
      {
       "output_type": "stream",
       "stream": "stdout",
       "text": [
        "03HDMSDRIE\n",
        "2752463932.92\n",
        "498726.110791\n"
       ]
      }
     ],
     "prompt_number": 13
    },
    {
     "cell_type": "code",
     "collapsed": false,
     "input": [
      "xattr = 'n_photon'\n",
      "yattr = 'Qi'\n",
      "yerr = 'errQi'\n",
      "\n",
      "plt.figure('%s_vs_%s'%(yattr,xattr),figsize = (6,4))\n",
      "plt.gca().set_color_cycle(tableau20)#[colormap(i) for i in np.linspace(0, 0.9, len(reslst['resfreqs']))])\n",
      "\n",
      "for k in np.argsort(resonator_data['resfreqs']):\n",
      "    resfreq = resonator_data['resfreqs'][k] / 1e9\n",
      "    plt.errorbar(resonator_data['resdata'][k][xattr], resonator_data['resdata'][k][yattr],\n",
      "            ms = 5, label = '%.2f GHz'%resfreq, yerr=resonator_data['resdata'][k][yerr], fmt='o-')\n",
      "\n",
      "plt.xlabel(r'$\\langle \\mathit{n}_\\mathrm{ph} \\rangle$', labelpad = -2)\n",
      "plt.ylabel(r'Intrinsic quality factor', labelpad = 0)\n",
      "plot_legend = plt.legend(loc=2, fontsize = 'small', numpoints= 1)\n",
      "plt.xscale('log')\n",
      "plt.xlim((.2,10**7))\n",
      "plt.yscale('log')\n",
      "plt.ylim(10**6,10**7)\n",
      "plt.tight_layout()\n",
      "plt.savefig(r'D:\\sasaad\\Three-month-evaluation\\Figures\\Qi_vs_n_photon')"
     ],
     "language": "python",
     "metadata": {},
     "outputs": [],
     "prompt_number": 63
    },
    {
     "cell_type": "heading",
     "level": 2,
     "metadata": {},
     "source": [
      "Plotting temperature dependence"
     ]
    },
    {
     "cell_type": "code",
     "collapsed": false,
     "input": [
      "temperatures = [90,135,180,250,325,400]\n",
      "temperatures_folders = []\n",
      "\n",
      "#90mK\n",
      "temperatures_folders.append([r'data\\HDMS_Set4_ANISO\\20141210\\2_03HDMSDRIE',\n",
      "r'data\\HDMS_Set4_ANISO\\20141211\\03HDMSDRIE'])\n",
      "\n",
      "#135 mK\n",
      "temperatures_folders.append([r'data\\HDMS_Set4_ANISO\\20141213\\03HDMSDRIE'])\n",
      "\n",
      "#180mK\n",
      "temperatures_folders.append([r'data\\HDMS_Set4_ANISO\\20141212\\3_03HDMSDRIE'])\n",
      "\n",
      "#250mK\n",
      "temperatures_folders.append([r'data\\HDMS_Set4_ANISO\\20141209\\8_set4_LaMaserati',\n",
      "        r'data\\HDMS_Set4_ANISO\\20141209\\03HDMSDRIE',\n",
      "        r'data\\HDMS_Set4_ANISO\\20141211\\6_03HDMSDRIE'])\n",
      "\n",
      "#325mK\n",
      "temperatures_folders.append([r'data\\HDMS_Set4_ANISO\\20141212\\4_03HDMSDRIE'])\n",
      "\n",
      "#400mK\n",
      "temperatures_folders.append([r'data\\HDMS_Set4_ANISO\\20141212\\5_03HDMSDRIE'])\n",
      "\n",
      "resonator_temp_data = {}\n",
      "for temperature_index, temperature_folders in enumerate(temperatures_folders):\n",
      "    temperature = temperatures[temperature_index]\n",
      "    resonator_temp_data[temperature] = {}\n",
      "    for folder in temperature_folders:\n",
      "        folder = os.path.join(base_directory, folder)\n",
      "        resonator_temp_data[temperature] = load_merge_data(folder, resonator_temp_data[temperature])"
     ],
     "language": "python",
     "metadata": {},
     "outputs": [
      {
       "output_type": "stream",
       "stream": "stdout",
       "text": [
        "D:/qtlab\\data\\HDMS_Set4_ANISO\\20141210\\2_03HDMSDRIE                   : Resonators: ['03HDMSDRIE']\n",
        "D:/qtlab\\data\\HDMS_Set4_ANISO\\20141211\\03HDMSDRIE                     : Resonators: ['03HDMSDRIE']\n",
        "D:/qtlab\\data\\HDMS_Set4_ANISO\\20141213\\03HDMSDRIE                     : Resonators: ['03HDMSDRIE']"
       ]
      },
      {
       "output_type": "stream",
       "stream": "stdout",
       "text": [
        "\n",
        "D:/qtlab\\data\\HDMS_Set4_ANISO\\20141212\\3_03HDMSDRIE                   : Resonators: ['03HDMSDRIE']"
       ]
      },
      {
       "output_type": "stream",
       "stream": "stdout",
       "text": [
        "\n",
        "D:/qtlab\\data\\HDMS_Set4_ANISO\\20141209\\8_set4_LaMaserati              : Resonators: ['03HDMSDRIE']"
       ]
      },
      {
       "output_type": "stream",
       "stream": "stdout",
       "text": [
        "\n",
        "D:/qtlab\\data\\HDMS_Set4_ANISO\\20141209\\03HDMSDRIE                     : Resonators: ['03HDMSDRIE']\n",
        "D:/qtlab\\data\\HDMS_Set4_ANISO\\20141211\\6_03HDMSDRIE                   : Resonators: ['03HDMSDRIE']"
       ]
      },
      {
       "output_type": "stream",
       "stream": "stdout",
       "text": [
        "\n",
        "D:/qtlab\\data\\HDMS_Set4_ANISO\\20141212\\4_03HDMSDRIE                   : Resonators: ['03HDMSDRIE']"
       ]
      },
      {
       "output_type": "stream",
       "stream": "stdout",
       "text": [
        "\n",
        "D:/qtlab\\data\\HDMS_Set4_ANISO\\20141212\\5_03HDMSDRIE                   : Resonators: ['03HDMSDRIE']"
       ]
      },
      {
       "output_type": "stream",
       "stream": "stdout",
       "text": [
        "\n"
       ]
      }
     ],
     "prompt_number": 35
    },
    {
     "cell_type": "code",
     "collapsed": false,
     "input": [
      "xattr = 'n_photon'\n",
      "yattr = 'Qi'\n",
      "yerr = 'errQi'\n",
      "\n",
      "plt.figure('%s_vs_%s_temperature_dependence'%(yattr,xattr),figsize = (6,4))\n",
      "plt.gca().set_color_cycle(tableau20)#[colormap(i) for i in np.linspace(0, 0.9, len(reslst['resfreqs']))])\n",
      "\n",
      "resonator_index = resonator_data['resnames'].index('03HDMSDRIE')\n",
      "plt.errorbar(resonator_data['resdata'][resonator_index][xattr], resonator_data['resdata'][resonator_index][yattr],\n",
      "        ms = 5, label = '15 mK', yerr=resonator_data['resdata'][resonator_index][yerr], fmt='o-')\n",
      "for temperature, temperature_data in sorted(resonator_temp_data.items()):\n",
      "    plt.errorbar(temperature_data['resdata'][0][xattr], temperature_data['resdata'][0][yattr],\n",
      "            ms = 5, label = '%s mK' % temperature, yerr=temperature_data['resdata'][0][yerr], fmt='o-')    \n",
      "\n",
      "\n",
      "plt.xlabel(r'$\\langle \\mathit{n}_\\mathrm{ph} \\rangle$', labelpad = -2)\n",
      "plt.ylabel(r'Intrinsic quality factor', labelpad = 0)\n",
      "plot_legend = plt.legend(loc=4, fontsize = 'small', numpoints= 1)\n",
      "plt.xscale('log')\n",
      "plt.yscale('log')\n",
      "plt.xlim(1,10**7)\n",
      "plt.ylim(1.8*10**6,1.2*10**7)\n",
      "plt.tight_layout()\n"
     ],
     "language": "python",
     "metadata": {},
     "outputs": [],
     "prompt_number": 61
    },
    {
     "cell_type": "code",
     "collapsed": false,
     "input": [
      "plt.savefig(r'D:\\sasaad\\Three-month-evaluation\\Figures\\Qi_vs_n_photon_temperature_dependence.png')"
     ],
     "language": "python",
     "metadata": {},
     "outputs": [],
     "prompt_number": 62
    },
    {
     "cell_type": "code",
     "collapsed": false,
     "input": [],
     "language": "python",
     "metadata": {},
     "outputs": []
    }
   ],
   "metadata": {}
  }
 ]
}