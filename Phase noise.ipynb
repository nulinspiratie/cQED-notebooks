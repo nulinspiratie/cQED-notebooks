{
 "metadata": {
  "name": "",
  "signature": "sha256:5e9f6480970cac054e942386f543bfb93b4f5f2865a41482d5e13446866c8770"
 },
 "nbformat": 3,
 "nbformat_minor": 0,
 "worksheets": [
  {
   "cells": [
    {
     "cell_type": "code",
     "collapsed": false,
     "input": [
      "import numpy as np\n",
      "import math\n",
      "import lmfit\n",
      "from matplotlib import pyplot as plt\n",
      "%pylab"
     ],
     "language": "python",
     "metadata": {},
     "outputs": [
      {
       "output_type": "stream",
       "stream": "stdout",
       "text": [
        "Using matplotlib backend: GTKAgg\n",
        "Populating the interactive namespace from numpy and matplotlib\n"
       ]
      }
     ],
     "prompt_number": 3
    },
    {
     "cell_type": "markdown",
     "metadata": {},
     "source": [
      "To determine the effect of sweep and point averaging on slow phase noise, we look at the effect of sweeping around a resonator. We simulate this by having a 'flipped' lorentzian that is evolving in the IQ-plane."
     ]
    },
    {
     "cell_type": "code",
     "collapsed": false,
     "input": [
      "lorentzian = lmfit.models.lorentzian"
     ],
     "language": "python",
     "metadata": {},
     "outputs": [],
     "prompt_number": 4
    },
    {
     "cell_type": "code",
     "collapsed": false,
     "input": [
      "def lorentzian_list(phi):\n",
      "    t = np.linspace(-10,10,201)\n",
      "    ymax = lorentzian(0,1,0,1)\n",
      "    y = 1-lorentzian(t,1,0,1)/ymax\n",
      "    y = np.exp( (t + phi) * 1.j / (np.pi)) * y\n",
      "    return y"
     ],
     "language": "python",
     "metadata": {},
     "outputs": [],
     "prompt_number": 6
    },
    {
     "cell_type": "code",
     "collapsed": false,
     "input": [
      "y1 = lorentzian_list(0)\n",
      "y2 = lorentzian_list(3)\n",
      "y3 = lorentzian_list(5)\n",
      "ylist = [y1, y2, y3]\n",
      "ymean = np.mean(ylist,axis=0)"
     ],
     "language": "python",
     "metadata": {},
     "outputs": [],
     "prompt_number": 9
    },
    {
     "cell_type": "code",
     "collapsed": false,
     "input": [
      "plt.clf()\n",
      "for k, y in enumerate(ylist):\n",
      "    plt.plot(y.real,y.imag, label = k)\n",
      "plt.plot(ymean.real, ymean.imag, label = 'mean')\n",
      "plt.legend()\n",
      "plt.xlim((-1,1))"
     ],
     "language": "python",
     "metadata": {},
     "outputs": [
      {
       "metadata": {},
       "output_type": "pyout",
       "prompt_number": 10,
       "text": [
        "(-1, 1)"
       ]
      }
     ],
     "prompt_number": 10
    },
    {
     "cell_type": "heading",
     "level": 1,
     "metadata": {},
     "source": [
      "Determining the phase from multiplication by sine and cosine"
     ]
    },
    {
     "cell_type": "code",
     "collapsed": false,
     "input": [
      "phi_lst = np.arange(0,2*pi,0.1)\n",
      "sine_lst = np.zeros(len(phi_lst))\n",
      "cosine_lst = np.zeros(len(phi_lst))\n",
      "for k, phi in enumerate(phi_lst):\n",
      "    x = np.arange(0,10*np.pi,0.1)\n",
      "    y = np.sin(phi + x)\n",
      "#     plt.figure('Multiply by sine and cosine',figsize=(12,6))\n",
      "#     plt.plot(x,y)\n",
      "    sine_lst[k] = np.mean(y * np.sin(x))\n",
      "    cosine_lst[k] = np.mean(y * np.cos(x))\n",
      "#     print 'Sine:  {:>8.2g}'.format(sine_sum)\n",
      "#     print 'Cosine:{:>8.2g}'.format(cosine_sum)\n",
      "plt.figure('Multiply by sine and cosine',figsize=(12,6))\n",
      "#plt.plot(phi_lst, sine_lst,label='sine')\n",
      "plt.plot(phi_lst,cosine_lst, label = 'cosine')\n",
      "plt.plot(phi_lst, .5*np.sin(phi_lst))\n",
      "plt.legend()\n",
      "plt.plot()"
     ],
     "language": "python",
     "metadata": {},
     "outputs": [
      {
       "metadata": {},
       "output_type": "pyout",
       "prompt_number": 26,
       "text": [
        "[]"
       ]
      }
     ],
     "prompt_number": 26
    },
    {
     "cell_type": "code",
     "collapsed": false,
     "input": [
      "plt.plot(np.sin(phi_lst)*np.sin(phi_lst))"
     ],
     "language": "python",
     "metadata": {},
     "outputs": [
      {
       "metadata": {},
       "output_type": "pyout",
       "prompt_number": 28,
       "text": [
        "[<matplotlib.lines.Line2D at 0x13ff45c0>]"
       ]
      }
     ],
     "prompt_number": 28
    },
    {
     "cell_type": "code",
     "collapsed": false,
     "input": [],
     "language": "python",
     "metadata": {},
     "outputs": []
    }
   ],
   "metadata": {}
  }
 ]
}