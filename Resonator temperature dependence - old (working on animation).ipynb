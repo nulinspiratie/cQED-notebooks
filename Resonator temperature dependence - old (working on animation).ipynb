{
 "metadata": {
  "name": "",
  "signature": "sha256:dbf4f94ea006dc3a59795a0527c8cb8154d16457bfcbacfe7befae79fc152b08"
 },
 "nbformat": 3,
 "nbformat_minor": 0,
 "worksheets": [
  {
   "cells": [
    {
     "cell_type": "code",
     "collapsed": false,
     "input": [
      "import numpy as np\n",
      "from matplotlib import pyplot as plt\n",
      "from matplotlib import animation\n",
      "import os\n",
      "import h5py as h5\n",
      "import sys\n",
      "import cmath\n",
      "import lmfit\n",
      "\n",
      "if os.path.exists('D:/qtlab'):\n",
      "    sys.path.append('D:/qtlab/modules')\n",
      "    sys.path.append('D:/qtlab/source')\n",
      "    from utils import *\n",
      "    print 'Imported QTLab, not PycQED'\n",
      "elif os.path.exists('D:/PycQED'):\n",
      "    sys.path.append('D:/PycQED/modules')\n",
      "    sys.path.append('D:/PycQED/qtlab/source')\n",
      "elif os.path.exists('C:/PycQED'):\n",
      "    sys.path.append('C:/PycQED/modules')\n",
      "    sys.path.append('C:/PycQED/qtlab/source')\n",
      "else:\n",
      "    raise NameError('Cannot find PycQED directory')\n",
      "# from utils import *\n",
      "try:\n",
      "    import analysis.fitting_models as fm\n",
      "    SlopedHangerModel = fm.SlopedHangerModel\n",
      "except:\n",
      "    pass\n",
      "%pylab"
     ],
     "language": "python",
     "metadata": {},
     "outputs": [
      {
       "output_type": "stream",
       "stream": "stdout",
       "text": [
        "Imported QTLab, not PycQED\n",
        "Using matplotlib backend: GTKAgg\n",
        "Populating the interactive namespace from numpy and matplotlib\n"
       ]
      },
      {
       "output_type": "stream",
       "stream": "stderr",
       "text": [
        "WARNING: pylab import has clobbered these variables: ['allclose']\n",
        "`%matplotlib` prevents importing * from pylab and numpy\n"
       ]
      }
     ],
     "prompt_number": 3
    },
    {
     "cell_type": "code",
     "collapsed": false,
     "input": [
      "path = r'D:\\qtlab\\data\\VNA_T_dependence\\data'\n",
      "if not os.path.exists(path):\n",
      "    path = r'C:\\PycQED\\data\\VNA_T_dependence\\data'\n",
      "    if not os.path.exists(path):\n",
      "        raise NameError('Cannot find data')"
     ],
     "language": "python",
     "metadata": {},
     "outputs": [],
     "prompt_number": 4
    },
    {
     "cell_type": "code",
     "collapsed": false,
     "input": [
      "filenames = os.listdir(path)\n",
      "for k, filename in enumerate(filenames):\n",
      "    if filename[:6] == '141527': #Point where power was changed to -60\n",
      "        break\n",
      "filenames = filenames[k:]\n",
      "\n",
      "filepath = os.path.join(path,filenames[k])\n",
      "data=h5.File(filepath,'r')\n",
      "freq = data['Experimental_Data']['Frequency'].value\n",
      "fmin = freq[0]\n",
      "fmax = freq[-1]"
     ],
     "language": "python",
     "metadata": {},
     "outputs": [],
     "prompt_number": 5
    },
    {
     "cell_type": "heading",
     "level": 2,
     "metadata": {},
     "source": [
      "Creating temperature plots"
     ]
    },
    {
     "cell_type": "code",
     "collapsed": false,
     "input": [
      "for filename in filenames:\n",
      "    filepath = os.path.join(path,filename)\n",
      "    if os.path.exists(filepath):\n",
      "        data=h5.File(filepath,'r')\n",
      "    else:\n",
      "        raise NameError('Data file not found!')\n",
      "    freq = data['Experimental_Data']['Frequency'].value\n",
      "    S21 = data['Experimental_Data']['S21 (comp)'].value\n",
      "\n",
      "    fres = fit_S21_resonance_complex(freq,S21)\n",
      "    Qi = fres['fitparsobj']['Qi'].value\n",
      "    f0 = fres['fitparsobj']['f0'].value\n",
      "    if 'temperature' in data['Experimental_Data'].keys():\n",
      "        temperature = data['Experimental_Data']['temperature'].value\n",
      "        self._temperature += [temperature]\n",
      "        self._Qi += [Qi]\n",
      "        self._f0 += [f0]\n",
      "\n",
      "    self.lineresonator.set_data(freq, np.abs(S21))\n",
      "    self.lineresonatorfit.set_data(freq, np.abs(fres['fit']))"
     ],
     "language": "python",
     "metadata": {},
     "outputs": [
      {
       "ename": "IndentationError",
       "evalue": "expected an indented block (<ipython-input-8-fb2b01e1ee18>, line 2)",
       "output_type": "pyerr",
       "traceback": [
        "\u001b[1;36m  File \u001b[1;32m\"<ipython-input-8-fb2b01e1ee18>\"\u001b[1;36m, line \u001b[1;32m2\u001b[0m\n\u001b[1;33m    filepath = os.path.join(path,filename)\u001b[0m\n\u001b[1;37m           ^\u001b[0m\n\u001b[1;31mIndentationError\u001b[0m\u001b[1;31m:\u001b[0m expected an indented block\n"
       ]
      }
     ],
     "prompt_number": 8
    },
    {
     "cell_type": "heading",
     "level": 2,
     "metadata": {},
     "source": [
      "Fitting"
     ]
    },
    {
     "cell_type": "code",
     "collapsed": false,
     "input": [
      "def hanger_func_complex(x, params):\n",
      "    '''\n",
      "    THis is THE hanger fitting function for fitting normalized hanger  (no offset)\n",
      "    x,x0,Q,Qe,A,theta\n",
      "    S21 = A*(1-Q/Q_c*exp(1.j*theta)/(1+2.j*Q(x-x0)/x0)\n",
      "    where 1/Qi = 1/Q - Re{exp(1.j*theta)/Qc}\n",
      "    '''\n",
      "\n",
      "    (f0,Q,Qe,A,theta) = (param['f0'].value,\n",
      "                        param['Q'].value,\n",
      "                        param['Qe'].value,\n",
      "                        param['A'].value,\n",
      "                        param['theta'].value)\n",
      "\n",
      "    S21 = A*(1.-Q/Qe*np.exp(1.j*theta)/(1.+2.j*Q*(x-x0)/x0))\n",
      "    return S21"
     ],
     "language": "python",
     "metadata": {},
     "outputs": [],
     "prompt_number": 5
    },
    {
     "cell_type": "code",
     "collapsed": false,
     "input": [
      "def fit_complex_data(fit_func, data, x, pars):\n",
      "    print fit_func\n",
      "    def residuals_complex(pars, fit_func, data, x):\n",
      "        res = fit_func(x,pars) - data\n",
      "        return np.array([res.real, res.imag])\n",
      "    lmfit.minimize(residuals_complex, pars, args=(fit_func,data, x))"
     ],
     "language": "python",
     "metadata": {},
     "outputs": [],
     "prompt_number": 69
    },
    {
     "cell_type": "code",
     "collapsed": false,
     "input": [
      "def fit_hanger(freq_lst, S21_lst):\n",
      "    params = fit_estimate_parameters(freq_lst, S21_lst)\n",
      "    fit_complex_data(hanger_func_complex, S21_lst, freq_lst, params)\n",
      "#     fit = SlopedHangerModel.fit(data = S21_lst, f = freq_lst, params = params)\n",
      "    return fit"
     ],
     "language": "python",
     "metadata": {},
     "outputs": [],
     "prompt_number": 64
    },
    {
     "cell_type": "code",
     "collapsed": false,
     "input": [
      "def fit_estimate_parameters(x, y):\n",
      "    #Temps to make param estimations\n",
      "    ya = np.abs(y[:])\n",
      "    phi_0 = cmath.phase(y[0])\n",
      "    phi_v = 0\n",
      "    s21min = np.abs(min(ya)/max(ya))\n",
      "\n",
      "    y_rotated = y*np.exp(-1.j*(phi_v*x+phi_0-phi_v*x[0]))\n",
      "    y_min = np.argmin(y_rotated.imag)\n",
      "    y_max = np.argmax(y_rotated.imag)\n",
      "\n",
      "    #Parameters\n",
      "    A = (ya[0]+ya[-1])/2.\n",
      "    f0 = x[ya[:].tolist().index(min(ya[:]))]\n",
      "    Q = f0/(abs(x[y_min]-x[y_max]))\n",
      "    Qe = np.abs(Q/np.abs(1-s21min))\n",
      "    phi_0 = phi_0\n",
      "\n",
      "\n",
      "    params = SlopedHangerModel.make_params()\n",
      "    params['A'].value = A\n",
      "    params['f0'].value = f0\n",
      "    params['Q'].value = Q\n",
      "    params['Qe'].value = Qe\n",
      "    params['theta'].value = 0.\n",
      "    params.add('Qi', expr = '1./(1./Q-1./Qe*cos(theta))', vary=False)\n",
      "    params.add('Qc', expr = 'Qe/cos(theta)', vary=False)\n",
      "    return params"
     ],
     "language": "python",
     "metadata": {},
     "outputs": [],
     "prompt_number": 65
    },
    {
     "cell_type": "code",
     "collapsed": false,
     "input": [
      "filepath = os.path.join(path,filenames[0])\n",
      "if os.path.exists(filepath):\n",
      "    data=h5.File(filepath,'r')\n",
      "else:\n",
      "    raise NameError('Data file not found!')\n",
      "freq = data['Experimental_Data']['Frequency'].value\n",
      "S21 = data['Experimental_Data']['S21 (comp)'].value"
     ],
     "language": "python",
     "metadata": {},
     "outputs": [],
     "prompt_number": 6
    },
    {
     "cell_type": "heading",
     "level": 2,
     "metadata": {},
     "source": [
      "Animation"
     ]
    },
    {
     "cell_type": "code",
     "collapsed": false,
     "input": [
      "def init():\n",
      "    resonatorline.set_data([], [])\n",
      "    resonatorfitline.set_data([], [])\n",
      "#     Qiline.set_data([], [])\n",
      "#     f0line.set_data([], [])\n",
      "    return (resonatorline, resonatorfitline)#, Qiline, f0line)"
     ],
     "language": "python",
     "metadata": {},
     "outputs": [],
     "prompt_number": 15
    },
    {
     "cell_type": "code",
     "collapsed": false,
     "input": [
      "# animation function.  This is called sequentially\n",
      "def show_plot(i):\n",
      "    filepath = os.path.join(path,filenames[i])\n",
      "    if os.path.exists(filepath):\n",
      "        data=h5.File(filepath,'r')\n",
      "    else:\n",
      "        raise NameError('Data file not found!')\n",
      "    freq = data['Experimental_Data']['Frequency'].value\n",
      "    S21 = data['Experimental_Data']['S21 (comp)'].value\n",
      "    \n",
      "    fres = fit_S21_resonance_complex(freq,S21)\n",
      "    Qi = fres['fitparsobj']['Qi'].value\n",
      "    f0 = fres['fitparsobj']['f0'].value\n",
      "    if 'temperature' in data['Experimental_Data'].keys():\n",
      "        temperature = data['Experimental_Data']['temperature'].value\n",
      "        show_plot.temperature += [temperature]\n",
      "        show_plot.Qi += [Qi]\n",
      "        show_plot.f0 += [f0]\n",
      "    \n",
      "    resonatorline.set_data(freq, np.abs(S21))\n",
      "    resonatorfitline.set_data(freq, np.abs(fres['fit']))\n",
      "    \n",
      "#     if len(show_plot.temperature) != 0:\n",
      "# #         npoints = len(show_plot.temperature)\n",
      "#         Qiline.set_data(show_plot.temperature, show_plot.Qi)\n",
      "#         f0line.set_data(show_plot.temperature, show_plot.f0)\n",
      "#     else:\n",
      "#         Qiline.set_data([], [])\n",
      "#         f0line.set_data([], [])\n",
      "        \n",
      "    \n",
      "    \n",
      "    plt.subplot(311)\n",
      "    plt.title('%d of %d' % (i + 1, len(filenames)))\n",
      "    plt.draw()\n",
      "    \n",
      "    print '*'*15\n",
      "    print show_plot.Qi\n",
      "    print show_plot.f0\n",
      "    print show_plot.temperature\n",
      "#     plt.subplot(312)\n",
      "    \n",
      "    return (resonatorline, resonatorfitline, Qiline, f0line)\n",
      "show_plot.Qi = []\n",
      "show_plot.f0 = []\n",
      "show_plot.temperature = []"
     ],
     "language": "python",
     "metadata": {},
     "outputs": [],
     "prompt_number": 187
    },
    {
     "cell_type": "code",
     "collapsed": false,
     "input": [
      "class ResonatorAnimation(animation.TimedAnimation):\n",
      "    def __init__(self):\n",
      "        fig = plt.figure('Resonator during cooldown')\n",
      "\n",
      "        ax1 = fig.add_subplot(3,1,1)\n",
      "        ax2 = fig.add_subplot(3,1,2)\n",
      "        ax3 = fig.add_subplot(3,1,3)\n",
      "\n",
      "        ax1.set_xlabel('Frequency (GHz)')\n",
      "        ax1.set_ylabel('S21 (mV)')\n",
      "        self.lineresonator = Line2D([], [])\n",
      "        self.lineresonatorfit = Line2D([], [])\n",
      "        ax1.add_line(self.lineresonator)\n",
      "        ax1.add_line(self.lineresonatorfit)\n",
      "        ax1.set_ylim(0,0.045)\n",
      "\n",
      "\n",
      "\n",
      "        ax2.set_xlabel('Temperature (mK)')\n",
      "        ax2.set_ylabel('Internal quality factor')\n",
      "        self.lineQi = Line2D([], [])\n",
      "        ax2.add_line(self.lineQi)\n",
      "\n",
      "\n",
      "\n",
      "        ax3.set_xlabel('Temperature (mK)')\n",
      "        ax3.set_ylabel('Center frequency')\n",
      "        self.linef0 = Line2D([], [])\n",
      "        ax3.add_line(self.linef0)\n",
      "\n",
      "        for ax in [ax1,ax2,ax3]:\n",
      "            ax.get_xaxis().get_major_formatter().set_useOffset(False)\n",
      "            ax.get_yaxis().get_major_formatter().set_useOffset(False)\n",
      "\n",
      "        self._temperature = []\n",
      "        self._Qi = []\n",
      "        self._f0 = []\n",
      "\n",
      "        animation.TimedAnimation.__init__(self, fig, interval=50, blit=True)\n",
      "\n",
      "    def _draw_frame(self, framedata):\n",
      "        i = framedata\n",
      "\n",
      "        filepath = os.path.join(path,filenames[i])\n",
      "        if os.path.exists(filepath):\n",
      "            data=h5.File(filepath,'r')\n",
      "        else:\n",
      "            raise NameError('Data file not found!')\n",
      "        freq = data['Experimental_Data']['Frequency'].value\n",
      "        S21 = data['Experimental_Data']['S21 (comp)'].value\n",
      "        \n",
      "        fres = fit_S21_resonance_complex(freq,S21)\n",
      "        Qi = fres['fitparsobj']['Qi'].value\n",
      "        f0 = fres['fitparsobj']['f0'].value\n",
      "        if 'temperature' in data['Experimental_Data'].keys():\n",
      "            temperature = data['Experimental_Data']['temperature'].value\n",
      "            self._temperature += [temperature]\n",
      "            self._Qi += [Qi]\n",
      "            self._f0 += [f0]\n",
      "        \n",
      "        self.lineresonator.set_data(freq, np.abs(S21))\n",
      "        self.lineresonatorfit.set_data(freq, np.abs(fres['fit']))\n",
      "        \n",
      "        if len(self._temperature) != 0:\n",
      "    #         npoints = len(self._temperature)\n",
      "            self.lineQi.set_data(self._temperature, self._Qi)\n",
      "            self.linef0.set_data(self._temperature, self._f0)\n",
      "        else:\n",
      "            self.lineQi.set_data([], [])\n",
      "            self.linef0.set_data([], [])\n",
      "\n",
      "\n",
      "\n",
      "        self._drawn_artists = [self.lineresonator, self.lineresonatorfit,\n",
      "                               self.lineQi, self.linef0]\n",
      "\n",
      "    def new_frame_seq(self):\n",
      "        return iter(range(len(filenames)))\n",
      "\n",
      "    def _init_draw(self):\n",
      "        lines =  [self.lineresonator, self.lineresonatorfit,\n",
      "                               self.lineQi, self.linef0]\n",
      "        for l in lines:\n",
      "            l.set_data([], [])\n",
      "\n",
      "\n",
      "#         anim = animation.FuncAnimation(fig, show_plot, init_func=init,\n",
      "#                                        frames=len(filenames), interval=100, blit=True,repeat=False)\n",
      "#         plt.show()"
     ],
     "language": "python",
     "metadata": {},
     "outputs": [],
     "prompt_number": 14
    },
    {
     "cell_type": "heading",
     "level": 2,
     "metadata": {},
     "source": [
      "Animation example"
     ]
    },
    {
     "cell_type": "code",
     "collapsed": false,
     "input": [
      "\n"
     ],
     "language": "python",
     "metadata": {},
     "outputs": [],
     "prompt_number": 2
    },
    {
     "cell_type": "code",
     "collapsed": false,
     "input": [
      "# initialization function: plot the background of each frame\n",
      "def init():\n",
      "    line.set_data([], [])\n",
      "    return line,\n",
      "\n",
      "# animation function.  This is called sequentially\n",
      "def animate(i):\n",
      "    x = np.linspace(0, 2, 1000)\n",
      "    y = np.sin(2 * np.pi * (x - 0.01 * i))\n",
      "    line.set_data(x, y)\n",
      "    return line,\n",
      "\n",
      "# call the animator.  blit=True means only re-draw the parts that have changed.\n",
      "anim = animation.FuncAnimation(fig, animate, init_func=init,\n",
      "                               frames=200, interval=200, blit=True,repeat=False)\n",
      "\n",
      "# save the animation as an mp4.  This requires ffmpeg or mencoder to be\n",
      "# installed.  The extra_args ensure that the x264 codec is used, so that\n",
      "# the video can be embedded in html5.  You may need to adjust this for\n",
      "# your system: for more information, see\n",
      "# http://matplotlib.sourceforge.net/api/animation_api.html\n",
      "anim.save('basic_animation.mp4', fps=30, extra_args=['-vcodec', 'libx264'])\n",
      "\n",
      "plt.show()"
     ],
     "language": "python",
     "metadata": {},
     "outputs": [],
     "prompt_number": 42
    },
    {
     "cell_type": "code",
     "collapsed": false,
     "input": [
      "import numpy as np\n",
      "import matplotlib.pyplot as plt\n",
      "from matplotlib.lines import Line2D\n",
      "import matplotlib.animation as animation\n",
      "\n",
      "# This example uses subclassing, but there is no reason that the proper function\n",
      "# couldn't be set up and then use FuncAnimation. The code is long, but not\n",
      "# really complex. The length is due solely to the fact that there are a total\n",
      "# of 9 lines that need to be changed for the animation as well as 3 subplots\n",
      "# that need initial set up.\n",
      "class SubplotAnimation(animation.TimedAnimation):\n",
      "    def __init__(self):\n",
      "        fig = plt.figure()\n",
      "        ax1 = fig.add_subplot(1, 2, 1)\n",
      "        ax2 = fig.add_subplot(2, 2, 2)\n",
      "        ax3 = fig.add_subplot(2, 2, 4)\n",
      "\n",
      "        self.t = np.linspace(0, 80, 400)\n",
      "        self.x = np.cos(2 * np.pi * self.t / 10.)\n",
      "        self.y = np.sin(2 * np.pi * self.t / 10.)\n",
      "        self.z = 10 * self.t\n",
      "\n",
      "        ax1.set_xlabel('x')\n",
      "        ax1.set_ylabel('y')\n",
      "        self.line1 = Line2D([], [], color='black')\n",
      "        self.line1a = Line2D([], [], color='red', linewidth=2)\n",
      "        self.line1e = Line2D([], [], color='red', marker='o', markeredgecolor='r')\n",
      "        ax1.add_line(self.line1)\n",
      "        ax1.add_line(self.line1a)\n",
      "        ax1.add_line(self.line1e)\n",
      "        ax1.set_xlim(-1, 1)\n",
      "        ax1.set_ylim(-2, 2)\n",
      "        ax1.set_aspect('equal', 'datalim')\n",
      "\n",
      "        ax2.set_xlabel('y')\n",
      "        ax2.set_ylabel('z')\n",
      "        self.line2 = Line2D([], [], color='black')\n",
      "        self.line2a = Line2D([], [], color='red', linewidth=2)\n",
      "        self.line2e = Line2D([], [], color='red', marker='o', markeredgecolor='r')\n",
      "        ax2.add_line(self.line2)\n",
      "        ax2.add_line(self.line2a)\n",
      "        ax2.add_line(self.line2e)\n",
      "        ax2.set_xlim(-1, 1)\n",
      "        ax2.set_ylim(0, 800)\n",
      "\n",
      "        ax3.set_xlabel('x')\n",
      "        ax3.set_ylabel('z')\n",
      "        self.line3 = Line2D([], [], color='black')\n",
      "        self.line3a = Line2D([], [], color='red', linewidth=2)\n",
      "        self.line3e = Line2D([], [], color='red', marker='o', markeredgecolor='r')\n",
      "        ax3.add_line(self.line3)\n",
      "        ax3.add_line(self.line3a)\n",
      "        ax3.add_line(self.line3e)\n",
      "        ax3.set_xlim(-1, 1)\n",
      "        ax3.set_ylim(0, 800)\n",
      "\n",
      "        animation.TimedAnimation.__init__(self, fig, interval=50, blit=True)\n",
      "\n",
      "    def _draw_frame(self, framedata):\n",
      "        i = framedata\n",
      "        head = i - 1\n",
      "        head_len = 10\n",
      "        head_slice = (self.t > self.t[i] - 1.0) & (self.t < self.t[i])\n",
      "\n",
      "        self.line1.set_data(self.x[:i], self.y[:i])\n",
      "        self.line1a.set_data(self.x[head_slice], self.y[head_slice])\n",
      "        self.line1e.set_data(self.x[head], self.y[head])\n",
      "\n",
      "        self.line2.set_data(self.y[:i], self.z[:i])\n",
      "        self.line2a.set_data(self.y[head_slice], self.z[head_slice])\n",
      "        self.line2e.set_data(self.y[head], self.z[head])\n",
      "\n",
      "        self.line3.set_data(self.x[:i], self.z[:i])\n",
      "        self.line3a.set_data(self.x[head_slice], self.z[head_slice])\n",
      "        self.line3e.set_data(self.x[head], self.z[head])\n",
      "\n",
      "        self._drawn_artists = [self.line1, self.line1a, self.line1e,\n",
      "            self.line2, self.line2a, self.line2e,\n",
      "            self.line3, self.line3a, self.line3e]\n",
      "\n",
      "    def new_frame_seq(self):\n",
      "        return iter(range(self.t.size))\n",
      "\n",
      "    def _init_draw(self):\n",
      "        lines =  [self.line1, self.line1a, self.line1e,\n",
      "            self.line2, self.line2a, self.line2e,\n",
      "            self.line3, self.line3a, self.line3e]\n",
      "        for l in lines:\n",
      "            l.set_data([], [])\n",
      "\n",
      "ani = SubplotAnimation()\n",
      "#ani.save('test_sub.mp4')\n",
      "plt.show()"
     ],
     "language": "python",
     "metadata": {},
     "outputs": [],
     "prompt_number": 5
    },
    {
     "cell_type": "code",
     "collapsed": false,
     "input": [],
     "language": "python",
     "metadata": {},
     "outputs": []
    },
    {
     "cell_type": "code",
     "collapsed": false,
     "input": [],
     "language": "python",
     "metadata": {},
     "outputs": []
    }
   ],
   "metadata": {}
  }
 ]
}