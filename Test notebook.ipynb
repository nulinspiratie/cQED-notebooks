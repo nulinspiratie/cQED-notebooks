{
 "metadata": {
  "name": "",
  "signature": "sha256:d3ca8b014d83e5eaaf6ad7d4e583afed10806ee10d9978571d4c32b9c455a9f5"
 },
 "nbformat": 3,
 "nbformat_minor": 0,
 "worksheets": [
  {
   "cells": [
    {
     "cell_type": "code",
     "collapsed": false,
     "input": [
      "import sys\n",
      "sys.path.append('D:/PycQED/qtlab/source')\n",
      "import hdf5_data as h5\n",
      "import numpy as np\n",
      "import os"
     ],
     "language": "python",
     "metadata": {},
     "outputs": [],
     "prompt_number": 1
    },
    {
     "cell_type": "code",
     "collapsed": false,
     "input": [
      "arr1 = np.ones((100,4))\n",
      "arr1[:,0] = np.arange(100)/ 4.\n",
      "arr1 = np.hstack((np.zeros((100,1)),arr1))"
     ],
     "language": "python",
     "metadata": {},
     "outputs": [],
     "prompt_number": 2
    },
    {
     "cell_type": "code",
     "collapsed": false,
     "input": [
      "class DataSaving():\n",
      "    def __init__(self):\n",
      "        self.data_object = h5.HDF5Data(name='testname',filepath = 'D:/testhdf5.hdf5')\n",
      "    \n",
      "    def get_sweep_function_2D_name(self):\n",
      "        return '2D swf name'\n",
      "    \n",
      "    def get_sweep_points_2D(self):\n",
      "        return np.arange(100)\n",
      "    \n",
      "    def get_sweep_points(self):\n",
      "        return np.arange(100)*.1\n",
      "    \n",
      "    def create_group(self):\n",
      "        self.grp = h5.DataGroup('Experimental Data', self.data_object,\n",
      "            attribute1 = \"hello\",\n",
      "            attribute2 = 123\n",
      "            )\n",
      "    \n",
      "    def save_data(self, input_data, **kw):\n",
      "        \n",
      "        if 'data_object' in kw.keys():\n",
      "            data_object = kw.pop('data_object')\n",
      "        else:\n",
      "            data_object = self.data_object\n",
      "                \n",
      "                \n",
      "        sweep_parameter_name='inner_sweep'\n",
      "        sweep_parameter_units = 'arb'\n",
      "\n",
      "        #TODO: change to self.\n",
      "        if self.get_sweep_function_2D_name() != 'None':\n",
      "            sweep_parameter_2D_name='outer_sweep'\n",
      "            sweep_parameter_2D_units = 'arb'\n",
      "\n",
      "        #add all params\n",
      "        value_names = ['S21 (magn)', 'S21 (comp)']\n",
      "        value_units= ['mV', 'mV']\n",
      "\n",
      "        #TODO: change to self.\n",
      "        if self.get_sweep_function_2D_name() == 'None':\n",
      "            grp = h5.DataGroup('Experimental Data', data_object,\n",
      "                sweep_parameter_name =sweep_parameter_name,\n",
      "                sweep_parameter_units =sweep_parameter_units,\n",
      "                value_names =value_names,\n",
      "                value_units = value_units\n",
      "                )\n",
      "            grp.add_coordinate(sweep_parameter_name,\n",
      "                unit =sweep_parameter_units)\n",
      "            grp[sweep_parameter_name] = self.get_sweep_points()\n",
      "            for i in range(len(value_names)):\n",
      "                grp.add_value(value_names[i],\n",
      "                    unit = value_units[i])\n",
      "                grp[value_names[i]] = input_data[i]\n",
      "\n",
      "\n",
      "        else:\n",
      "            grp = h5.DataGroup('Experimental Data', data_object\n",
      "#                 sweep_parameter_name =sweep_parameter_name,\n",
      "#                 sweep_parameter_units =sweep_parameter_units,\n",
      "#                 sweep_parameter_2D_name =sweep_parameter_2D_name,\n",
      "#                 sweep_parameter_2D_units =sweep_parameter_2D_units,\n",
      "#                 value_names =value_names,\n",
      "#                 value_units = value_units\n",
      "                )\n",
      "            grp.add_coordinate(sweep_parameter_name,  data = self.get_sweep_points(),\n",
      "                unit =sweep_parameter_units)\n",
      "            grp.add_coordinate(sweep_parameter_2D_name, data = self.get_sweep_points_2D(),\n",
      "                unit =sweep_parameter_2D_units)\n",
      "\n",
      "            grp.add_value('Data', names = ['hi', 'hi', 'hisa'], units = ['hi', 'hi', 'hisa'])\n",
      "            grp['Data'] = input_data\n",
      "        return data_object\n",
      "#         self.save_instrument_settings()\n",
      "#         self.save_instrument_logging()\n",
      "#         data_object.close()"
     ],
     "language": "python",
     "metadata": {},
     "outputs": [],
     "prompt_number": 3
    },
    {
     "cell_type": "code",
     "collapsed": false,
     "input": [
      "MC = DataSaving()\n",
      "MC.create_group()\n",
      "print MC.grp.group.attrs.items()\n"
     ],
     "language": "python",
     "metadata": {},
     "outputs": [
      {
       "output_type": "stream",
       "stream": "stdout",
       "text": [
        "[(u'123', 124), (u'attribute2', 123), (u'attribute1', 'hello')]\n"
       ]
      }
     ],
     "prompt_number": 5
    },
    {
     "cell_type": "code",
     "collapsed": false,
     "input": [
      "data = np.zeros((100,4))\n",
      "MC = DataSaving()\n",
      "hdf5 = MC.save_data(data)\n",
      "print hdf5\n",
      "print hdf5.get_filepath()\n",
      "#hdf5.close()"
     ],
     "language": "python",
     "metadata": {},
     "outputs": [
      {
       "output_type": "stream",
       "stream": "stdout",
       "text": [
        "HDF5Data 'testname', filename 'testhdf5.hdf5'\n",
        "D:/testhdf5.hdf5\n"
       ]
      }
     ],
     "prompt_number": 24
    },
    {
     "cell_type": "code",
     "collapsed": false,
     "input": [
      "hdf5.close()"
     ],
     "language": "python",
     "metadata": {},
     "outputs": [],
     "prompt_number": 23
    },
    {
     "cell_type": "code",
     "collapsed": false,
     "input": [
      "hdf5['Experimental Data']['Data']"
     ],
     "language": "python",
     "metadata": {},
     "outputs": [
      {
       "metadata": {},
       "output_type": "pyout",
       "prompt_number": 25,
       "text": [
        "<HDF5 dataset \"Data\": shape (100, 4), type \"<f8\">"
       ]
      }
     ],
     "prompt_number": 25
    },
    {
     "cell_type": "code",
     "collapsed": false,
     "input": [
      "del"
     ],
     "language": "python",
     "metadata": {},
     "outputs": []
    }
   ],
   "metadata": {}
  }
 ]
}