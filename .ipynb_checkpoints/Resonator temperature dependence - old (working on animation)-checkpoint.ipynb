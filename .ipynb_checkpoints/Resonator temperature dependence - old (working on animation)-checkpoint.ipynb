{
 "metadata": {
  "name": "",
  "signature": "sha256:2cbf1980e35f423433f8ee3c2fb534bff9fdeb7aecac77721b4a51e33dbfc8f6"
 },
 "nbformat": 3,
 "nbformat_minor": 0,
 "worksheets": [
  {
   "cells": [
    {
     "cell_type": "code",
     "collapsed": false,
     "input": [
      "import numpy as np\n",
      "from matplotlib import pyplot as plt\n",
      "from matplotlib import animation\n",
      "import os\n",
      "import h5py as h5\n",
      "import sys\n",
      "import cmath\n",
      "import lmfit\n",
      "if os.path.exists('D:/PycQED'):\n",
      "    sys.path.append('D:/PycQED/modules')\n",
      "    sys.path.append('D:/PycQED/qtlab/source')\n",
      "elif os.path.exists('C:/PycQED'):\n",
      "    sys.path.append('C:/PycQED/modules')\n",
      "    sys.path.append('C:/PycQED/qtlab/source')\n",
      "else:\n",
      "    raise NameError('Cannot find PycQED directory')\n",
      "# from utils import *\n",
      "import analysis.fitting_models as fm\n",
      "SlopedHangerModel = fm.SlopedHangerModel\n",
      "%pylab"
     ],
     "language": "python",
     "metadata": {},
     "outputs": [
      {
       "output_type": "stream",
       "stream": "stdout",
       "text": [
        "Using matplotlib backend: GTKAgg\n",
        "Populating the interactive namespace from numpy and matplotlib\n"
       ]
      },
      {
       "output_type": "stream",
       "stream": "stderr",
       "text": [
        "WARNING: pylab import has clobbered these variables: ['f']\n",
        "`%matplotlib` prevents importing * from pylab and numpy\n"
       ]
      }
     ],
     "prompt_number": 13
    },
    {
     "cell_type": "code",
     "collapsed": false,
     "input": [
      "path = r'D:\\qtlab\\data\\VNA_T_dependence\\data'\n",
      "if not os.path.exists(path):\n",
      "    path = r'C:\\PycQED\\data\\VNA_T_dependence\\data'\n",
      "    if not os.path.exists(path):\n",
      "        raise NameError('Cannot find data')"
     ],
     "language": "python",
     "metadata": {},
     "outputs": [],
     "prompt_number": 14
    },
    {
     "cell_type": "code",
     "collapsed": false,
     "input": [
      "filenames = os.listdir(path)\n",
      "for k, filename in enumerate(filenames):\n",
      "    if filename[:6] == '141527': #Point where power was changed to -60\n",
      "        break\n",
      "filenames = filenames[k:]\n",
      "\n",
      "filepath = os.path.join(path,filenames[k])\n",
      "data=h5.File(filepath,'r')\n",
      "freq = data['Experimental_Data']['Frequency'].value\n",
      "fmin = freq[0]\n",
      "fmax = freq[-1]"
     ],
     "language": "python",
     "metadata": {},
     "outputs": [],
     "prompt_number": 15
    },
    {
     "cell_type": "heading",
     "level": 2,
     "metadata": {},
     "source": [
      "Fitting"
     ]
    },
    {
     "cell_type": "code",
     "collapsed": false,
     "input": [
      "def hanger_func_complex(x, params):\n",
      "    '''\n",
      "    THis is THE hanger fitting function for fitting normalized hanger  (no offset)\n",
      "    x,x0,Q,Qe,A,theta\n",
      "    S21 = A*(1-Q/Q_c*exp(1.j*theta)/(1+2.j*Q(x-x0)/x0)\n",
      "    where 1/Qi = 1/Q - Re{exp(1.j*theta)/Qc}\n",
      "    '''\n",
      "\n",
      "    (f0,Q,Qe,A,theta) = (param['f0'].value,\n",
      "                        param['Q'].value,\n",
      "                        param['Qe'].value,\n",
      "                        param['A'].value,\n",
      "                        param['theta'].value)\n",
      "\n",
      "    S21 = A*(1.-Q/Qe*np.exp(1.j*theta)/(1.+2.j*Q*(x-x0)/x0))\n",
      "    return S21"
     ],
     "language": "python",
     "metadata": {},
     "outputs": [
      {
       "ename": "SyntaxError",
       "evalue": "invalid syntax (<ipython-input-68-b9cc55b582eb>, line 14)",
       "output_type": "pyerr",
       "traceback": [
        "\u001b[1;36m  File \u001b[1;32m\"<ipython-input-68-b9cc55b582eb>\"\u001b[1;36m, line \u001b[1;32m14\u001b[0m\n\u001b[1;33m    else:\u001b[0m\n\u001b[1;37m       ^\u001b[0m\n\u001b[1;31mSyntaxError\u001b[0m\u001b[1;31m:\u001b[0m invalid syntax\n"
       ]
      }
     ],
     "prompt_number": 68
    },
    {
     "cell_type": "code",
     "collapsed": false,
     "input": [
      "def fit_complex_data(fit_func, data, x, pars):\n",
      "    print fit_func\n",
      "    def residuals_complex(pars, fit_func, data, x):\n",
      "        res = fit_func(x,pars) - data\n",
      "        return np.array([res.real, res.imag])\n",
      "    lmfit.minimize(residuals_complex, pars, args=(fit_func,data, x))"
     ],
     "language": "python",
     "metadata": {},
     "outputs": [],
     "prompt_number": 69
    },
    {
     "cell_type": "code",
     "collapsed": false,
     "input": [
      "def fit_hanger(freq_lst, S21_lst):\n",
      "    params = fit_estimate_parameters(freq_lst, S21_lst)\n",
      "    fit_complex_data(hanger_func_complex, S21_lst, freq_lst, params)\n",
      "#     fit = SlopedHangerModel.fit(data = S21_lst, f = freq_lst, params = params)\n",
      "    return fit"
     ],
     "language": "python",
     "metadata": {},
     "outputs": [],
     "prompt_number": 64
    },
    {
     "cell_type": "code",
     "collapsed": false,
     "input": [
      "def fit_estimate_parameters(x, y):\n",
      "    #Temps to make param estimations\n",
      "    ya = np.abs(y[:])\n",
      "    phi_0 = cmath.phase(y[0])\n",
      "    phi_v = 0\n",
      "    s21min = np.abs(min(ya)/max(ya))\n",
      "\n",
      "    y_rotated = y*np.exp(-1.j*(phi_v*x+phi_0-phi_v*x[0]))\n",
      "    y_min = np.argmin(y_rotated.imag)\n",
      "    y_max = np.argmax(y_rotated.imag)\n",
      "\n",
      "    #Parameters\n",
      "    A = (ya[0]+ya[-1])/2.\n",
      "    f0 = x[ya[:].tolist().index(min(ya[:]))]\n",
      "    Q = f0/(abs(x[y_min]-x[y_max]))\n",
      "    Qe = np.abs(Q/np.abs(1-s21min))\n",
      "    phi_0 = phi_0\n",
      "\n",
      "\n",
      "    params = SlopedHangerModel.make_params()\n",
      "    params['A'].value = A\n",
      "    params['f0'].value = f0\n",
      "    params['Q'].value = Q\n",
      "    params['Qe'].value = Qe\n",
      "    params['theta'].value = 0.\n",
      "    params.add('Qi', expr = '1./(1./Q-1./Qe*cos(theta))', vary=False)\n",
      "    params.add('Qc', expr = 'Qe/cos(theta)', vary=False)\n",
      "    return params"
     ],
     "language": "python",
     "metadata": {},
     "outputs": [],
     "prompt_number": 65
    },
    {
     "cell_type": "code",
     "collapsed": false,
     "input": [
      "filepath = os.path.join(path,filenames[0])\n",
      "if os.path.exists(filepath):\n",
      "    data=h5.File(filepath,'r')\n",
      "else:\n",
      "    raise NameError('Data file not found!')\n",
      "freq = data['Experimental_Data']['Frequency'].value\n",
      "S21 = data['Experimental_Data']['S21 (comp)'].value"
     ],
     "language": "python",
     "metadata": {},
     "outputs": [],
     "prompt_number": 66
    },
    {
     "cell_type": "code",
     "collapsed": false,
     "input": [
      "fit_hanger(freq,S21)"
     ],
     "language": "python",
     "metadata": {},
     "outputs": [
      {
       "output_type": "stream",
       "stream": "stdout",
       "text": [
        "<function hanger_func_complex at 0x00000000151306D8>\n"
       ]
      },
      {
       "ename": "KeyError",
       "evalue": "0",
       "output_type": "pyerr",
       "traceback": [
        "\u001b[1;31m---------------------------------------------------------------------------\u001b[0m\n\u001b[1;31mKeyError\u001b[0m                                  Traceback (most recent call last)",
        "\u001b[1;32m<ipython-input-67-0c1bc573ade9>\u001b[0m in \u001b[0;36m<module>\u001b[1;34m()\u001b[0m\n\u001b[1;32m----> 1\u001b[1;33m \u001b[0mfit_hanger\u001b[0m\u001b[1;33m(\u001b[0m\u001b[0mfreq\u001b[0m\u001b[1;33m,\u001b[0m\u001b[0mS21\u001b[0m\u001b[1;33m)\u001b[0m\u001b[1;33m\u001b[0m\u001b[0m\n\u001b[0m",
        "\u001b[1;32m<ipython-input-64-5fdc9ba5aa52>\u001b[0m in \u001b[0;36mfit_hanger\u001b[1;34m(freq_lst, S21_lst)\u001b[0m\n\u001b[0;32m      1\u001b[0m \u001b[1;32mdef\u001b[0m \u001b[0mfit_hanger\u001b[0m\u001b[1;33m(\u001b[0m\u001b[0mfreq_lst\u001b[0m\u001b[1;33m,\u001b[0m \u001b[0mS21_lst\u001b[0m\u001b[1;33m)\u001b[0m\u001b[1;33m:\u001b[0m\u001b[1;33m\u001b[0m\u001b[0m\n\u001b[0;32m      2\u001b[0m     \u001b[0mparams\u001b[0m \u001b[1;33m=\u001b[0m \u001b[0mfit_estimate_parameters\u001b[0m\u001b[1;33m(\u001b[0m\u001b[0mfreq_lst\u001b[0m\u001b[1;33m,\u001b[0m \u001b[0mS21_lst\u001b[0m\u001b[1;33m)\u001b[0m\u001b[1;33m\u001b[0m\u001b[0m\n\u001b[1;32m----> 3\u001b[1;33m     \u001b[0mfit_complex_data\u001b[0m\u001b[1;33m(\u001b[0m\u001b[0mhanger_func_complex\u001b[0m\u001b[1;33m,\u001b[0m \u001b[0mS21_lst\u001b[0m\u001b[1;33m,\u001b[0m \u001b[0mfreq_lst\u001b[0m\u001b[1;33m,\u001b[0m \u001b[0mparams\u001b[0m\u001b[1;33m)\u001b[0m\u001b[1;33m\u001b[0m\u001b[0m\n\u001b[0m\u001b[0;32m      4\u001b[0m \u001b[1;31m#     fit = SlopedHangerModel.fit(data = S21_lst, f = freq_lst, params = params)\u001b[0m\u001b[1;33m\u001b[0m\u001b[1;33m\u001b[0m\u001b[0m\n\u001b[0;32m      5\u001b[0m     \u001b[1;32mreturn\u001b[0m \u001b[0mfit\u001b[0m\u001b[1;33m\u001b[0m\u001b[0m\n",
        "\u001b[1;32m<ipython-input-63-7dd8568cbb27>\u001b[0m in \u001b[0;36mfit_complex_data\u001b[1;34m(fit_func, data, x, pars)\u001b[0m\n\u001b[0;32m      4\u001b[0m         \u001b[0mres\u001b[0m \u001b[1;33m=\u001b[0m \u001b[0mfit_func\u001b[0m\u001b[1;33m(\u001b[0m\u001b[0mx\u001b[0m\u001b[1;33m,\u001b[0m\u001b[0mpars\u001b[0m\u001b[1;33m)\u001b[0m \u001b[1;33m-\u001b[0m \u001b[0mdata\u001b[0m\u001b[1;33m\u001b[0m\u001b[0m\n\u001b[0;32m      5\u001b[0m         \u001b[1;32mreturn\u001b[0m \u001b[0mnp\u001b[0m\u001b[1;33m.\u001b[0m\u001b[0marray\u001b[0m\u001b[1;33m(\u001b[0m\u001b[1;33m[\u001b[0m\u001b[0mres\u001b[0m\u001b[1;33m.\u001b[0m\u001b[0mreal\u001b[0m\u001b[1;33m,\u001b[0m \u001b[0mres\u001b[0m\u001b[1;33m.\u001b[0m\u001b[0mimag\u001b[0m\u001b[1;33m]\u001b[0m\u001b[1;33m)\u001b[0m\u001b[1;33m\u001b[0m\u001b[0m\n\u001b[1;32m----> 6\u001b[1;33m     \u001b[0mlmfit\u001b[0m\u001b[1;33m.\u001b[0m\u001b[0mminimize\u001b[0m\u001b[1;33m(\u001b[0m\u001b[0mresiduals_complex\u001b[0m\u001b[1;33m,\u001b[0m \u001b[0mpars\u001b[0m\u001b[1;33m,\u001b[0m \u001b[0margs\u001b[0m\u001b[1;33m=\u001b[0m\u001b[1;33m(\u001b[0m\u001b[0mfit_func\u001b[0m\u001b[1;33m,\u001b[0m\u001b[0mdata\u001b[0m\u001b[1;33m,\u001b[0m \u001b[0mx\u001b[0m\u001b[1;33m)\u001b[0m\u001b[1;33m)\u001b[0m\u001b[1;33m\u001b[0m\u001b[0m\n\u001b[0m",
        "\u001b[1;32mc:\\python27\\lib\\site-packages\\lmfit\\minimizer.pyc\u001b[0m in \u001b[0;36mminimize\u001b[1;34m(fcn, params, method, args, kws, scale_covar, iter_cb, **fit_kws)\u001b[0m\n\u001b[0;32m    814\u001b[0m     fitter = Minimizer(fcn, params, fcn_args=args, fcn_kws=kws,\n\u001b[0;32m    815\u001b[0m                        iter_cb=iter_cb, scale_covar=scale_covar, **fit_kws)\n\u001b[1;32m--> 816\u001b[1;33m     \u001b[0mfitter\u001b[0m\u001b[1;33m.\u001b[0m\u001b[0mminimize\u001b[0m\u001b[1;33m(\u001b[0m\u001b[0mmethod\u001b[0m\u001b[1;33m=\u001b[0m\u001b[0mmethod\u001b[0m\u001b[1;33m)\u001b[0m\u001b[1;33m\u001b[0m\u001b[0m\n\u001b[0m\u001b[0;32m    817\u001b[0m     \u001b[1;32mreturn\u001b[0m \u001b[0mfitter\u001b[0m\u001b[1;33m\u001b[0m\u001b[0m\n",
        "\u001b[1;32mc:\\python27\\lib\\site-packages\\lmfit\\minimizer.pyc\u001b[0m in \u001b[0;36mminimize\u001b[1;34m(self, method)\u001b[0m\n\u001b[0;32m    745\u001b[0m             \u001b[0mfunction\u001b[0m \u001b[1;33m=\u001b[0m \u001b[0mself\u001b[0m\u001b[1;33m.\u001b[0m\u001b[0mlbfgsb\u001b[0m\u001b[1;33m\u001b[0m\u001b[0m\n\u001b[0;32m    746\u001b[0m \u001b[1;33m\u001b[0m\u001b[0m\n\u001b[1;32m--> 747\u001b[1;33m         \u001b[1;32mreturn\u001b[0m \u001b[0mfunction\u001b[0m\u001b[1;33m(\u001b[0m\u001b[1;33m**\u001b[0m\u001b[0mkwargs\u001b[0m\u001b[1;33m)\u001b[0m\u001b[1;33m\u001b[0m\u001b[0m\n\u001b[0m\u001b[0;32m    748\u001b[0m \u001b[1;33m\u001b[0m\u001b[0m\n\u001b[0;32m    749\u001b[0m \u001b[1;33m\u001b[0m\u001b[0m\n",
        "\u001b[1;32mc:\\python27\\lib\\site-packages\\lmfit\\minimizer.pyc\u001b[0m in \u001b[0;36mleastsq\u001b[1;34m(self, **kws)\u001b[0m\n\u001b[0;32m    594\u001b[0m         \u001b[0morig_warn_settings\u001b[0m \u001b[1;33m=\u001b[0m \u001b[0mnp\u001b[0m\u001b[1;33m.\u001b[0m\u001b[0mgeterr\u001b[0m\u001b[1;33m(\u001b[0m\u001b[1;33m)\u001b[0m\u001b[1;33m\u001b[0m\u001b[0m\n\u001b[0;32m    595\u001b[0m         \u001b[0mnp\u001b[0m\u001b[1;33m.\u001b[0m\u001b[0mseterr\u001b[0m\u001b[1;33m(\u001b[0m\u001b[0mall\u001b[0m\u001b[1;33m=\u001b[0m\u001b[1;34m'ignore'\u001b[0m\u001b[1;33m)\u001b[0m\u001b[1;33m\u001b[0m\u001b[0m\n\u001b[1;32m--> 596\u001b[1;33m         \u001b[0mlsout\u001b[0m \u001b[1;33m=\u001b[0m \u001b[0mscipy_leastsq\u001b[0m\u001b[1;33m(\u001b[0m\u001b[0mself\u001b[0m\u001b[1;33m.\u001b[0m\u001b[0m__residual\u001b[0m\u001b[1;33m,\u001b[0m \u001b[0mself\u001b[0m\u001b[1;33m.\u001b[0m\u001b[0mvars\u001b[0m\u001b[1;33m,\u001b[0m \u001b[1;33m**\u001b[0m\u001b[0mlskws\u001b[0m\u001b[1;33m)\u001b[0m\u001b[1;33m\u001b[0m\u001b[0m\n\u001b[0m\u001b[0;32m    597\u001b[0m         \u001b[0m_best\u001b[0m\u001b[1;33m,\u001b[0m \u001b[0m_cov\u001b[0m\u001b[1;33m,\u001b[0m \u001b[0minfodict\u001b[0m\u001b[1;33m,\u001b[0m \u001b[0merrmsg\u001b[0m\u001b[1;33m,\u001b[0m \u001b[0mier\u001b[0m \u001b[1;33m=\u001b[0m \u001b[0mlsout\u001b[0m\u001b[1;33m\u001b[0m\u001b[0m\n\u001b[0;32m    598\u001b[0m \u001b[1;33m\u001b[0m\u001b[0m\n",
        "\u001b[1;32mc:\\python27\\lib\\site-packages\\scipy\\optimize\\minpack.pyc\u001b[0m in \u001b[0;36mleastsq\u001b[1;34m(func, x0, args, Dfun, full_output, col_deriv, ftol, xtol, gtol, maxfev, epsfcn, factor, diag)\u001b[0m\n\u001b[0;32m    367\u001b[0m     \u001b[1;32mif\u001b[0m \u001b[1;32mnot\u001b[0m \u001b[0misinstance\u001b[0m\u001b[1;33m(\u001b[0m\u001b[0margs\u001b[0m\u001b[1;33m,\u001b[0m \u001b[0mtuple\u001b[0m\u001b[1;33m)\u001b[0m\u001b[1;33m:\u001b[0m\u001b[1;33m\u001b[0m\u001b[0m\n\u001b[0;32m    368\u001b[0m         \u001b[0margs\u001b[0m \u001b[1;33m=\u001b[0m \u001b[1;33m(\u001b[0m\u001b[0margs\u001b[0m\u001b[1;33m,\u001b[0m\u001b[1;33m)\u001b[0m\u001b[1;33m\u001b[0m\u001b[0m\n\u001b[1;32m--> 369\u001b[1;33m     \u001b[0mshape\u001b[0m\u001b[1;33m,\u001b[0m \u001b[0mdtype\u001b[0m \u001b[1;33m=\u001b[0m \u001b[0m_check_func\u001b[0m\u001b[1;33m(\u001b[0m\u001b[1;34m'leastsq'\u001b[0m\u001b[1;33m,\u001b[0m \u001b[1;34m'func'\u001b[0m\u001b[1;33m,\u001b[0m \u001b[0mfunc\u001b[0m\u001b[1;33m,\u001b[0m \u001b[0mx0\u001b[0m\u001b[1;33m,\u001b[0m \u001b[0margs\u001b[0m\u001b[1;33m,\u001b[0m \u001b[0mn\u001b[0m\u001b[1;33m)\u001b[0m\u001b[1;33m\u001b[0m\u001b[0m\n\u001b[0m\u001b[0;32m    370\u001b[0m     \u001b[0mm\u001b[0m \u001b[1;33m=\u001b[0m \u001b[0mshape\u001b[0m\u001b[1;33m[\u001b[0m\u001b[1;36m0\u001b[0m\u001b[1;33m]\u001b[0m\u001b[1;33m\u001b[0m\u001b[0m\n\u001b[0;32m    371\u001b[0m     \u001b[1;32mif\u001b[0m \u001b[0mn\u001b[0m \u001b[1;33m>\u001b[0m \u001b[0mm\u001b[0m\u001b[1;33m:\u001b[0m\u001b[1;33m\u001b[0m\u001b[0m\n",
        "\u001b[1;32mc:\\python27\\lib\\site-packages\\scipy\\optimize\\minpack.pyc\u001b[0m in \u001b[0;36m_check_func\u001b[1;34m(checker, argname, thefunc, x0, args, numinputs, output_shape)\u001b[0m\n\u001b[0;32m     18\u001b[0m def _check_func(checker, argname, thefunc, x0, args, numinputs,\n\u001b[0;32m     19\u001b[0m                 output_shape=None):\n\u001b[1;32m---> 20\u001b[1;33m     \u001b[0mres\u001b[0m \u001b[1;33m=\u001b[0m \u001b[0matleast_1d\u001b[0m\u001b[1;33m(\u001b[0m\u001b[0mthefunc\u001b[0m\u001b[1;33m(\u001b[0m\u001b[1;33m*\u001b[0m\u001b[1;33m(\u001b[0m\u001b[1;33m(\u001b[0m\u001b[0mx0\u001b[0m\u001b[1;33m[\u001b[0m\u001b[1;33m:\u001b[0m\u001b[0mnuminputs\u001b[0m\u001b[1;33m]\u001b[0m\u001b[1;33m,\u001b[0m\u001b[1;33m)\u001b[0m \u001b[1;33m+\u001b[0m \u001b[0margs\u001b[0m\u001b[1;33m)\u001b[0m\u001b[1;33m)\u001b[0m\u001b[1;33m)\u001b[0m\u001b[1;33m\u001b[0m\u001b[0m\n\u001b[0m\u001b[0;32m     21\u001b[0m     \u001b[1;32mif\u001b[0m \u001b[1;33m(\u001b[0m\u001b[0moutput_shape\u001b[0m \u001b[1;32mis\u001b[0m \u001b[1;32mnot\u001b[0m \u001b[0mNone\u001b[0m\u001b[1;33m)\u001b[0m \u001b[1;32mand\u001b[0m \u001b[1;33m(\u001b[0m\u001b[0mshape\u001b[0m\u001b[1;33m(\u001b[0m\u001b[0mres\u001b[0m\u001b[1;33m)\u001b[0m \u001b[1;33m!=\u001b[0m \u001b[0moutput_shape\u001b[0m\u001b[1;33m)\u001b[0m\u001b[1;33m:\u001b[0m\u001b[1;33m\u001b[0m\u001b[0m\n\u001b[0;32m     22\u001b[0m         \u001b[1;32mif\u001b[0m \u001b[1;33m(\u001b[0m\u001b[0moutput_shape\u001b[0m\u001b[1;33m[\u001b[0m\u001b[1;36m0\u001b[0m\u001b[1;33m]\u001b[0m \u001b[1;33m!=\u001b[0m \u001b[1;36m1\u001b[0m\u001b[1;33m)\u001b[0m\u001b[1;33m:\u001b[0m\u001b[1;33m\u001b[0m\u001b[0m\n",
        "\u001b[1;32mc:\\python27\\lib\\site-packages\\lmfit\\minimizer.pyc\u001b[0m in \u001b[0;36m__residual\u001b[1;34m(self, fvars)\u001b[0m\n\u001b[0;32m    286\u001b[0m \u001b[1;33m\u001b[0m\u001b[0m\n\u001b[0;32m    287\u001b[0m         \u001b[0mself\u001b[0m\u001b[1;33m.\u001b[0m\u001b[0mupdate_constraints\u001b[0m\u001b[1;33m(\u001b[0m\u001b[1;33m)\u001b[0m\u001b[1;33m\u001b[0m\u001b[0m\n\u001b[1;32m--> 288\u001b[1;33m         \u001b[0mout\u001b[0m \u001b[1;33m=\u001b[0m \u001b[0mself\u001b[0m\u001b[1;33m.\u001b[0m\u001b[0muserfcn\u001b[0m\u001b[1;33m(\u001b[0m\u001b[0mself\u001b[0m\u001b[1;33m.\u001b[0m\u001b[0mparams\u001b[0m\u001b[1;33m,\u001b[0m \u001b[1;33m*\u001b[0m\u001b[0mself\u001b[0m\u001b[1;33m.\u001b[0m\u001b[0muserargs\u001b[0m\u001b[1;33m,\u001b[0m \u001b[1;33m**\u001b[0m\u001b[0mself\u001b[0m\u001b[1;33m.\u001b[0m\u001b[0muserkws\u001b[0m\u001b[1;33m)\u001b[0m\u001b[1;33m\u001b[0m\u001b[0m\n\u001b[0m\u001b[0;32m    289\u001b[0m         \u001b[1;32mif\u001b[0m \u001b[0mcallable\u001b[0m\u001b[1;33m(\u001b[0m\u001b[0mself\u001b[0m\u001b[1;33m.\u001b[0m\u001b[0miter_cb\u001b[0m\u001b[1;33m)\u001b[0m\u001b[1;33m:\u001b[0m\u001b[1;33m\u001b[0m\u001b[0m\n\u001b[0;32m    290\u001b[0m             self.iter_cb(self.params, self.nfev, out,\n",
        "\u001b[1;32m<ipython-input-63-7dd8568cbb27>\u001b[0m in \u001b[0;36mresiduals_complex\u001b[1;34m(pars, fit_func, data, x)\u001b[0m\n\u001b[0;32m      2\u001b[0m     \u001b[1;32mprint\u001b[0m \u001b[0mfit_func\u001b[0m\u001b[1;33m\u001b[0m\u001b[0m\n\u001b[0;32m      3\u001b[0m     \u001b[1;32mdef\u001b[0m \u001b[0mresiduals_complex\u001b[0m\u001b[1;33m(\u001b[0m\u001b[0mpars\u001b[0m\u001b[1;33m,\u001b[0m \u001b[0mfit_func\u001b[0m\u001b[1;33m,\u001b[0m \u001b[0mdata\u001b[0m\u001b[1;33m,\u001b[0m \u001b[0mx\u001b[0m\u001b[1;33m)\u001b[0m\u001b[1;33m:\u001b[0m\u001b[1;33m\u001b[0m\u001b[0m\n\u001b[1;32m----> 4\u001b[1;33m         \u001b[0mres\u001b[0m \u001b[1;33m=\u001b[0m \u001b[0mfit_func\u001b[0m\u001b[1;33m(\u001b[0m\u001b[0mx\u001b[0m\u001b[1;33m,\u001b[0m\u001b[0mpars\u001b[0m\u001b[1;33m)\u001b[0m \u001b[1;33m-\u001b[0m \u001b[0mdata\u001b[0m\u001b[1;33m\u001b[0m\u001b[0m\n\u001b[0m\u001b[0;32m      5\u001b[0m         \u001b[1;32mreturn\u001b[0m \u001b[0mnp\u001b[0m\u001b[1;33m.\u001b[0m\u001b[0marray\u001b[0m\u001b[1;33m(\u001b[0m\u001b[1;33m[\u001b[0m\u001b[0mres\u001b[0m\u001b[1;33m.\u001b[0m\u001b[0mreal\u001b[0m\u001b[1;33m,\u001b[0m \u001b[0mres\u001b[0m\u001b[1;33m.\u001b[0m\u001b[0mimag\u001b[0m\u001b[1;33m]\u001b[0m\u001b[1;33m)\u001b[0m\u001b[1;33m\u001b[0m\u001b[0m\n\u001b[0;32m      6\u001b[0m     \u001b[0mlmfit\u001b[0m\u001b[1;33m.\u001b[0m\u001b[0mminimize\u001b[0m\u001b[1;33m(\u001b[0m\u001b[0mresiduals_complex\u001b[0m\u001b[1;33m,\u001b[0m \u001b[0mpars\u001b[0m\u001b[1;33m,\u001b[0m \u001b[0margs\u001b[0m\u001b[1;33m=\u001b[0m\u001b[1;33m(\u001b[0m\u001b[0mfit_func\u001b[0m\u001b[1;33m,\u001b[0m\u001b[0mdata\u001b[0m\u001b[1;33m,\u001b[0m \u001b[0mx\u001b[0m\u001b[1;33m)\u001b[0m\u001b[1;33m)\u001b[0m\u001b[1;33m\u001b[0m\u001b[0m\n",
        "\u001b[1;32m<ipython-input-57-c5b4cccd2d74>\u001b[0m in \u001b[0;36mhanger_func_complex\u001b[1;34m(x, params)\u001b[0m\n\u001b[0;32m      7\u001b[0m     '''\n\u001b[0;32m      8\u001b[0m     \u001b[1;31m#print type(xP[0])\u001b[0m\u001b[1;33m\u001b[0m\u001b[1;33m\u001b[0m\u001b[0m\n\u001b[1;32m----> 9\u001b[1;33m     \u001b[1;32mif\u001b[0m \u001b[0mtype\u001b[0m\u001b[1;33m(\u001b[0m\u001b[0mparams\u001b[0m\u001b[1;33m[\u001b[0m\u001b[1;36m0\u001b[0m\u001b[1;33m]\u001b[0m\u001b[1;33m)\u001b[0m\u001b[1;33m==\u001b[0m \u001b[0mtype\u001b[0m\u001b[1;33m(\u001b[0m\u001b[0mParameters\u001b[0m\u001b[1;33m(\u001b[0m\u001b[1;33m)\u001b[0m\u001b[1;33m)\u001b[0m\u001b[1;33m:\u001b[0m\u001b[1;33m\u001b[0m\u001b[0m\n\u001b[0m\u001b[0;32m     10\u001b[0m         \u001b[1;32mprint\u001b[0m \u001b[1;34m'Type is parameters'\u001b[0m\u001b[1;33m\u001b[0m\u001b[0m\n\u001b[0;32m     11\u001b[0m         \u001b[0mparam\u001b[0m \u001b[1;33m=\u001b[0m \u001b[0mxP\u001b[0m\u001b[1;33m[\u001b[0m\u001b[1;36m0\u001b[0m\u001b[1;33m]\u001b[0m\u001b[1;33m\u001b[0m\u001b[0m\n",
        "\u001b[1;31mKeyError\u001b[0m: 0"
       ]
      }
     ],
     "prompt_number": 67
    },
    {
     "cell_type": "heading",
     "level": 2,
     "metadata": {},
     "source": [
      "Test fitting"
     ]
    },
    {
     "cell_type": "code",
     "collapsed": false,
     "input": [
      "def line(x,a,b):\n",
      "    return a + b * x + 1.j\n",
      "lineModel = lmfit.Model(line)\n",
      "params = lineModel.make_params()\n",
      "x = np.arange(100)\n",
      "y = np.random.randn(100)\n",
      "fit = lineModel.fit(data=y,params = params, x = x)"
     ],
     "language": "python",
     "metadata": {},
     "outputs": [
      {
       "ename": "TypeError",
       "evalue": "Cannot cast array data from dtype('complex128') to dtype('float64') according to the rule 'safe'",
       "output_type": "pyerr",
       "traceback": [
        "\u001b[1;31m---------------------------------------------------------------------------\u001b[0m\n\u001b[1;31mTypeError\u001b[0m                                 Traceback (most recent call last)",
        "\u001b[1;31mTypeError\u001b[0m: Cannot cast array data from dtype('complex128') to dtype('float64') according to the rule 'safe'"
       ]
      },
      {
       "ename": "error",
       "evalue": "Result from function call is not a proper array of floats.",
       "output_type": "pyerr",
       "traceback": [
        "\u001b[1;31m---------------------------------------------------------------------------\u001b[0m\n\u001b[1;31merror\u001b[0m                                     Traceback (most recent call last)",
        "\u001b[1;32m<ipython-input-10-b9a1adb32f18>\u001b[0m in \u001b[0;36m<module>\u001b[1;34m()\u001b[0m\n\u001b[0;32m      5\u001b[0m \u001b[0mx\u001b[0m \u001b[1;33m=\u001b[0m \u001b[0mnp\u001b[0m\u001b[1;33m.\u001b[0m\u001b[0marange\u001b[0m\u001b[1;33m(\u001b[0m\u001b[1;36m100\u001b[0m\u001b[1;33m)\u001b[0m\u001b[1;33m\u001b[0m\u001b[0m\n\u001b[0;32m      6\u001b[0m \u001b[0my\u001b[0m \u001b[1;33m=\u001b[0m \u001b[0mnp\u001b[0m\u001b[1;33m.\u001b[0m\u001b[0mrandom\u001b[0m\u001b[1;33m.\u001b[0m\u001b[0mrandn\u001b[0m\u001b[1;33m(\u001b[0m\u001b[1;36m100\u001b[0m\u001b[1;33m)\u001b[0m\u001b[1;33m\u001b[0m\u001b[0m\n\u001b[1;32m----> 7\u001b[1;33m \u001b[0mfit\u001b[0m \u001b[1;33m=\u001b[0m \u001b[0mlineModel\u001b[0m\u001b[1;33m.\u001b[0m\u001b[0mfit\u001b[0m\u001b[1;33m(\u001b[0m\u001b[0mdata\u001b[0m\u001b[1;33m=\u001b[0m\u001b[0my\u001b[0m\u001b[1;33m,\u001b[0m\u001b[0mparams\u001b[0m \u001b[1;33m=\u001b[0m \u001b[0mparams\u001b[0m\u001b[1;33m,\u001b[0m \u001b[0mx\u001b[0m \u001b[1;33m=\u001b[0m \u001b[0mx\u001b[0m\u001b[1;33m)\u001b[0m\u001b[1;33m\u001b[0m\u001b[0m\n\u001b[0m",
        "\u001b[1;32mc:\\python27\\lib\\site-packages\\lmfit\\model.pyc\u001b[0m in \u001b[0;36mfit\u001b[1;34m(self, data, params, weights, method, iter_cb, scale_covar, verbose, fit_kws, **kwargs)\u001b[0m\n\u001b[0;32m    493\u001b[0m         output = ModelFit(self, params, method=method, iter_cb=iter_cb,\n\u001b[0;32m    494\u001b[0m                           scale_covar=scale_covar, fcn_kws=kwargs, **fit_kws)\n\u001b[1;32m--> 495\u001b[1;33m         \u001b[0moutput\u001b[0m\u001b[1;33m.\u001b[0m\u001b[0mfit\u001b[0m\u001b[1;33m(\u001b[0m\u001b[0mdata\u001b[0m\u001b[1;33m=\u001b[0m\u001b[0mdata\u001b[0m\u001b[1;33m,\u001b[0m \u001b[0mweights\u001b[0m\u001b[1;33m=\u001b[0m\u001b[0mweights\u001b[0m\u001b[1;33m)\u001b[0m\u001b[1;33m\u001b[0m\u001b[0m\n\u001b[0m\u001b[0;32m    496\u001b[0m         \u001b[0moutput\u001b[0m\u001b[1;33m.\u001b[0m\u001b[0mcomponents\u001b[0m \u001b[1;33m=\u001b[0m \u001b[0mself\u001b[0m\u001b[1;33m.\u001b[0m\u001b[0mcomponents\u001b[0m\u001b[1;33m\u001b[0m\u001b[0m\n\u001b[0;32m    497\u001b[0m         \u001b[1;32mreturn\u001b[0m \u001b[0moutput\u001b[0m\u001b[1;33m\u001b[0m\u001b[0m\n",
        "\u001b[1;32mc:\\python27\\lib\\site-packages\\lmfit\\model.pyc\u001b[0m in \u001b[0;36mfit\u001b[1;34m(self, data, params, weights, method, **kwargs)\u001b[0m\n\u001b[0;32m    683\u001b[0m         \u001b[0mself\u001b[0m\u001b[1;33m.\u001b[0m\u001b[0minit_fit\u001b[0m    \u001b[1;33m=\u001b[0m \u001b[0mself\u001b[0m\u001b[1;33m.\u001b[0m\u001b[0mmodel\u001b[0m\u001b[1;33m.\u001b[0m\u001b[0meval\u001b[0m\u001b[1;33m(\u001b[0m\u001b[0mparams\u001b[0m\u001b[1;33m=\u001b[0m\u001b[0mself\u001b[0m\u001b[1;33m.\u001b[0m\u001b[0minit_params\u001b[0m\u001b[1;33m,\u001b[0m \u001b[1;33m**\u001b[0m\u001b[0mself\u001b[0m\u001b[1;33m.\u001b[0m\u001b[0muserkws\u001b[0m\u001b[1;33m)\u001b[0m\u001b[1;33m\u001b[0m\u001b[0m\n\u001b[0;32m    684\u001b[0m \u001b[1;33m\u001b[0m\u001b[0m\n\u001b[1;32m--> 685\u001b[1;33m         \u001b[0mself\u001b[0m\u001b[1;33m.\u001b[0m\u001b[0mminimize\u001b[0m\u001b[1;33m(\u001b[0m\u001b[0mmethod\u001b[0m\u001b[1;33m=\u001b[0m\u001b[0mself\u001b[0m\u001b[1;33m.\u001b[0m\u001b[0mmethod\u001b[0m\u001b[1;33m)\u001b[0m\u001b[1;33m\u001b[0m\u001b[0m\n\u001b[0m\u001b[0;32m    686\u001b[0m         \u001b[0mself\u001b[0m\u001b[1;33m.\u001b[0m\u001b[0mbest_fit\u001b[0m \u001b[1;33m=\u001b[0m \u001b[0mself\u001b[0m\u001b[1;33m.\u001b[0m\u001b[0mmodel\u001b[0m\u001b[1;33m.\u001b[0m\u001b[0meval\u001b[0m\u001b[1;33m(\u001b[0m\u001b[0mparams\u001b[0m\u001b[1;33m=\u001b[0m\u001b[0mself\u001b[0m\u001b[1;33m.\u001b[0m\u001b[0mparams\u001b[0m\u001b[1;33m,\u001b[0m \u001b[1;33m**\u001b[0m\u001b[0mself\u001b[0m\u001b[1;33m.\u001b[0m\u001b[0muserkws\u001b[0m\u001b[1;33m)\u001b[0m\u001b[1;33m\u001b[0m\u001b[0m\n\u001b[0;32m    687\u001b[0m         \u001b[0mself\u001b[0m\u001b[1;33m.\u001b[0m\u001b[0mbest_values\u001b[0m \u001b[1;33m=\u001b[0m \u001b[0mself\u001b[0m\u001b[1;33m.\u001b[0m\u001b[0mmodel\u001b[0m\u001b[1;33m.\u001b[0m\u001b[0m_make_all_args\u001b[0m\u001b[1;33m(\u001b[0m\u001b[0mself\u001b[0m\u001b[1;33m.\u001b[0m\u001b[0mparams\u001b[0m\u001b[1;33m)\u001b[0m\u001b[1;33m\u001b[0m\u001b[0m\n",
        "\u001b[1;32mc:\\python27\\lib\\site-packages\\lmfit\\minimizer.pyc\u001b[0m in \u001b[0;36mminimize\u001b[1;34m(self, method)\u001b[0m\n\u001b[0;32m    745\u001b[0m             \u001b[0mfunction\u001b[0m \u001b[1;33m=\u001b[0m \u001b[0mself\u001b[0m\u001b[1;33m.\u001b[0m\u001b[0mlbfgsb\u001b[0m\u001b[1;33m\u001b[0m\u001b[0m\n\u001b[0;32m    746\u001b[0m \u001b[1;33m\u001b[0m\u001b[0m\n\u001b[1;32m--> 747\u001b[1;33m         \u001b[1;32mreturn\u001b[0m \u001b[0mfunction\u001b[0m\u001b[1;33m(\u001b[0m\u001b[1;33m**\u001b[0m\u001b[0mkwargs\u001b[0m\u001b[1;33m)\u001b[0m\u001b[1;33m\u001b[0m\u001b[0m\n\u001b[0m\u001b[0;32m    748\u001b[0m \u001b[1;33m\u001b[0m\u001b[0m\n\u001b[0;32m    749\u001b[0m \u001b[1;33m\u001b[0m\u001b[0m\n",
        "\u001b[1;32mc:\\python27\\lib\\site-packages\\lmfit\\minimizer.pyc\u001b[0m in \u001b[0;36mleastsq\u001b[1;34m(self, **kws)\u001b[0m\n\u001b[0;32m    594\u001b[0m         \u001b[0morig_warn_settings\u001b[0m \u001b[1;33m=\u001b[0m \u001b[0mnp\u001b[0m\u001b[1;33m.\u001b[0m\u001b[0mgeterr\u001b[0m\u001b[1;33m(\u001b[0m\u001b[1;33m)\u001b[0m\u001b[1;33m\u001b[0m\u001b[0m\n\u001b[0;32m    595\u001b[0m         \u001b[0mnp\u001b[0m\u001b[1;33m.\u001b[0m\u001b[0mseterr\u001b[0m\u001b[1;33m(\u001b[0m\u001b[0mall\u001b[0m\u001b[1;33m=\u001b[0m\u001b[1;34m'ignore'\u001b[0m\u001b[1;33m)\u001b[0m\u001b[1;33m\u001b[0m\u001b[0m\n\u001b[1;32m--> 596\u001b[1;33m         \u001b[0mlsout\u001b[0m \u001b[1;33m=\u001b[0m \u001b[0mscipy_leastsq\u001b[0m\u001b[1;33m(\u001b[0m\u001b[0mself\u001b[0m\u001b[1;33m.\u001b[0m\u001b[0m__residual\u001b[0m\u001b[1;33m,\u001b[0m \u001b[0mself\u001b[0m\u001b[1;33m.\u001b[0m\u001b[0mvars\u001b[0m\u001b[1;33m,\u001b[0m \u001b[1;33m**\u001b[0m\u001b[0mlskws\u001b[0m\u001b[1;33m)\u001b[0m\u001b[1;33m\u001b[0m\u001b[0m\n\u001b[0m\u001b[0;32m    597\u001b[0m         \u001b[0m_best\u001b[0m\u001b[1;33m,\u001b[0m \u001b[0m_cov\u001b[0m\u001b[1;33m,\u001b[0m \u001b[0minfodict\u001b[0m\u001b[1;33m,\u001b[0m \u001b[0merrmsg\u001b[0m\u001b[1;33m,\u001b[0m \u001b[0mier\u001b[0m \u001b[1;33m=\u001b[0m \u001b[0mlsout\u001b[0m\u001b[1;33m\u001b[0m\u001b[0m\n\u001b[0;32m    598\u001b[0m \u001b[1;33m\u001b[0m\u001b[0m\n",
        "\u001b[1;32mc:\\python27\\lib\\site-packages\\scipy\\optimize\\minpack.pyc\u001b[0m in \u001b[0;36mleastsq\u001b[1;34m(func, x0, args, Dfun, full_output, col_deriv, ftol, xtol, gtol, maxfev, epsfcn, factor, diag)\u001b[0m\n\u001b[0;32m    377\u001b[0m             \u001b[0mmaxfev\u001b[0m \u001b[1;33m=\u001b[0m \u001b[1;36m200\u001b[0m\u001b[1;33m*\u001b[0m\u001b[1;33m(\u001b[0m\u001b[0mn\u001b[0m \u001b[1;33m+\u001b[0m \u001b[1;36m1\u001b[0m\u001b[1;33m)\u001b[0m\u001b[1;33m\u001b[0m\u001b[0m\n\u001b[0;32m    378\u001b[0m         retval = _minpack._lmdif(func, x0, args, full_output, ftol, xtol,\n\u001b[1;32m--> 379\u001b[1;33m                                  gtol, maxfev, epsfcn, factor, diag)\n\u001b[0m\u001b[0;32m    380\u001b[0m     \u001b[1;32melse\u001b[0m\u001b[1;33m:\u001b[0m\u001b[1;33m\u001b[0m\u001b[0m\n\u001b[0;32m    381\u001b[0m         \u001b[1;32mif\u001b[0m \u001b[0mcol_deriv\u001b[0m\u001b[1;33m:\u001b[0m\u001b[1;33m\u001b[0m\u001b[0m\n",
        "\u001b[1;31merror\u001b[0m: Result from function call is not a proper array of floats."
       ]
      }
     ],
     "prompt_number": 10
    },
    {
     "cell_type": "code",
     "collapsed": false,
     "input": [
      "plt.plot(S21)\n",
      "plt.plot(smooth(S21))"
     ],
     "language": "python",
     "metadata": {},
     "outputs": [
      {
       "metadata": {},
       "output_type": "pyout",
       "prompt_number": 24,
       "text": [
        "[<matplotlib.lines.Line2D at 0x14ceb4a8>]"
       ]
      }
     ],
     "prompt_number": 24
    },
    {
     "cell_type": "heading",
     "level": 2,
     "metadata": {},
     "source": [
      "Animation"
     ]
    },
    {
     "cell_type": "code",
     "collapsed": false,
     "input": [
      "def init():\n",
      "    resonatorline.set_data([], [])\n",
      "    resonatorfitline.set_data([], [])\n",
      "#     Qiline.set_data([], [])\n",
      "#     f0line.set_data([], [])\n",
      "    return (resonatorline, resonatorfitline)#, Qiline, f0line)"
     ],
     "language": "python",
     "metadata": {},
     "outputs": [],
     "prompt_number": 15
    },
    {
     "cell_type": "code",
     "collapsed": false,
     "input": [
      "# animation function.  This is called sequentially\n",
      "def show_plot(i):\n",
      "    filepath = os.path.join(path,filenames[i])\n",
      "    if os.path.exists(filepath):\n",
      "        data=h5.File(filepath,'r')\n",
      "    else:\n",
      "        raise NameError('Data file not found!')\n",
      "    freq = data['Experimental_Data']['Frequency'].value\n",
      "    S21 = data['Experimental_Data']['S21 (comp)'].value\n",
      "    \n",
      "    fres = fit_S21_resonance_complex(freq,S21)\n",
      "    Qi = fres['fitparsobj']['Qi'].value\n",
      "    f0 = fres['fitparsobj']['f0'].value\n",
      "    if 'temperature' in data['Experimental_Data'].keys():\n",
      "        temperature = data['Experimental_Data']['temperature'].value\n",
      "        show_plot.temperature += [temperature]\n",
      "        show_plot.Qi += [Qi]\n",
      "        show_plot.f0 += [f0]\n",
      "    \n",
      "    resonatorline.set_data(freq, np.abs(S21))\n",
      "    resonatorfitline.set_data(freq, np.abs(fres['fit']))\n",
      "    \n",
      "#     if len(show_plot.temperature) != 0:\n",
      "# #         npoints = len(show_plot.temperature)\n",
      "#         Qiline.set_data(show_plot.temperature, show_plot.Qi)\n",
      "#         f0line.set_data(show_plot.temperature, show_plot.f0)\n",
      "#     else:\n",
      "#         Qiline.set_data([], [])\n",
      "#         f0line.set_data([], [])\n",
      "        \n",
      "    \n",
      "    \n",
      "    plt.subplot(311)\n",
      "    plt.title('%d of %d' % (i + 1, len(filenames)))\n",
      "    plt.draw()\n",
      "    \n",
      "    print '*'*15\n",
      "    print show_plot.Qi\n",
      "    print show_plot.f0\n",
      "    print show_plot.temperature\n",
      "#     plt.subplot(312)\n",
      "    \n",
      "    return (resonatorline, resonatorfitline, Qiline, f0line)\n",
      "show_plot.Qi = []\n",
      "show_plot.f0 = []\n",
      "show_plot.temperature = []"
     ],
     "language": "python",
     "metadata": {},
     "outputs": [],
     "prompt_number": 187
    },
    {
     "cell_type": "code",
     "collapsed": false,
     "input": [
      "class ResonatorAnimation(animation.TimedAnimation):\n",
      "    def __init__(self):\n",
      "        fig = plt.figure('Resonator during cooldown')\n",
      "\n",
      "        ax1 = fig.add_subplot(3,1,1)\n",
      "        ax2 = fig.add_subplot(3,1,2)\n",
      "        ax3 = fig.add_subplot(3,1,3)\n",
      "\n",
      "        ax1.set_xlabel('Frequency (GHz)')\n",
      "        ax1.set_ylabel('S21 (mV)')\n",
      "        self.lineresonator = Line2D([], [])\n",
      "        self.lineresonatorfit = Line2D([], [])\n",
      "        ax1.add_line(self.lineresonator)\n",
      "        ax1.add_line(self.lineresonatorfit)\n",
      "        ax1.set_ylim(0,0.045)\n",
      "\n",
      "\n",
      "\n",
      "        ax2.set_xlabel('Temperature (mK)')\n",
      "        ax2.set_ylabel('Internal quality factor')\n",
      "        self.lineQi = Line2D([], [])\n",
      "        ax2.add_line(self.lineQi)\n",
      "\n",
      "\n",
      "\n",
      "        ax3.set_xlabel('Temperature (mK)')\n",
      "        ax3.set_ylabel('Center frequency')\n",
      "        self.linef0 = Line2D([], [])\n",
      "        ax3.add_line(self.linef0)\n",
      "\n",
      "        for ax in [ax1,ax2,ax3]:\n",
      "            ax.get_xaxis().get_major_formatter().set_useOffset(False)\n",
      "            ax.get_yaxis().get_major_formatter().set_useOffset(False)\n",
      "\n",
      "        self._temperature = []\n",
      "        self._Qi = []\n",
      "        self._f0 = []\n",
      "\n",
      "        animation.TimedAnimation.__init__(self, fig, interval=50, blit=True)\n",
      "\n",
      "    def _draw_frame(self, framedata):\n",
      "        i = framedata\n",
      "\n",
      "        filepath = os.path.join(path,filenames[i])\n",
      "        if os.path.exists(filepath):\n",
      "            data=h5.File(filepath,'r')\n",
      "        else:\n",
      "            raise NameError('Data file not found!')\n",
      "        freq = data['Experimental_Data']['Frequency'].value\n",
      "        S21 = data['Experimental_Data']['S21 (comp)'].value\n",
      "        \n",
      "        fres = fit_S21_resonance_complex(freq,S21)\n",
      "        Qi = fres['fitparsobj']['Qi'].value\n",
      "        f0 = fres['fitparsobj']['f0'].value\n",
      "        if 'temperature' in data['Experimental_Data'].keys():\n",
      "            temperature = data['Experimental_Data']['temperature'].value\n",
      "            self._temperature += [temperature]\n",
      "            self._Qi += [Qi]\n",
      "            self._f0 += [f0]\n",
      "        \n",
      "        self.lineresonator.set_data(freq, np.abs(S21))\n",
      "        self.lineresonatorfit.set_data(freq, np.abs(fres['fit']))\n",
      "        \n",
      "        if len(self._temperature) != 0:\n",
      "    #         npoints = len(self._temperature)\n",
      "            self.lineQi.set_data(self._temperature, self._Qi)\n",
      "            self.linef0.set_data(self._temperature, self._f0)\n",
      "        else:\n",
      "            self.lineQi.set_data([], [])\n",
      "            self.linef0.set_data([], [])\n",
      "\n",
      "\n",
      "\n",
      "        self._drawn_artists = [self.lineresonator, self.lineresonatorfit,\n",
      "                               self.lineQi, self.linef0]\n",
      "\n",
      "    def new_frame_seq(self):\n",
      "        return iter(range(len(filenames)))\n",
      "\n",
      "    def _init_draw(self):\n",
      "        lines =  [self.lineresonator, self.lineresonatorfit,\n",
      "                               self.lineQi, self.linef0]\n",
      "        for l in lines:\n",
      "            l.set_data([], [])\n",
      "\n",
      "\n",
      "#         anim = animation.FuncAnimation(fig, show_plot, init_func=init,\n",
      "#                                        frames=len(filenames), interval=100, blit=True,repeat=False)\n",
      "#         plt.show()"
     ],
     "language": "python",
     "metadata": {},
     "outputs": [],
     "prompt_number": 14
    },
    {
     "cell_type": "heading",
     "level": 2,
     "metadata": {},
     "source": [
      "Animation example"
     ]
    },
    {
     "cell_type": "code",
     "collapsed": false,
     "input": [
      "\n"
     ],
     "language": "python",
     "metadata": {},
     "outputs": [],
     "prompt_number": 2
    },
    {
     "cell_type": "code",
     "collapsed": false,
     "input": [
      "# initialization function: plot the background of each frame\n",
      "def init():\n",
      "    line.set_data([], [])\n",
      "    return line,\n",
      "\n",
      "# animation function.  This is called sequentially\n",
      "def animate(i):\n",
      "    x = np.linspace(0, 2, 1000)\n",
      "    y = np.sin(2 * np.pi * (x - 0.01 * i))\n",
      "    line.set_data(x, y)\n",
      "    return line,\n",
      "\n",
      "# call the animator.  blit=True means only re-draw the parts that have changed.\n",
      "anim = animation.FuncAnimation(fig, animate, init_func=init,\n",
      "                               frames=200, interval=200, blit=True,repeat=False)\n",
      "\n",
      "# save the animation as an mp4.  This requires ffmpeg or mencoder to be\n",
      "# installed.  The extra_args ensure that the x264 codec is used, so that\n",
      "# the video can be embedded in html5.  You may need to adjust this for\n",
      "# your system: for more information, see\n",
      "# http://matplotlib.sourceforge.net/api/animation_api.html\n",
      "anim.save('basic_animation.mp4', fps=30, extra_args=['-vcodec', 'libx264'])\n",
      "\n",
      "plt.show()"
     ],
     "language": "python",
     "metadata": {},
     "outputs": [],
     "prompt_number": 42
    },
    {
     "cell_type": "code",
     "collapsed": false,
     "input": [
      "import numpy as np\n",
      "import matplotlib.pyplot as plt\n",
      "from matplotlib.lines import Line2D\n",
      "import matplotlib.animation as animation\n",
      "\n",
      "# This example uses subclassing, but there is no reason that the proper function\n",
      "# couldn't be set up and then use FuncAnimation. The code is long, but not\n",
      "# really complex. The length is due solely to the fact that there are a total\n",
      "# of 9 lines that need to be changed for the animation as well as 3 subplots\n",
      "# that need initial set up.\n",
      "class SubplotAnimation(animation.TimedAnimation):\n",
      "    def __init__(self):\n",
      "        fig = plt.figure()\n",
      "        ax1 = fig.add_subplot(1, 2, 1)\n",
      "        ax2 = fig.add_subplot(2, 2, 2)\n",
      "        ax3 = fig.add_subplot(2, 2, 4)\n",
      "\n",
      "        self.t = np.linspace(0, 80, 400)\n",
      "        self.x = np.cos(2 * np.pi * self.t / 10.)\n",
      "        self.y = np.sin(2 * np.pi * self.t / 10.)\n",
      "        self.z = 10 * self.t\n",
      "\n",
      "        ax1.set_xlabel('x')\n",
      "        ax1.set_ylabel('y')\n",
      "        self.line1 = Line2D([], [], color='black')\n",
      "        self.line1a = Line2D([], [], color='red', linewidth=2)\n",
      "        self.line1e = Line2D([], [], color='red', marker='o', markeredgecolor='r')\n",
      "        ax1.add_line(self.line1)\n",
      "        ax1.add_line(self.line1a)\n",
      "        ax1.add_line(self.line1e)\n",
      "        ax1.set_xlim(-1, 1)\n",
      "        ax1.set_ylim(-2, 2)\n",
      "        ax1.set_aspect('equal', 'datalim')\n",
      "\n",
      "        ax2.set_xlabel('y')\n",
      "        ax2.set_ylabel('z')\n",
      "        self.line2 = Line2D([], [], color='black')\n",
      "        self.line2a = Line2D([], [], color='red', linewidth=2)\n",
      "        self.line2e = Line2D([], [], color='red', marker='o', markeredgecolor='r')\n",
      "        ax2.add_line(self.line2)\n",
      "        ax2.add_line(self.line2a)\n",
      "        ax2.add_line(self.line2e)\n",
      "        ax2.set_xlim(-1, 1)\n",
      "        ax2.set_ylim(0, 800)\n",
      "\n",
      "        ax3.set_xlabel('x')\n",
      "        ax3.set_ylabel('z')\n",
      "        self.line3 = Line2D([], [], color='black')\n",
      "        self.line3a = Line2D([], [], color='red', linewidth=2)\n",
      "        self.line3e = Line2D([], [], color='red', marker='o', markeredgecolor='r')\n",
      "        ax3.add_line(self.line3)\n",
      "        ax3.add_line(self.line3a)\n",
      "        ax3.add_line(self.line3e)\n",
      "        ax3.set_xlim(-1, 1)\n",
      "        ax3.set_ylim(0, 800)\n",
      "\n",
      "        animation.TimedAnimation.__init__(self, fig, interval=50, blit=True)\n",
      "\n",
      "    def _draw_frame(self, framedata):\n",
      "        i = framedata\n",
      "        head = i - 1\n",
      "        head_len = 10\n",
      "        head_slice = (self.t > self.t[i] - 1.0) & (self.t < self.t[i])\n",
      "\n",
      "        self.line1.set_data(self.x[:i], self.y[:i])\n",
      "        self.line1a.set_data(self.x[head_slice], self.y[head_slice])\n",
      "        self.line1e.set_data(self.x[head], self.y[head])\n",
      "\n",
      "        self.line2.set_data(self.y[:i], self.z[:i])\n",
      "        self.line2a.set_data(self.y[head_slice], self.z[head_slice])\n",
      "        self.line2e.set_data(self.y[head], self.z[head])\n",
      "\n",
      "        self.line3.set_data(self.x[:i], self.z[:i])\n",
      "        self.line3a.set_data(self.x[head_slice], self.z[head_slice])\n",
      "        self.line3e.set_data(self.x[head], self.z[head])\n",
      "\n",
      "        self._drawn_artists = [self.line1, self.line1a, self.line1e,\n",
      "            self.line2, self.line2a, self.line2e,\n",
      "            self.line3, self.line3a, self.line3e]\n",
      "\n",
      "    def new_frame_seq(self):\n",
      "        return iter(range(self.t.size))\n",
      "\n",
      "    def _init_draw(self):\n",
      "        lines =  [self.line1, self.line1a, self.line1e,\n",
      "            self.line2, self.line2a, self.line2e,\n",
      "            self.line3, self.line3a, self.line3e]\n",
      "        for l in lines:\n",
      "            l.set_data([], [])\n",
      "\n",
      "ani = SubplotAnimation()\n",
      "#ani.save('test_sub.mp4')\n",
      "plt.show()"
     ],
     "language": "python",
     "metadata": {},
     "outputs": [],
     "prompt_number": 5
    },
    {
     "cell_type": "code",
     "collapsed": false,
     "input": [],
     "language": "python",
     "metadata": {},
     "outputs": []
    },
    {
     "cell_type": "code",
     "collapsed": false,
     "input": [],
     "language": "python",
     "metadata": {},
     "outputs": []
    }
   ],
   "metadata": {}
  }
 ]
}