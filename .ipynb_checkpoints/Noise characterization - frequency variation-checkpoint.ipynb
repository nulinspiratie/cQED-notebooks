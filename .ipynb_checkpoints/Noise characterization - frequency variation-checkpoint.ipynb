{
 "metadata": {
  "name": "",
  "signature": "sha256:b7f0ede67ae6456173a2d04411ba5f5716643e6623cda2003607b8d19a813315"
 },
 "nbformat": 3,
 "nbformat_minor": 0,
 "worksheets": [
  {
   "cells": [
    {
     "cell_type": "code",
     "collapsed": false,
     "input": [
      "import h5py as h5\n",
      "from matplotlib import pyplot as plt\n",
      "import numpy as np\n",
      "import os\n",
      "%pylab\n",
      "plt.ion()\n",
      "from lmfit import Model"
     ],
     "language": "python",
     "metadata": {},
     "outputs": [
      {
       "output_type": "stream",
       "stream": "stdout",
       "text": [
        "Using matplotlib backend: GTKAgg\n",
        "Populating the interactive namespace from numpy and matplotlib\n"
       ]
      }
     ],
     "prompt_number": 1
    },
    {
     "cell_type": "code",
     "collapsed": false,
     "input": [
      "# These are the \"Tableau 20\" colors as RGB.  \n",
      "tableau20 = [(31, 119, 180), (174, 199, 232), (255, 127, 14), (255, 187, 120),  \n",
      "             (44, 160, 44), (152, 223, 138), (214, 39, 40), (255, 152, 150),  \n",
      "             (148, 103, 189), (197, 176, 213), (140, 86, 75), (196, 156, 148),  \n",
      "             (227, 119, 194), (247, 182, 210), (127, 127, 127), (199, 199, 199),  \n",
      "             (188, 189, 34), (219, 219, 141), (23, 190, 207), (158, 218, 229)]  \n",
      "  \n",
      "# Scale the RGB values to the [0, 1] range, which is the format matplotlib accepts.  \n",
      "for i in range(len(tableau20)):  \n",
      "    r, g, b = tableau20[i]  \n",
      "    tableau20[i] = (r / 255., g / 255., b / 255.)  "
     ],
     "language": "python",
     "metadata": {},
     "outputs": [],
     "prompt_number": 2
    },
    {
     "cell_type": "code",
     "collapsed": false,
     "input": [
      "def stars():\n",
      "    print '*'*15"
     ],
     "language": "python",
     "metadata": {},
     "outputs": [],
     "prompt_number": 3
    },
    {
     "cell_type": "code",
     "collapsed": false,
     "input": [
      "def data_smoothing(x, N):\n",
      "    return np.convolve(np.array(N*[np.average(x[:N])]+x.tolist()+N*[np.average(x[-N:])]), np.ones((N,))/N)[(3*N/2-1):-3*N/2]"
     ],
     "language": "python",
     "metadata": {},
     "outputs": [],
     "prompt_number": 4
    },
    {
     "cell_type": "heading",
     "level": 1,
     "metadata": {},
     "source": [
      "HDF5 data file loading"
     ]
    },
    {
     "cell_type": "code",
     "collapsed": false,
     "input": [
      "npoints = 2001\n",
      "bw = 300\n",
      "power = -60\n",
      "defaultN = 300"
     ],
     "language": "python",
     "metadata": {},
     "outputs": [],
     "prompt_number": 5
    },
    {
     "cell_type": "code",
     "collapsed": false,
     "input": [
      "def load_filenames(folder):\n",
      "\n",
      "    datafilenamesdict = {}\n",
      "    filenames = os.listdir(folder)\n",
      "    filenames = filter(lambda x: x[-4:] == 'hdf5', filenames)\n",
      "\n",
      "    for filename in filenames:\n",
      "        frequency = float(filename.split('_')[3])\n",
      "        if not frequency in datafilenamesdict.keys():\n",
      "            datafilenamesdict[frequency]=[]\n",
      "        datafilenamesdict[frequency].append(filename)\n",
      "    return datafilenamesdict"
     ],
     "language": "python",
     "metadata": {},
     "outputs": [],
     "prompt_number": 6
    },
    {
     "cell_type": "code",
     "collapsed": false,
     "input": [
      "def load_data_from_filenames(datafilenamesdict, folder, datatype = 'ampl'):\n",
      "    data={}\n",
      "    for frequency, freqfilenames in datafilenamesdict.items():\n",
      "        #Find the files that are not empty\n",
      "        for k, filename in enumerate(freqfilenames):\n",
      "            files = len(freqfilenames)\n",
      "            filepath = os.path.join(folder,filename)\n",
      "            filedata = h5.File(filepath, 'r')\n",
      "            if not 'Experimental Data' in filedata.keys():\n",
      "                freqfilenames.pop(k)\n",
      "                print 'popped', filepath\n",
      "            filedata.close()\n",
      "\n",
      "        files = len(freqfilenames)\n",
      "        if files != 0:\n",
      "            data[frequency] = np.zeros(files * npoints)\n",
      "            for k, filename in enumerate(freqfilenames):\n",
      "                filepath = os.path.join(folder,filename)\n",
      "                filedata = h5.File(filepath, 'r')\n",
      "                data[frequency][k*npoints : (k+1) * npoints] = filedata['Experimental Data']['S21 (%s)' % datatype].value\n",
      "                filedata.close()\n",
      "            #print 'frequency: {:<10s}\\tlength: {:d}'.format(frequency, len(data[frequency]))\n",
      "    return data"
     ],
     "language": "python",
     "metadata": {},
     "outputs": [],
     "prompt_number": 7
    },
    {
     "cell_type": "code",
     "collapsed": false,
     "input": [
      "def load_data(folder, datatype = 'ampl'):\n",
      "    if folder[:2] != 'D:':\n",
      "        folder = os.path.join(r'D:\\qtlab\\data\\Noise characterization', folder)\n",
      "    filenamesdict = load_filenames(folder)\n",
      "    data = load_data_from_filenames(filenamesdict, folder, datatype)\n",
      "    return data"
     ],
     "language": "python",
     "metadata": {},
     "outputs": [],
     "prompt_number": 8
    },
    {
     "cell_type": "heading",
     "level": 3,
     "metadata": {},
     "source": [
      "Plot bandwidth data"
     ]
    },
    {
     "cell_type": "code",
     "collapsed": false,
     "input": [
      "def plot_data(data,freqlist, name = 'Frequency data'):\n",
      "    plt.figure(name)\n",
      "    for freq in freqlist:\n",
      "        plt.plot(data[freq], label = 'freq: {} GHz'.format(freq))\n",
      "    plt.title('Freq: {} GHz bw: {} Hz P: {} dBm'.format(freq, bw, power))\n",
      "    plt.xlabel('Measurement point')\n",
      "    plt.ylabel('S21 (mV)')\n",
      "    plt.legend(fontsize='small')"
     ],
     "language": "python",
     "metadata": {},
     "outputs": [],
     "prompt_number": 9
    },
    {
     "cell_type": "heading",
     "level": 3,
     "metadata": {},
     "source": [
      "Plot bandwidth data as a function of averages"
     ]
    },
    {
     "cell_type": "heading",
     "level": 4,
     "metadata": {},
     "source": [
      "Perform quadratic fit"
     ]
    },
    {
     "cell_type": "code",
     "collapsed": false,
     "input": [
      "def quadratic(x, a, b, c):\n",
      "    return a + b * x + c * x**2\n",
      "quadraticmodel = Model(quadratic)"
     ],
     "language": "python",
     "metadata": {},
     "outputs": [],
     "prompt_number": 10
    },
    {
     "cell_type": "code",
     "collapsed": false,
     "input": [
      "def fit_quadratic(data):\n",
      "    '''Input: data of a single bw and power\n",
      "    '''\n",
      "    #Create fit\n",
      "    ainit, binit, cinit = mean(data), 0, 0\n",
      "    x = np.arange(len(data))\n",
      "    fitresult = quadraticmodel.fit(data, x = x, a = ainit, b = binit, c = cinit)\n",
      "    return fitresult"
     ],
     "language": "python",
     "metadata": {},
     "outputs": [],
     "prompt_number": 11
    },
    {
     "cell_type": "code",
     "collapsed": false,
     "input": [
      "def plot_data_averaging(data, frequency, N=defaultN, avglist = [1,3,10,30, 100,300]):\n",
      "\n",
      "    #Initialize figure\n",
      "    plt.figure('Noise versus averaging',figsize = (6,4))\n",
      "    plt.gca().get_xaxis().get_major_formatter().set_useOffset(False)\n",
      "    plt.gca().get_yaxis().get_major_formatter().set_useOffset(False)\n",
      "    plt.title('Freq: {} Hz'.format(frequency))\n",
      "\n",
      "    points = len(data[frequency])\n",
      "\n",
      "    fitresult = fit_quadratic(data[frequency])\n",
      "\n",
      "    for avg in avglist:\n",
      "        #Perform averaging\n",
      "        segments = points / avg\n",
      "        data_avg = map(np.mean,np.array_split(data[frequency],segments)) \n",
      "        x = np.linspace(0,points,len(data_avg))\n",
      "        plt.plot(x, data_avg, label = 'averages: %d' % avg)\n",
      "\n",
      "\n",
      "    plt.plot(data_smoothing(data[frequency],N),label = 'smoothing N={}'.format(N))\n",
      "    plt.plot(fitresult.best_fit, label = 'fit')\n",
      "    xlim = plt.xlim()\n",
      "    ylim = plt.ylim()\n",
      "    plt.text(xlim[0] + .02*(xlim[1] - xlim[0]),ylim[0] + .02*(ylim[1] - ylim[0]),\n",
      "             'Fit results:\\na: %.3G\\nb: %.3G\\nc: %.3G' % tuple(fitresult.best_values.values()))\n",
      "    plt.legend(fontsize='small')"
     ],
     "language": "python",
     "metadata": {},
     "outputs": [],
     "prompt_number": 12
    },
    {
     "cell_type": "heading",
     "level": 3,
     "metadata": {},
     "source": [
      "Standard deviation and variance (with correction)"
     ]
    },
    {
     "cell_type": "code",
     "collapsed": false,
     "input": [
      "def normalize_data_smoothing(data,N = defaultN):\n",
      "    datanorm={}\n",
      "    for frequency, freqdata in data.items():\n",
      "        datanorm[frequency] = freqdata / data_smoothing(freqdata,N)\n",
      "    return datanorm"
     ],
     "language": "python",
     "metadata": {},
     "outputs": [],
     "prompt_number": 13
    },
    {
     "cell_type": "code",
     "collapsed": false,
     "input": [
      "def normalize_data_fit(data):\n",
      "    datanorm={}\n",
      "    for frequency, freqdata in data.items():\n",
      "        fitresult = fit_quadratic(freqdata)\n",
      "        x = np.arange(len(freqdata))\n",
      "        a,b,c = [fitresult.best_values[par] for par in ['a','b','c']]\n",
      "        datanorm[frequency] =  freqdata / quadraticmodel.func(x,a,b,c)\n",
      "    return datanorm"
     ],
     "language": "python",
     "metadata": {},
     "outputs": [],
     "prompt_number": 14
    },
    {
     "cell_type": "code",
     "collapsed": false,
     "input": [
      "def get_data_info(data, avglist = [1,3,10,30,100,300]):\n",
      "    avgdata = {}\n",
      "    for frequency, freqdata in data.items():\n",
      "        avgdata[frequency] = {}\n",
      "        points = len(freqdata)\n",
      "\n",
      "        avgdata[frequency] = np.zeros((len(avglist),3))\n",
      "        for k, avg in enumerate(avglist):\n",
      "            segments = points / avg\n",
      "            data_avg = np.array(map(np.mean,np.array_split(freqdata,segments)))\n",
      "            avgdata[frequency][k] = [np.mean(data_avg),np.std(data_avg), np.var(data_avg)]\n",
      "    return avgdata"
     ],
     "language": "python",
     "metadata": {},
     "outputs": [],
     "prompt_number": 15
    },
    {
     "cell_type": "code",
     "collapsed": false,
     "input": [
      "def plot_data_info(avgdata, freqplotlist = [NaN], avglist = [1,3,10,30,100,300]):\n",
      "    '''Plots the mean, std, and var\n",
      "    input: data\n",
      "        bwplotlist: list of bandwidths to plot\n",
      "    Note to use the normalized data as input\n",
      "    '''\n",
      "\n",
      "\n",
      "    fig = plt.figure('mean, std, var', figsize=(6,8))\n",
      "    axmean = fig.add_subplot(3,1,1)\n",
      "    axmean.get_yaxis().get_major_formatter().set_useOffset(False)\n",
      "    axmean.ticklabel_format(style='sci', axis='y', scilimits=(0,0))\n",
      "    axmean.set_ylabel('mean S21 (mV)')\n",
      "    plt.setp(axmean.get_xticklabels(), visible=False)\n",
      "\n",
      "    axstd = fig.add_subplot(3,1,2, sharex = axmean)\n",
      "    axstd.set_ylabel('std S21 (mV)')\n",
      "    plt.setp(axstd.get_xticklabels(), visible=False)\n",
      "\n",
      "    axvar = fig.add_subplot(3,1,3, sharex = axmean)\n",
      "    axvar.set_xlabel('Number of averages')\n",
      "    axvar.set_ylabel('var S21 (mV)')\n",
      "\n",
      "\n",
      "    #Plotting\n",
      "    for frequency, freqdata in sorted(avgdata.items()):\n",
      "        if frequency in freqplotlist or freqplotlist == [NaN]:\n",
      "            axmean.semilogx(avglist, freqdata[:,0], 'o-', label = 'freq: {}'.format(frequency))\n",
      "            axstd.loglog(avglist, freqdata[:,1], 'o-', label = 'freq: {}'.format(frequency))\n",
      "            axvar.loglog(avglist, freqdata[:,2], 'o-', label = 'freq: {}'.format(frequency))\n",
      "\n",
      "    axmean.legend(fontsize='small')\n",
      "    plt.tight_layout()"
     ],
     "language": "python",
     "metadata": {},
     "outputs": [],
     "prompt_number": 16
    },
    {
     "cell_type": "heading",
     "level": 3,
     "metadata": {},
     "source": [
      "Calibrations"
     ]
    },
    {
     "cell_type": "code",
     "collapsed": false,
     "input": [
      "#Load calibration settings\n",
      "resolution = .2 #GHz, for smoothing\n",
      "\n",
      "calnpz = np.load('D:\\qtlab\\data\\Set5\\calibrations\\calibrations.npz')\n",
      "sma_vatt_cal = np.array([calnpz['f'],calnpz['single_sma_vatt']]).transpose()\n",
      "\n",
      "set5New_cal = np.loadtxt('D:\\qtlab\\data\\Set5\\calibration cooldown Maserati 07\\LIN1.dat',delimiter=';',skiprows=29,usecols=(0,1))\n",
      "set4_cal = np.loadtxt('D:\\qtlab\\data\\Set5\\calibration cooldown Maserati 07\\LIN2.dat',delimiter=';',skiprows=29,usecols=(0,1))\n",
      "set5_cal = np.loadtxt('D:\\qtlab\\data\\Set5\\calibration cooldown Maserati 07\\LIN3.dat',delimiter=';',skiprows=29,usecols=(0,1))\n",
      "lin4_cal = np.loadtxt('D:\\qtlab\\data\\Set5\\calibration cooldown Maserati 07\\LIN4.dat',delimiter=';',skiprows=29,usecols=(0,1))\n",
      "lin7_cal = np.loadtxt('D:\\qtlab\\data\\Set5\\calibration cooldown Maserati 07\\LIN7.dat',delimiter=';',skiprows=29,usecols=(0,1))\n",
      "\n",
      "ecco_cold_cal = np.load(r'D:\\qtlab\\data\\Set5\\Eccosorb calibrations\\20141003_ECCO3COLD.npz')\n",
      "ecco_rt_cal = np.load(r'D:\\qtlab\\data\\Set5\\Eccosorb calibrations\\20141003_ECCO3RT.npz')\n",
      "ecco_cal = np.array([ecco_rt_cal['f']/1e9, ecco_cold_cal['s21']/2 - ecco_rt_cal['s21']/2]).transpose()\n",
      "\n",
      "df = ecco_cal[1,0]-ecco_cal[0,0]\n",
      "ecco_smooth_cal = data_smoothing(ecco_cal[:,1],int(resolution/df))\n",
      "ecco_cal[:,1] = ecco_smooth_cal\n",
      "\n",
      "\n",
      "\n",
      "lin1lin2_rt_cal = np.loadtxt(r'K:\\ns\\qt\\Transmon\\Fridges\\LaMaserati\\Wiring Characterisation\\140915_roundtrips_during_cooldown\\S21_L01_L02_1630_beforeprecool.dat',delimiter=';',skiprows = 29,usecols=(0,1))\n",
      "lin1lin2_1K_cal = np.loadtxt(r'K:\\ns\\qt\\Transmon\\Fridges\\LaMaserati\\Wiring Characterisation\\140915_roundtrips_during_cooldown\\S21_L01_L02_140917_1311_Tmclo1060mK.dat',delimiter=';',skiprows = 29,usecols=(0,1))\n",
      "lin1lin2_cal = np.array([lin1lin2_1K_cal[:,0]/1e9,lin1lin2_1K_cal[:,1] - lin1lin2_rt_cal[:,1]]).transpose()\n",
      "\n",
      "df = lin1lin2_cal[1,0]-lin1lin2_cal[0,0]\n",
      "lin1lin2_smooth_cal = data_smoothing(lin1lin2_cal[:,1],int(resolution/df))\n",
      "lin1lin2_cal[:,1]=lin1lin2_smooth_cal"
     ],
     "language": "python",
     "metadata": {},
     "outputs": [],
     "prompt_number": 17
    },
    {
     "cell_type": "code",
     "collapsed": false,
     "input": [
      "def convert_power(power, freq, line_cal=set4_cal, sma_vatt_cal=sma_vatt_cal, ecco_cal = ecco_cal, lin1lin2_cal = lin1lin2_cal, reverse=False):\n",
      "    '''\n",
      "    args: freq (Ghz), power (dBm), line_cal (freq,dBm), sma_vatt_cal (freq,dBm)\n",
      "    line_cal is the calibration from input line of the fridge to the mixing chamber\n",
      "    sma_vatt_cal is the calibration from the source up til the input of the fridge\n",
      "    '''\n",
      "    if freq >= 1e3:\n",
      "        freq /=1e9\n",
      "    line_freqs = line_cal[:,0]/1e9\n",
      "    line_ind = np.argmax(freq<=line_freqs)\n",
      "    sma_vatt_freqs = sma_vatt_cal[:,0]\n",
      "    sma_vatt_ind = np.argmax(freq<=sma_vatt_freqs)\n",
      "    ecco_freqs = ecco_cal[:,0]\n",
      "    ecco_ind = np.argmax(freq<=ecco_freqs)\n",
      "    lin1lin2_freqs = lin1lin2_cal[:,0]\n",
      "    lin1lin2_ind = np.argmax(freq<=lin1lin2_freqs)\n",
      "    \n",
      "#     print freq, power\n",
      "#     print line_ind, sma_vatt_ind, ecco_ind, lin1lin2_ind\n",
      "    #Note power is the opposite of attenuation\n",
      "    line_power = line_cal[line_ind,1]\n",
      "    sma_vatt_power = sma_vatt_cal[sma_vatt_ind,1]\n",
      "    ecco_power = ecco_cal[ecco_ind, 1]\n",
      "    lin1lin2_power = lin1lin2_cal[lin1lin2_ind,1]\n",
      "    if not reverse:\n",
      "        total_power = power + line_power + sma_vatt_power + ecco_power + lin1lin2_power/2\n",
      "    else:\n",
      "        total_power = power - line_power - sma_vatt_power - ecco_power - lin1lin2_power/2\n",
      "    return total_power"
     ],
     "language": "python",
     "metadata": {},
     "outputs": [],
     "prompt_number": 18
    },
    {
     "cell_type": "heading",
     "level": 3,
     "metadata": {},
     "source": [
      "Noise temperature"
     ]
    },
    {
     "cell_type": "code",
     "collapsed": false,
     "input": [
      "def calculate_noise_temperature(std, freq):\n",
      "    P = convert_power(power, freq)\n",
      "    R = 50\n",
      "    P_watt = 10**-3 * 10 ** (P/10)\n",
      "    Vin = np.sqrt(8 * R * P_watt)\n",
      "    Kb = 1.38 * 10**-23\n",
      "    Tn = (std * Vin / 4.)**2 / (Kb * R * bw * (np.pi / 2))\n",
      "    return Tn"
     ],
     "language": "python",
     "metadata": {},
     "outputs": [],
     "prompt_number": 19
    },
    {
     "cell_type": "code",
     "collapsed": false,
     "input": [
      "def get_noise_temperatures(normdata):\n",
      "    Tnlist = np.zeros((len(normdata),3))\n",
      "    for k, (frequency,freqdata) in enumerate(sorted(normdata.items())):\n",
      "        \n",
      "        std = np.std(freqdata)\n",
      "        Tn = calculate_noise_temperature(std, frequency)\n",
      "        Tnlist[k] = [frequency, convert_power(power, frequency),Tn]\n",
      "    return Tnlist"
     ],
     "language": "python",
     "metadata": {},
     "outputs": [],
     "prompt_number": 20
    },
    {
     "cell_type": "code",
     "collapsed": false,
     "input": [
      "def plot_noise_temperatures(Tndata, color = None):\n",
      "    plt.figure('Noise temperature versus power',figsize=(16,10))\n",
      "    plt.gca().get_xaxis().get_major_formatter().set_useOffset(False)\n",
      "    if color != None:\n",
      "        plt.semilogy(Tndata[:,0],Tndata[:,2],'o-', color = color)\n",
      "    else:\n",
      "        plt.semilogy(Tndata[:,0],Tndata[:,2],'o-')\n",
      "    plt.xlabel('Frequency (GHz)')\n",
      "    plt.ylabel('Noise temperature (K)')\n",
      "    plt.tight_layout()"
     ],
     "language": "python",
     "metadata": {},
     "outputs": [],
     "prompt_number": 36
    },
    {
     "cell_type": "heading",
     "level": 1,
     "metadata": {},
     "source": [
      "Data Analysis"
     ]
    },
    {
     "cell_type": "heading",
     "level": 4,
     "metadata": {},
     "source": [
      "1 - 9 GHz"
     ]
    },
    {
     "cell_type": "code",
     "collapsed": false,
     "input": [
      "data = load_data('D:\\qtlab\\data\\Noise characterization\\IF_sweep_frequency\\data')\n",
      "normdata = normalize_data_fit(data)\n",
      "avgdata = get_data_info(normdata)\n",
      "Tndata = get_noise_temperatures(normdata)"
     ],
     "language": "python",
     "metadata": {},
     "outputs": [],
     "prompt_number": 22
    },
    {
     "cell_type": "heading",
     "level": 4,
     "metadata": {},
     "source": [
      "2.6 - 2.9 GHz"
     ]
    },
    {
     "cell_type": "code",
     "collapsed": false,
     "input": [
      "data_2GHz = load_data('D:\\qtlab\\data\\Noise characterization\\IF_sweep_frequency_2GHz\\data')\n",
      "normdata_2GHz = normalize_data_fit(data_2GHz)\n",
      "avgdata_2GHz = get_data_info(normdata_2GHz)\n",
      "Tndata_2GHz = get_noise_temperatures(normdata_2GHz)"
     ],
     "language": "python",
     "metadata": {},
     "outputs": [],
     "prompt_number": 23
    },
    {
     "cell_type": "heading",
     "level": 4,
     "metadata": {},
     "source": [
      "4.4 - 4.7 GHz"
     ]
    },
    {
     "cell_type": "code",
     "collapsed": false,
     "input": [
      "data_4GHz = load_data('D:\\qtlab\\data\\Noise characterization\\IF_sweep_frequency_4GHz\\data')\n",
      "normdata_4GHz = normalize_data_fit(data_4GHz)\n",
      "avgdata_4GHz = get_data_info(normdata_4GHz)\n",
      "Tndata_4GHz = get_noise_temperatures(normdata_4GHz)"
     ],
     "language": "python",
     "metadata": {},
     "outputs": [],
     "prompt_number": 25
    },
    {
     "cell_type": "heading",
     "level": 4,
     "metadata": {},
     "source": [
      "6.25 - 6.55 GHz"
     ]
    },
    {
     "cell_type": "code",
     "collapsed": false,
     "input": [
      "data_6GHz = load_data('D:\\qtlab\\data\\Noise characterization\\IF_sweep_frequency_6GHz\\data')\n",
      "normdata_6GHz = normalize_data_fit(data_6GHz)\n",
      "avgdata_6GHz = get_data_info(normdata_6GHz)\n",
      "Tndata_6GHz = get_noise_temperatures(normdata_6GHz)"
     ],
     "language": "python",
     "metadata": {},
     "outputs": [],
     "prompt_number": 26
    },
    {
     "cell_type": "heading",
     "level": 4,
     "metadata": {},
     "source": [
      "3.5 - 3.8 GHz"
     ]
    },
    {
     "cell_type": "code",
     "collapsed": false,
     "input": [
      "data_3GHz = load_data('D:\\qtlab\\data\\Noise characterization\\IF_sweep_frequency_3GHz\\data')\n",
      "normdata_3GHz = normalize_data_fit(data_3GHz)\n",
      "avgdata_3GHz = get_data_info(normdata_3GHz)\n",
      "Tndata_3GHz = get_noise_temperatures(normdata_3GHz)\n",
      "\n",
      "plt.clf()\n",
      "plot_noise_temperatures(Tndata)\n",
      "plot_noise_temperatures(Tndata_2GHz, color = 'Red')\n",
      "plot_noise_temperatures(Tndata_3GHz, color = 'Red')\n",
      "plot_noise_temperatures(Tndata_4GHz, color = 'Red')\n",
      "plot_noise_temperatures(Tndata_6GHz, color = 'Red')\n",
      "plt.legend(['1 - 9 GHz', '2.6 - 2.9 GHz', '3.5 - 3.8 GHz', '4.4 - 4.7 GHz', '6.25 - 6.55 GHz'])\n",
      "plt.tight_layout()"
     ],
     "language": "python",
     "metadata": {},
     "outputs": [],
     "prompt_number": 37
    },
    {
     "cell_type": "code",
     "collapsed": false,
     "input": [
      "plt.figure('Noise temperature versus power',figsize=(6,4))\n",
      "plt.gca().get_xaxis().get_major_formatter().set_useOffset(False)\n",
      "plt.semilogy(Tndata[:,0],Tndata[:,2],'o-', ms=2)\n",
      "plt.xlabel('Frequency (GHz)')\n",
      "plt.ylabel('Noise temperature (K)')\n",
      "plt.tight_layout()"
     ],
     "language": "python",
     "metadata": {},
     "outputs": [],
     "prompt_number": 42
    },
    {
     "cell_type": "heading",
     "level": 3,
     "metadata": {},
     "source": [
      "Resonator at 2.75 GHz"
     ]
    },
    {
     "cell_type": "code",
     "collapsed": false,
     "input": [
      "fres = 2752463932.92/ 1e9\n",
      "fres_idx = np.argmax(Tndata_2GHz[:,0] > fres)\n",
      "plt.figure('Noise temperature versus power detailed',figsize=(6,4))\n",
      "plt.gca().get_xaxis().get_major_formatter().set_useOffset(False)\n",
      "\n",
      "plt.semilogy(Tndata[:,0],Tndata[:,2],'o-', ms=4, label='Coarse scan')\n",
      "plt.semilogy(Tndata_2GHz[:,0],Tndata_2GHz[:,2],'o-', ms=4, color=tableau20[4], label = 'Fine scan')\n",
      "plt.semilogy([fres], [Tndata_2GHz[fres_idx,2]],'o-', color=tableau20[6], ms=7)\n",
      "xlim, ylim = plt.xlim(), plt.ylim()\n",
      "plt.xlim(2.5, 3)\n",
      "plt.ylim(10,5*10**2)\n",
      "plt.xlabel('Frequency (GHz)')\n",
      "plt.ylabel('Noise temperature (K)')\n",
      "plt.legend(fontsize='small', numpoints=1)\n",
      "plt.tight_layout()"
     ],
     "language": "python",
     "metadata": {},
     "outputs": [],
     "prompt_number": 85
    },
    {
     "cell_type": "heading",
     "level": 3,
     "metadata": {},
     "source": [
      "Plotting"
     ]
    },
    {
     "cell_type": "code",
     "collapsed": false,
     "input": [
      "plot_data_averaging(data,1.2)\n",
      "plot_data_info(avgdata)"
     ],
     "language": "python",
     "metadata": {},
     "outputs": []
    },
    {
     "cell_type": "code",
     "collapsed": false,
     "input": [
      "plot_noise_temperatures(Tndata)\n",
      "#plt.ylim(ymax=1000)\n",
      "plt.tight_layout()"
     ],
     "language": "python",
     "metadata": {},
     "outputs": [],
     "prompt_number": 131
    },
    {
     "cell_type": "code",
     "collapsed": false,
     "input": [
      "plt.clf()\n",
      "plot_noise_temperatures(Tndata)\n",
      "plot_noise_temperatures(Tndata_2GHz)\n",
      "plt.tight_layout()"
     ],
     "language": "python",
     "metadata": {},
     "outputs": [],
     "prompt_number": 41
    },
    {
     "cell_type": "code",
     "collapsed": false,
     "input": [],
     "language": "python",
     "metadata": {},
     "outputs": []
    }
   ],
   "metadata": {}
  }
 ]
}