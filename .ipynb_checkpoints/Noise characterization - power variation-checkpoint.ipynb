{
 "metadata": {
  "name": "",
  "signature": "sha256:1580e7bef9fa988d44f9ab59ae787f67f2e46bffa0fe88c718c050f8420e596f"
 },
 "nbformat": 3,
 "nbformat_minor": 0,
 "worksheets": [
  {
   "cells": [
    {
     "cell_type": "code",
     "collapsed": false,
     "input": [
      "import h5py as h5\n",
      "from matplotlib import pyplot as plt\n",
      "import numpy as np\n",
      "import os\n",
      "%pylab\n",
      "plt.ion()\n",
      "from lmfit import Model"
     ],
     "language": "python",
     "metadata": {},
     "outputs": [
      {
       "output_type": "stream",
       "stream": "stdout",
       "text": [
        "Using matplotlib backend: GTKAgg\n",
        "Populating the interactive namespace from numpy and matplotlib\n"
       ]
      }
     ],
     "prompt_number": 1
    },
    {
     "cell_type": "code",
     "collapsed": false,
     "input": [
      "# These are the \"Tableau 20\" colors as RGB.  \n",
      "tableau20 = [(31, 119, 180), (174, 199, 232), (255, 127, 14), (255, 187, 120),  \n",
      "             (44, 160, 44), (152, 223, 138), (214, 39, 40), (255, 152, 150),  \n",
      "             (148, 103, 189), (197, 176, 213), (140, 86, 75), (196, 156, 148),  \n",
      "             (227, 119, 194), (247, 182, 210), (127, 127, 127), (199, 199, 199),  \n",
      "             (188, 189, 34), (219, 219, 141), (23, 190, 207), (158, 218, 229)]  \n",
      "  \n",
      "# Scale the RGB values to the [0, 1] range, which is the format matplotlib accepts.  \n",
      "for i in range(len(tableau20)):  \n",
      "    r, g, b = tableau20[i]  \n",
      "    tableau20[i] = (r / 255., g / 255., b / 255.)  "
     ],
     "language": "python",
     "metadata": {},
     "outputs": [],
     "prompt_number": 2
    },
    {
     "cell_type": "heading",
     "level": 3,
     "metadata": {},
     "source": [
      "Succesful HDF5 loading"
     ]
    },
    {
     "cell_type": "code",
     "collapsed": false,
     "input": [
      "npoints = 2001"
     ],
     "language": "python",
     "metadata": {},
     "outputs": [],
     "prompt_number": 3
    },
    {
     "cell_type": "code",
     "collapsed": false,
     "input": [
      "def load_filenames(folder):\n",
      "\n",
      "    bwfilenamesdict = {}\n",
      "    filenames = os.listdir(folder)\n",
      "    filenames = filter(lambda x: x[-4:] == 'hdf5', filenames)\n",
      "\n",
      "    for filename in filenames:\n",
      "        power = int( filename.split('_')[3])\n",
      "        bw = int(filename.split('_')[4][:-5])\n",
      "        if not bw in bwfilenamesdict.keys():\n",
      "            bwfilenamesdict[bw]={}\n",
      "        if not power in bwfilenamesdict[bw].keys():\n",
      "            bwfilenamesdict[bw][power] = []\n",
      "        bwfilenamesdict[bw][power].append(filename)\n",
      "    return bwfilenamesdict"
     ],
     "language": "python",
     "metadata": {},
     "outputs": [],
     "prompt_number": 4
    },
    {
     "cell_type": "code",
     "collapsed": false,
     "input": [
      "def load_data_from_filenames(bwfilenamesdict, folder, datatype = 'ampl'):\n",
      "    data={}\n",
      "    for bw, powervalue in bwfilenamesdict.items():\n",
      "        data[bw] = {}\n",
      "\n",
      "        #Find the files that are not empty\n",
      "        for power, filenames in powervalue.items():\n",
      "            files = len(filenames)\n",
      "            for k, filename in enumerate(filenames):\n",
      "                filepath = os.path.join(folder,filename)\n",
      "                filedata = h5.File(filepath, 'r')\n",
      "                if not 'Experimental Data' in filedata.keys():\n",
      "                    filenames.pop(k)\n",
      "                filedata.close()\n",
      "                \n",
      "\n",
      "        for power, filenames in powervalue.items():\n",
      "            files = len(filenames)\n",
      "            if files != 0:\n",
      "                data[bw][power] = np.zeros(files * npoints)\n",
      "                for k, filename in enumerate(filenames):\n",
      "                    filepath = os.path.join(folder,filename)\n",
      "                    filedata = h5.File(filepath, 'r')\n",
      "                    data[bw][power][k*npoints : (k+1) * npoints] = filedata['Experimental Data']['S21 (%s)' % datatype].value\n",
      "                    filedata.close()\n",
      "                print 'bw: %d\\t power: %d\\tlength: %d' % (bw,power, len(data[bw][power]))\n",
      "    return data"
     ],
     "language": "python",
     "metadata": {},
     "outputs": [],
     "prompt_number": 86
    },
    {
     "cell_type": "code",
     "collapsed": false,
     "input": [
      "def load_data(folder, datatype = 'ampl'):\n",
      "    if folder[:2] != 'D:':\n",
      "        folder = os.path.join(r'D:\\qtlab\\data\\Noise characterization', folder)\n",
      "    filenamesdict = load_filenames(folder)\n",
      "    data = load_data_from_filenames(filenamesdict, folder, datatype)\n",
      "    return data"
     ],
     "language": "python",
     "metadata": {},
     "outputs": [],
     "prompt_number": 102
    },
    {
     "cell_type": "heading",
     "level": 3,
     "metadata": {},
     "source": [
      "Plot bandwidth data"
     ]
    },
    {
     "cell_type": "code",
     "collapsed": false,
     "input": [
      "def plot_data(data,bw, powerlist, name = 'Bandwidth data'):\n",
      "    plt.figure(name)\n",
      "    for power in powerlist:\n",
      "        plt.plot(data[bw][power], label = 'bw: {} power: {}'.format(bw, power))\n",
      "    plt.title('Bandwidth: %d power: %d' % (bw,power))\n",
      "    plt.xlabel('Measurement point')\n",
      "    plt.ylabel('S21 (mV)')\n",
      "    plt.legend(fontsize='small')"
     ],
     "language": "python",
     "metadata": {},
     "outputs": [],
     "prompt_number": 142
    },
    {
     "cell_type": "heading",
     "level": 3,
     "metadata": {},
     "source": [
      "Plot bandwidth data as a function of averages"
     ]
    },
    {
     "cell_type": "heading",
     "level": 4,
     "metadata": {},
     "source": [
      "Perform quadratic fit"
     ]
    },
    {
     "cell_type": "code",
     "collapsed": false,
     "input": [
      "def quadratic(x, a, b, c):\n",
      "    return a + b * x + c * x**2\n",
      "quadraticmodel = Model(quadratic)"
     ],
     "language": "python",
     "metadata": {},
     "outputs": [],
     "prompt_number": 156
    },
    {
     "cell_type": "code",
     "collapsed": false,
     "input": [
      "def fit_quadratic(data):\n",
      "    '''Input: data of a single bw and power\n",
      "    '''\n",
      "    #Create fit\n",
      "    ainit, binit, cinit = mean(data), 0, 0\n",
      "    x = np.arange(len(data))\n",
      "    fitresult = quadraticmodel.fit(data, x = x, a = ainit, b = binit, c = cinit)\n",
      "    return fitresult"
     ],
     "language": "python",
     "metadata": {},
     "outputs": [],
     "prompt_number": 157
    },
    {
     "cell_type": "code",
     "collapsed": false,
     "input": [
      "def quartic(x, a, b, c, d, e):\n",
      "    return a + b * x + c * x**2 + d * x**3 + e * x**4\n",
      "quarticmodel = Model(quartic)\n",
      "def fit_quartic(data):\n",
      "    '''Input: data of a single bw and power\n",
      "    '''\n",
      "    #Create fit\n",
      "    ainit, binit, cinit, dinit, einit = mean(data), 0, 0, 0, 0\n",
      "    x = np.arange(len(data))\n",
      "    fitresult = quarticmodel.fit(data, x = x, a = ainit, b = binit, c = cinit, d = dinit, e = einit)\n",
      "    return fitresult"
     ],
     "language": "python",
     "metadata": {},
     "outputs": [],
     "prompt_number": 166
    },
    {
     "cell_type": "code",
     "collapsed": false,
     "input": [
      "def plot_data_averaging(data, bw, power, avglist = [1,3,10,30, 100,300]):\n",
      "\n",
      "    #Initialize figure\n",
      "    plt.figure('Noise versus averaging2',figsize = (6,4))\n",
      "    plt.clf()\n",
      "    plt.gca().get_xaxis().get_major_formatter().set_useOffset(False)\n",
      "    plt.gca().get_yaxis().get_major_formatter().set_useOffset(False)\n",
      "    plt.title('Bandwidth: %d Hz' % bw)\n",
      "\n",
      "    points = len(data[bw][power])\n",
      "\n",
      "    fitresult = fit_quartic(data[bw][power])\n",
      "\n",
      "    for avg in avglist:\n",
      "        #Perform averaging\n",
      "        segments = points / avg\n",
      "        data_avg = map(np.mean,np.array_split(data[bw][power],segments)) \n",
      "        x = np.linspace(0,points,len(data_avg))\n",
      "        plt.plot(x, data_avg, label = 'averages: %d' % avg)\n",
      "\n",
      "\n",
      "    plt.plot(fitresult.best_fit, label = 'fit')\n",
      "    xlim = plt.xlim()\n",
      "    ylim = plt.ylim()\n",
      "    plt.text(xlim[0] + .02*(xlim[1] - xlim[0]),ylim[0] + .02*(ylim[1] - ylim[0]),\n",
      "             'Fit results:\\na: %.3G\\nb: %.3G\\nc: %.3G' % tuple(fitresult.best_values.values()))\n",
      "    plt.legend(fontsize='small')"
     ],
     "language": "python",
     "metadata": {},
     "outputs": [],
     "prompt_number": 160
    },
    {
     "cell_type": "heading",
     "level": 3,
     "metadata": {},
     "source": [
      "Standard deviation and variance (with correction)"
     ]
    },
    {
     "cell_type": "code",
     "collapsed": false,
     "input": [
      "def normalize_data_smoothing(data,N):\n",
      "    datanorm={}\n",
      "    for bw, powervalue in data.items():\n",
      "        datanorm[bw] = {}\n",
      "        for power, powerdata in powervalue.items():\n",
      "            datanorm[bw][power] =  powerdata / data_smoothing(powerdata,1000)\n",
      "    return datanorm"
     ],
     "language": "python",
     "metadata": {},
     "outputs": [],
     "prompt_number": 183
    },
    {
     "cell_type": "code",
     "collapsed": false,
     "input": [
      "def normalize_data(data):\n",
      "    datanorm={}\n",
      "    for bw, powervalue in data.items():\n",
      "        datanorm[bw] = {}\n",
      "        for power, powerdata in powervalue.items():\n",
      "            fitresult = fit_quadratic(powerdata)\n",
      "            x = np.arange(len(powerdata))\n",
      "            a,b,c = [fitresult.best_values[par] for par in ['a','b','c']]\n",
      "            datanorm[bw][power] =  powerdata / polymodel.func(x,a,b,c)\n",
      "    return datanorm"
     ],
     "language": "python",
     "metadata": {},
     "outputs": [],
     "prompt_number": 222
    },
    {
     "cell_type": "code",
     "collapsed": false,
     "input": [
      "def get_data_info(data, avglist = [1,3,10,30,100,300]):\n",
      "    avgdata = {}\n",
      "    for bw in data.keys():\n",
      "        avgdata[bw] = {}\n",
      "        for power, powerdata in data[bw].items():\n",
      "            points = len(powerdata)\n",
      "\n",
      "            avgdata[bw][power] = np.zeros((len(avglist),3))\n",
      "            for k, avg in enumerate(avglist):\n",
      "                segments = points / avg\n",
      "                data_avg = np.array(map(np.mean,np.array_split(powerdata,segments)))\n",
      "                avgdata[bw][power][k] = [np.mean(data_avg),np.std(data_avg), np.var(data_avg)]\n",
      "    return avgdata"
     ],
     "language": "python",
     "metadata": {},
     "outputs": [],
     "prompt_number": 39
    },
    {
     "cell_type": "code",
     "collapsed": false,
     "input": [
      "def plot_data_info(avgdata, bwplotlist = [NaN], powerplotlist = [NaN], avglist = [1,3,10,30,100,300]):\n",
      "    '''Plots the mean, std, and var\n",
      "    input: data\n",
      "        bwplotlist: list of bandwidths to plot\n",
      "    Note to use the normalized data as input\n",
      "    '''\n",
      "\n",
      "\n",
      "    fig = plt.figure('mean, std, var', figsize=(6,8))\n",
      "    axmean = fig.add_subplot(3,1,1)\n",
      "    axmean.get_yaxis().get_major_formatter().set_useOffset(False)\n",
      "    axmean.ticklabel_format(style='sci', axis='y', scilimits=(0,0))\n",
      "    axmean.set_ylabel('mean S21 (mV)')\n",
      "    plt.setp(axmean.get_xticklabels(), visible=False)\n",
      "\n",
      "    axstd = fig.add_subplot(3,1,2, sharex = axmean)\n",
      "    axstd.set_ylabel('std S21 (mV)')\n",
      "    plt.setp(axstd.get_xticklabels(), visible=False)\n",
      "\n",
      "    axvar = fig.add_subplot(3,1,3, sharex = axmean)\n",
      "    axvar.set_xlabel('Number of averages')\n",
      "    axvar.set_ylabel('var S21 (mV)')\n",
      "\n",
      "\n",
      "    #Plotting\n",
      "    for bw in sorted(avgdata.keys()):\n",
      "        if bw in bwplotlist or bwplotlist == [NaN]:\n",
      "            for power, powerdata in sorted(avgdata[bw].items()):\n",
      "                if power in powerplotlist or powerplotlist == [NaN]:\n",
      "                    axmean.semilogx(avglist, powerdata[:,0], 'o-', label = 'bw: %d, power: %d' % (bw,power))\n",
      "                    axstd.loglog(avglist, powerdata[:,1], 'o-', label = 'bw: %d, power: %d' % (bw,power))\n",
      "                    axvar.loglog(avglist, powerdata[:,2], 'o-', label = 'bw: %d, power: %d' % (bw,power))\n",
      "\n",
      "    axmean.legend(fontsize='small')\n",
      "    plt.tight_layout()"
     ],
     "language": "python",
     "metadata": {},
     "outputs": [],
     "prompt_number": 93
    },
    {
     "cell_type": "heading",
     "level": 3,
     "metadata": {},
     "source": [
      "Calibrations"
     ]
    },
    {
     "cell_type": "code",
     "collapsed": false,
     "input": [
      "def data_smoothing(x, N):\n",
      "    return np.convolve(np.array(N*[np.average(x[:N])]+x.tolist()+N*[np.average(x[-N:])]), np.ones((N,))/N)[(3*N/2-1):-3*N/2]"
     ],
     "language": "python",
     "metadata": {},
     "outputs": [],
     "prompt_number": 41
    },
    {
     "cell_type": "code",
     "collapsed": false,
     "input": [
      "#Load calibration settings\n",
      "resolution = .2 #GHz, for smoothing\n",
      "\n",
      "calnpz = np.load('D:\\qtlab\\data\\Set5\\calibrations\\calibrations.npz')\n",
      "sma_vatt_cal = np.array([calnpz['f'],calnpz['single_sma_vatt']]).transpose()\n",
      "\n",
      "set5New_cal = np.loadtxt('D:\\qtlab\\data\\Set5\\calibration cooldown Maserati 07\\LIN1.dat',delimiter=';',skiprows=29,usecols=(0,1))\n",
      "set4_cal = np.loadtxt('D:\\qtlab\\data\\Set5\\calibration cooldown Maserati 07\\LIN2.dat',delimiter=';',skiprows=29,usecols=(0,1))\n",
      "set5_cal = np.loadtxt('D:\\qtlab\\data\\Set5\\calibration cooldown Maserati 07\\LIN3.dat',delimiter=';',skiprows=29,usecols=(0,1))\n",
      "lin4_cal = np.loadtxt('D:\\qtlab\\data\\Set5\\calibration cooldown Maserati 07\\LIN4.dat',delimiter=';',skiprows=29,usecols=(0,1))\n",
      "lin7_cal = np.loadtxt('D:\\qtlab\\data\\Set5\\calibration cooldown Maserati 07\\LIN7.dat',delimiter=';',skiprows=29,usecols=(0,1))\n",
      "\n",
      "ecco_cold_cal = np.load(r'D:\\qtlab\\data\\Set5\\Eccosorb calibrations\\20141003_ECCO3COLD.npz')\n",
      "ecco_rt_cal = np.load(r'D:\\qtlab\\data\\Set5\\Eccosorb calibrations\\20141003_ECCO3RT.npz')\n",
      "ecco_cal = np.array([ecco_rt_cal['f']/1e9, ecco_cold_cal['s21']/2 - ecco_rt_cal['s21']/2]).transpose()\n",
      "\n",
      "df = ecco_cal[1,0]-ecco_cal[0,0]\n",
      "ecco_smooth_cal = data_smoothing(ecco_cal[:,1],int(resolution/df))\n",
      "ecco_cal[:,1] = ecco_smooth_cal\n",
      "\n",
      "\n",
      "\n",
      "lin1lin2_rt_cal = np.loadtxt(r'K:\\ns\\qt\\Transmon\\Fridges\\LaMaserati\\Wiring Characterisation\\140915_roundtrips_during_cooldown\\S21_L01_L02_1630_beforeprecool.dat',delimiter=';',skiprows = 29,usecols=(0,1))\n",
      "lin1lin2_1K_cal = np.loadtxt(r'K:\\ns\\qt\\Transmon\\Fridges\\LaMaserati\\Wiring Characterisation\\140915_roundtrips_during_cooldown\\S21_L01_L02_140917_1311_Tmclo1060mK.dat',delimiter=';',skiprows = 29,usecols=(0,1))\n",
      "lin1lin2_cal = np.array([lin1lin2_1K_cal[:,0]/1e9,lin1lin2_1K_cal[:,1] - lin1lin2_rt_cal[:,1]]).transpose()\n",
      "\n",
      "df = lin1lin2_cal[1,0]-lin1lin2_cal[0,0]\n",
      "lin1lin2_smooth_cal = data_smoothing(lin1lin2_cal[:,1],int(resolution/df))\n",
      "lin1lin2_cal[:,1]=lin1lin2_smooth_cal"
     ],
     "language": "python",
     "metadata": {},
     "outputs": [],
     "prompt_number": 42
    },
    {
     "cell_type": "code",
     "collapsed": false,
     "input": [
      "def convert_power(power, freq, line_cal=set4_cal, sma_vatt_cal=sma_vatt_cal, ecco_cal = ecco_cal, lin1lin2_cal = lin1lin2_cal, reverse=False):\n",
      "    '''\n",
      "    args: freq (Ghz), power (dBm), line_cal (freq,dBm), sma_vatt_cal (freq,dBm)\n",
      "    line_cal is the calibration from input line of the fridge to the mixing chamber\n",
      "    sma_vatt_cal is the calibration from the source up til the input of the fridge\n",
      "    '''\n",
      "    if freq >= 1e3:\n",
      "        freq /=1e9\n",
      "    line_freqs = line_cal[:,0]/1e9\n",
      "    line_ind = np.argmax(freq<=line_freqs)\n",
      "    sma_vatt_freqs = sma_vatt_cal[:,0]\n",
      "    sma_vatt_ind = np.argmax(freq<=sma_vatt_freqs)\n",
      "    ecco_freqs = ecco_cal[:,0]\n",
      "    ecco_ind = np.argmax(freq<=ecco_freqs)\n",
      "    lin1lin2_freqs = lin1lin2_cal[:,0]\n",
      "    lin1lin2_ind = np.argmax(freq<=lin1lin2_freqs)\n",
      "    \n",
      "#     print freq, power\n",
      "#     print line_ind, sma_vatt_ind, ecco_ind, lin1lin2_ind\n",
      "    #Note power is the opposite of attenuation\n",
      "    line_power = line_cal[line_ind,1]\n",
      "    sma_vatt_power = sma_vatt_cal[sma_vatt_ind,1]\n",
      "    ecco_power = ecco_cal[ecco_ind, 1]\n",
      "    lin1lin2_power = lin1lin2_cal[lin1lin2_ind,1]\n",
      "    if not reverse:\n",
      "        total_power = power + line_power + sma_vatt_power + ecco_power + lin1lin2_power/2\n",
      "    else:\n",
      "        total_power = power - line_power - sma_vatt_power - ecco_power - lin1lin2_power/2\n",
      "    return total_power"
     ],
     "language": "python",
     "metadata": {},
     "outputs": [],
     "prompt_number": 43
    },
    {
     "cell_type": "heading",
     "level": 3,
     "metadata": {},
     "source": [
      "Noise temperature"
     ]
    },
    {
     "cell_type": "code",
     "collapsed": false,
     "input": [
      "def calculate_noise_temperature(std, bw, power, freq):\n",
      "    P = convert_power(power, freq)\n",
      "    R = 50\n",
      "    P_watt = 10**-3 * 10 ** (P/10)\n",
      "    Vin = np.sqrt(8 * R * P_watt)\n",
      "    Kb = 1.38 * 10**-23\n",
      "    Tn = (std * Vin / 4.)**2 / (Kb * R * bw * (np.pi / 2))\n",
      "    return Tn"
     ],
     "language": "python",
     "metadata": {},
     "outputs": [],
     "prompt_number": 44
    },
    {
     "cell_type": "code",
     "collapsed": false,
     "input": [
      "def get_noise_temperatures(avgdata, freq):\n",
      "    Tnlist = {}\n",
      "    for bw in avgdata.keys():\n",
      "        Tnlist[bw]=np.zeros((len(avgdata[bw].keys()),3))\n",
      "        for k, power in enumerate(sorted(avgdata[bw].keys())):\n",
      "            std = avgdata[bw][power][0,1]\n",
      "            Tn = calculate_noise_temperature(std, bw, power, freq)\n",
      "            Tnlist[bw][k] = [power, convert_power(power, freq),Tn]\n",
      "    return Tnlist"
     ],
     "language": "python",
     "metadata": {},
     "outputs": [],
     "prompt_number": 78
    },
    {
     "cell_type": "code",
     "collapsed": false,
     "input": [
      "def plot_noise_temperatures(Tnlist):\n",
      "    plt.figure('Noise temperature versus power')\n",
      "    plt.clf()\n",
      "    plt.gca().get_xaxis().get_major_formatter().set_useOffset(False)\n",
      "    plt.gca().get_yaxis().get_major_formatter().set_useOffset(False)\n",
      "    for bw in sorted(Tnlist.keys()):\n",
      "        Tn = Tnlist[bw]\n",
      "        plt.plot(Tn[:,0],Tn[:,2],'o-', label = 'bw: %d Hz' % bw)\n",
      "    plt.xlabel('Power (dBm)')\n",
      "    plt.ylabel('Noise temperature (K)')\n",
      "    plt.legend(loc=2,fontsize = 'small')\n",
      "    plt.tight_layout()"
     ],
     "language": "python",
     "metadata": {},
     "outputs": [],
     "prompt_number": 46
    },
    {
     "cell_type": "heading",
     "level": 1,
     "metadata": {},
     "source": [
      "Data Analysis"
     ]
    },
    {
     "cell_type": "heading",
     "level": 3,
     "metadata": {},
     "source": [
      "2.75 GHz"
     ]
    },
    {
     "cell_type": "code",
     "collapsed": false,
     "input": [
      "freq_2GHz = 2.75250\n",
      "data_2GHz = load_data('IF_sweep_power\\data')\n",
      "normdata_2GHz = normalize_data_smoothing(data_2GHz,1000)\n",
      "avgdata_2GHz = get_data_info(normdata_2GHz)\n",
      "Tndata_2GHz = get_noise_temperatures(avgdata_2GHz, freq_2GHz)"
     ],
     "language": "python",
     "metadata": {},
     "outputs": [
      {
       "output_type": "stream",
       "stream": "stdout",
       "text": [
        "bw: 100\t power: -72\tlength: 24012\n",
        "bw: 100\t power: -60\tlength: 24012\n",
        "bw: 100\t power: -66\tlength: 24012\n",
        "bw: 10\t power: -72\tlength: 24012\n",
        "bw: 10\t power: -60\tlength: 24012\n",
        "bw: 10\t power: -66\tlength: 24012\n",
        "bw: 3\t power: -60\tlength: 24012"
       ]
      },
      {
       "output_type": "stream",
       "stream": "stdout",
       "text": [
        "\n",
        "bw: 3\t power: -66\tlength: 12006\n",
        "bw: 300\t power: -72\tlength: 24012\n",
        "bw: 300\t power: -60\tlength: 24012\n",
        "bw: 300\t power: -66\tlength: 24012\n",
        "bw: 30\t power: -72\tlength: 24012"
       ]
      },
      {
       "output_type": "stream",
       "stream": "stdout",
       "text": [
        "\n",
        "bw: 30\t power: -60\tlength: 24012\n",
        "bw: 30\t power: -66\tlength: 24012\n"
       ]
      }
     ],
     "prompt_number": 184
    },
    {
     "cell_type": "code",
     "collapsed": false,
     "input": [
      "plot_data(data_2GHz,300,[-60,-66,-72])"
     ],
     "language": "python",
     "metadata": {},
     "outputs": [],
     "prompt_number": 185
    },
    {
     "cell_type": "code",
     "collapsed": false,
     "input": [
      "plot_data(normdata_2GHz, 300, [-60, -66, -72])"
     ],
     "language": "python",
     "metadata": {},
     "outputs": [],
     "prompt_number": 186
    },
    {
     "cell_type": "code",
     "collapsed": false,
     "input": [
      "plot_data_info(avgdata_2GHz,[300])"
     ],
     "language": "python",
     "metadata": {},
     "outputs": [],
     "prompt_number": 85
    },
    {
     "cell_type": "code",
     "collapsed": false,
     "input": [
      "plot_noise_temperatures(Tndata_2GHz)"
     ],
     "language": "python",
     "metadata": {},
     "outputs": [],
     "prompt_number": 75
    },
    {
     "cell_type": "heading",
     "level": 3,
     "metadata": {},
     "source": [
      "4.5 GHz"
     ]
    },
    {
     "cell_type": "code",
     "collapsed": false,
     "input": [
      "freq_4GHz = 4.5674\n",
      "data_4GHz = load_data('IF_sweep_power_4GHz\\data')\n",
      "normdata_4GHz = normalize_data(data_4GHz)\n",
      "avgdata_4GHz = get_data_info(normdata_4GHz)\n",
      "Tndata_4GHz = get_noise_temperatures(avgdata_4GHz,freq_4GHz)"
     ],
     "language": "python",
     "metadata": {},
     "outputs": [
      {
       "output_type": "stream",
       "stream": "stdout",
       "text": [
        "bw: 100\t power: -72\tlength: 30015\n",
        "bw: 100\t power: -84\tlength: 30015\n",
        "bw: 100\t power: -78\tlength: 30015\n",
        "bw: 100\t power: -60\tlength: 30015\n",
        "bw: 100\t power: -66\tlength: 30015\n",
        "bw: 10\t power: -72\tlength: 30015"
       ]
      },
      {
       "output_type": "stream",
       "stream": "stdout",
       "text": [
        "\n",
        "bw: 10\t power: -78\tlength: 26013\n",
        "bw: 10\t power: -60\tlength: 30015\n",
        "bw: 10\t power: -66\tlength: 30015\n",
        "bw: 300\t power: -72\tlength: 30015"
       ]
      },
      {
       "output_type": "stream",
       "stream": "stdout",
       "text": [
        "\n",
        "bw: 300\t power: -84\tlength: 30015\n",
        "bw: 300\t power: -78\tlength: 30015\n",
        "bw: 300\t power: -60\tlength: 30015\n",
        "bw: 300\t power: -66\tlength: 30015\n",
        "bw: 30\t power: -72\tlength: 30015"
       ]
      },
      {
       "output_type": "stream",
       "stream": "stdout",
       "text": [
        "\n",
        "bw: 30\t power: -60\tlength: 30015\n",
        "bw: 30\t power: -78\tlength: 30015\n",
        "bw: 30\t power: -84\tlength: 30015\n",
        "bw: 30\t power: -66\tlength: 30015\n"
       ]
      }
     ],
     "prompt_number": 121
    },
    {
     "cell_type": "code",
     "collapsed": false,
     "input": [
      "plot_data_info(avgdata_4GHz, powerplotlist=[-60])\n",
      "plot_noise_temperatures(Tndata_4GHz)"
     ],
     "language": "python",
     "metadata": {},
     "outputs": [],
     "prompt_number": 80
    },
    {
     "cell_type": "heading",
     "level": 2,
     "metadata": {},
     "source": [
      "comparing I and Q"
     ]
    },
    {
     "cell_type": "code",
     "collapsed": false,
     "input": [
      "dataI_2GHz = load_data('IF_sweep_power\\data',datatype = 'real')\n",
      "normdataI_2GHz = normalize_data(dataI_2GHz)\n",
      "avgdataI_2GHz = get_data_info(dataI_2GHz)\n",
      "TndataI_2GHz = get_noise_temperatures(avgdataI_2GHz, freq_2GHz)"
     ],
     "language": "python",
     "metadata": {},
     "outputs": [
      {
       "output_type": "stream",
       "stream": "stdout",
       "text": [
        "bw: 100\t power: -72\tlength: 24012\n",
        "bw: 100\t power: -60\tlength: 24012\n",
        "bw: 100\t power: -66\tlength: 24012\n",
        "bw: 10\t power: -72\tlength: 24012\n",
        "bw: 10\t power: -60\tlength: 24012\n",
        "bw: 10\t power: -66\tlength: 24012\n",
        "bw: 3\t power: -60\tlength: 24012"
       ]
      },
      {
       "output_type": "stream",
       "stream": "stdout",
       "text": [
        "\n",
        "bw: 3\t power: -66\tlength: 12006\n",
        "bw: 300\t power: -72\tlength: 24012\n",
        "bw: 300\t power: -60\tlength: 24012\n",
        "bw: 300\t power: -66\tlength: 24012\n",
        "bw: 30\t power: -72\tlength: 24012"
       ]
      },
      {
       "output_type": "stream",
       "stream": "stdout",
       "text": [
        "\n",
        "bw: 30\t power: -60\tlength: 24012\n",
        "bw: 30\t power: -66\tlength: 24012\n"
       ]
      }
     ],
     "prompt_number": 168
    },
    {
     "cell_type": "code",
     "collapsed": false,
     "input": [
      "dataQ_2GHz = load_data('IF_sweep_power\\data',datatype = 'imag')\n",
      "normdataQ_2GHz = normalize_data(dataQ_2GHz)\n",
      "avgdataQ_2GHz = get_data_info(dataQ_2GHz)\n",
      "TndataQ_2GHz = get_noise_temperatures(avgdataQ_2GHz, freq_2GHz)"
     ],
     "language": "python",
     "metadata": {},
     "outputs": [
      {
       "output_type": "stream",
       "stream": "stdout",
       "text": [
        "bw: 100\t power: -72\tlength: 24012\n",
        "bw: 100\t power: -60\tlength: 24012\n",
        "bw: 100\t power: -66\tlength: 24012\n",
        "bw: 10\t power: -72\tlength: 24012\n",
        "bw: 10\t power: -60\tlength: 24012\n",
        "bw: 10\t power: -66\tlength: 24012\n",
        "bw: 3\t power: -60\tlength: 24012"
       ]
      },
      {
       "output_type": "stream",
       "stream": "stdout",
       "text": [
        "\n",
        "bw: 3\t power: -66\tlength: 12006\n",
        "bw: 300\t power: -72\tlength: 24012\n",
        "bw: 300\t power: -60\tlength: 24012\n",
        "bw: 300\t power: -66\tlength: 24012\n",
        "bw: 30\t power: -72\tlength: 24012"
       ]
      },
      {
       "output_type": "stream",
       "stream": "stdout",
       "text": [
        "\n",
        "bw: 30\t power: -60\tlength: 24012\n",
        "bw: 30\t power: -66\tlength: 24012\n"
       ]
      }
     ],
     "prompt_number": 169
    },
    {
     "cell_type": "code",
     "collapsed": false,
     "input": [
      "freq_2GHz = 2.75250\n",
      "dataIQ_2GHz = load_data('IF_sweep_power\\data')\n",
      "avgdataIQ_2GHz = get_data_info(dataIQ_2GHz)\n",
      "TndataIQ_2GHz = get_noise_temperatures(avgdataIQ_2GHz, freq_2GHz)"
     ],
     "language": "python",
     "metadata": {},
     "outputs": [
      {
       "output_type": "stream",
       "stream": "stdout",
       "text": [
        "bw: 100\t power: -72\tlength: 24012\n",
        "bw: 100\t power: -60\tlength: 24012\n",
        "bw: 100\t power: -66\tlength: 24012\n",
        "bw: 10\t power: -72\tlength: 24012\n",
        "bw: 10\t power: -60\tlength: 24012\n",
        "bw: 10\t power: -66\tlength: 24012"
       ]
      },
      {
       "output_type": "stream",
       "stream": "stdout",
       "text": [
        "\n",
        "bw: 3\t power: -60\tlength: 24012\n",
        "bw: 3\t power: -66\tlength: 12006\n",
        "bw: 300\t power: -72\tlength: 24012\n",
        "bw: 300\t power: -60\tlength: 24012\n",
        "bw: 300\t power: -66\tlength: 24012"
       ]
      },
      {
       "output_type": "stream",
       "stream": "stdout",
       "text": [
        "\n",
        "bw: 30\t power: -72\tlength: 24012\n",
        "bw: 30\t power: -60\tlength: 24012\n",
        "bw: 30\t power: -66\tlength: 24012\n"
       ]
      }
     ],
     "prompt_number": 192
    },
    {
     "cell_type": "code",
     "collapsed": false,
     "input": [
      "bwlist = [30]\n",
      "plot_data_info(avgdataIQ_2GHz,bwplotlist=bwlist, powerplotlist=[-60])\n",
      "plot_data_info(avgdataI_2GHz,bwplotlist=bwlist, powerplotlist=[-60])\n",
      "plot_data_info(avgdataQ_2GHz,bwplotlist=bwlist, powerplotlist=[-60])"
     ],
     "language": "python",
     "metadata": {},
     "outputs": [],
     "prompt_number": 194
    },
    {
     "cell_type": "code",
     "collapsed": false,
     "input": [
      "\n",
      "plot_data(dataQ_2GHz,10,[-60],'Q')"
     ],
     "language": "python",
     "metadata": {},
     "outputs": [],
     "prompt_number": 147
    },
    {
     "cell_type": "code",
     "collapsed": false,
     "input": [
      "points = len(data[bw][power])\n",
      "avg = 100\n",
      "#Perform averaging\n",
      "segments = points / avg\n",
      "data_avg = map(np.mean,np.array_split(data[bw][power],segments)) \n",
      "x = np.linspace(0,points,len(data_avg))\n",
      "plt.plot(x, data_avg, label = 'averages: %d' % avg)"
     ],
     "language": "python",
     "metadata": {},
     "outputs": []
    },
    {
     "cell_type": "code",
     "collapsed": false,
     "input": [
      "def average_data(data,avg):\n",
      "    points = len(data)\n",
      "    #Perform averaging\n",
      "    segments = points / avg\n",
      "    data_avg = map(np.mean,np.array_split(data,segments)) \n",
      "    x = np.linspace(0,points,len(data_avg))\n",
      "    return [x,data_avg]\n",
      "    "
     ],
     "language": "python",
     "metadata": {},
     "outputs": [],
     "prompt_number": 148
    },
    {
     "cell_type": "code",
     "collapsed": false,
     "input": [
      "bw = 10\n",
      "power = -60\n",
      "avg = 100\n",
      "\n",
      "dataIavg = average_data(dataI_2GHz[bw][power],avg)\n",
      "dataQavg = average_data(dataQ_2GHz[bw][power],avg)\n",
      "plt.figure()\n",
      "plt.plot(dataIavg[1],dataQavg[1])\n",
      "plt.xlabel('I')\n",
      "plt.ylabel('Q')"
     ],
     "language": "python",
     "metadata": {},
     "outputs": [
      {
       "metadata": {},
       "output_type": "pyout",
       "prompt_number": 189,
       "text": [
        "<matplotlib.text.Text at 0x17753cf8>"
       ]
      }
     ],
     "prompt_number": 189
    },
    {
     "cell_type": "code",
     "collapsed": false,
     "input": [
      "plot_data_averaging(data_2GHz,10,-60)"
     ],
     "language": "python",
     "metadata": {},
     "outputs": [
      {
       "ename": "TypeError",
       "evalue": "not all arguments converted during string formatting",
       "output_type": "pyerr",
       "traceback": [
        "\u001b[1;31m---------------------------------------------------------------------------\u001b[0m\n\u001b[1;31mTypeError\u001b[0m                                 Traceback (most recent call last)",
        "\u001b[1;32m<ipython-input-179-68681015f39f>\u001b[0m in \u001b[0;36m<module>\u001b[1;34m()\u001b[0m\n\u001b[1;32m----> 1\u001b[1;33m \u001b[0mplot_data_averaging\u001b[0m\u001b[1;33m(\u001b[0m\u001b[0mdata_2GHz\u001b[0m\u001b[1;33m,\u001b[0m\u001b[1;36m10\u001b[0m\u001b[1;33m,\u001b[0m\u001b[1;33m-\u001b[0m\u001b[1;36m60\u001b[0m\u001b[1;33m)\u001b[0m\u001b[1;33m\u001b[0m\u001b[0m\n\u001b[0m",
        "\u001b[1;32m<ipython-input-160-f4371f1ebd70>\u001b[0m in \u001b[0;36mplot_data_averaging\u001b[1;34m(data, bw, power, avglist)\u001b[0m\n\u001b[0;32m     24\u001b[0m     \u001b[0mylim\u001b[0m \u001b[1;33m=\u001b[0m \u001b[0mplt\u001b[0m\u001b[1;33m.\u001b[0m\u001b[0mylim\u001b[0m\u001b[1;33m(\u001b[0m\u001b[1;33m)\u001b[0m\u001b[1;33m\u001b[0m\u001b[0m\n\u001b[0;32m     25\u001b[0m     plt.text(xlim[0] + .02*(xlim[1] - xlim[0]),ylim[0] + .02*(ylim[1] - ylim[0]),\n\u001b[1;32m---> 26\u001b[1;33m              'Fit results:\\na: %.3G\\nb: %.3G\\nc: %.3G' % tuple(fitresult.best_values.values()))\n\u001b[0m\u001b[0;32m     27\u001b[0m     \u001b[0mplt\u001b[0m\u001b[1;33m.\u001b[0m\u001b[0mlegend\u001b[0m\u001b[1;33m(\u001b[0m\u001b[0mfontsize\u001b[0m\u001b[1;33m=\u001b[0m\u001b[1;34m'small'\u001b[0m\u001b[1;33m)\u001b[0m\u001b[1;33m\u001b[0m\u001b[0m\n",
        "\u001b[1;31mTypeError\u001b[0m: not all arguments converted during string formatting"
       ]
      }
     ],
     "prompt_number": 179
    },
    {
     "cell_type": "code",
     "collapsed": false,
     "input": [
      "plot_data(normdata_2GHz, 300, [-60],name='ampl')"
     ],
     "language": "python",
     "metadata": {},
     "outputs": [],
     "prompt_number": 188
    },
    {
     "cell_type": "code",
     "collapsed": false,
     "input": [
      "len(data_smoothing(data_2GHz[10][-60],100))"
     ],
     "language": "python",
     "metadata": {},
     "outputs": [
      {
       "metadata": {},
       "output_type": "pyout",
       "prompt_number": 175,
       "text": [
        "24012"
       ]
      }
     ],
     "prompt_number": 175
    },
    {
     "cell_type": "heading",
     "level": 1,
     "metadata": {},
     "source": [
      "Pickle data loading"
     ]
    },
    {
     "cell_type": "code",
     "collapsed": false,
     "input": [
      "def load_pickle_data(folder):\n",
      "    if folder[:2] != 'D:':\n",
      "        folder = os.path.join(r'D:\\qtlab\\data\\Noise characterization',folder, 'IF_sweep.pickle')\n",
      "    print folder\n",
      "    return np.load(folder,'r')[0]"
     ],
     "language": "python",
     "metadata": {},
     "outputs": [],
     "prompt_number": 197
    },
    {
     "cell_type": "code",
     "collapsed": false,
     "input": [
      "data = load_pickle_data('IF_sweep_power')"
     ],
     "language": "python",
     "metadata": {},
     "outputs": [
      {
       "output_type": "stream",
       "stream": "stdout",
       "text": [
        "D:\\qtlab\\data\\Noise characterization\\IF_sweep_power\\IF_sweep.pickle\n"
       ]
      }
     ],
     "prompt_number": 198
    },
    {
     "cell_type": "markdown",
     "metadata": {},
     "source": [
      "[tmeas, ttot, mean, std, variance]"
     ]
    },
    {
     "cell_type": "code",
     "collapsed": false,
     "input": [
      "bwlist = [3,10,30,100,300]\n",
      "print data.keys()\n",
      "dtlist = np.zeros((len(bwlist),2))\n",
      "for k, bw in enumerate(bwlist):\n",
      "    timelist = map(lambda x: x[0], data[bw]['data'])\n",
      "    print '*' * 15\n",
      "    print bw\n",
      "    print np.mean(timelist)\n",
      "    print np.std(timelist)\n",
      "    dtlist[k] = [bw, np.mean(timelist)]"
     ],
     "language": "python",
     "metadata": {},
     "outputs": [
      {
       "output_type": "stream",
       "stream": "stdout",
       "text": [
        "[3, 100, 'point', 10, 300, 'sweep', 'datamean', 30]\n",
        "***************\n",
        "3\n",
        "1249.43889474\n",
        "0.502285439908\n",
        "***************\n",
        "10\n",
        "351.202444454\n",
        "0.373686333995\n",
        "***************\n",
        "30\n",
        "128.273944444\n",
        "0.370559929521\n",
        "***************\n",
        "100\n",
        "36.4744444357\n",
        "0.370430263492\n",
        "***************\n",
        "300\n",
        "14.9362161933\n",
        "0.363541724183\n"
       ]
      }
     ],
     "prompt_number": 210
    },
    {
     "cell_type": "code",
     "collapsed": false,
     "input": [
      "plt.figure('time')\n",
      "plt.clf()\n",
      "plt.loglog(dtlist[:,0],dtlist[:,1], 'o-')\n",
      "plt.xlabel('bandwidth (Hz)')\n",
      "plt.ylabel('time (s)')"
     ],
     "language": "python",
     "metadata": {},
     "outputs": [
      {
       "metadata": {},
       "output_type": "pyout",
       "prompt_number": 215,
       "text": [
        "<matplotlib.text.Text at 0x17424c50>"
       ]
      }
     ],
     "prompt_number": 215
    },
    {
     "cell_type": "code",
     "collapsed": false,
     "input": [
      "plt.figure('time (normalized)')\n",
      "plt.clf()\n",
      "dtlistnormalized = dtlist[:,1]/ 2001 * dtlist[:,0]\n",
      "plt.semilogx(dtlist[:,0],dtlistnormalized, 'o-')\n",
      "plt.xlabel('bandwidth (Hz)')\n",
      "plt.ylabel('time (s)')"
     ],
     "language": "python",
     "metadata": {},
     "outputs": [
      {
       "metadata": {},
       "output_type": "pyout",
       "prompt_number": 221,
       "text": [
        "<matplotlib.text.Text at 0x17739080>"
       ]
      }
     ],
     "prompt_number": 221
    },
    {
     "cell_type": "code",
     "collapsed": false,
     "input": [],
     "language": "python",
     "metadata": {},
     "outputs": []
    }
   ],
   "metadata": {}
  }
 ]
}