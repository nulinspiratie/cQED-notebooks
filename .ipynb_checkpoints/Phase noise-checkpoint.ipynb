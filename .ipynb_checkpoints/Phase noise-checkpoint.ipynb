{
 "metadata": {
  "name": "",
  "signature": "sha256:be685976b229de26bbfa61d544b0518bb34fa64e2895b7420a62e244298b6891"
 },
 "nbformat": 3,
 "nbformat_minor": 0,
 "worksheets": [
  {
   "cells": [
    {
     "cell_type": "code",
     "collapsed": false,
     "input": [
      "import numpy as np\n",
      "import math\n",
      "import lmfit\n",
      "from matplotlib import pyplot as plt\n",
      "import sys\n",
      "# sys.path.append('D:/PycQED/modules')\n",
      "# sys.path.append('D:/PycQED/modules/analysis')\n",
      "# sys.path.append('D:/PycQED/qtlab/source')\n",
      "sys.path.append('D:/qtlab/modules')\n",
      "sys.path.append('D:/qtlab/source')\n",
      "from utils import *\n",
      "# import fitting_models as fm\n",
      "%pylab"
     ],
     "language": "python",
     "metadata": {},
     "outputs": [
      {
       "output_type": "stream",
       "stream": "stdout",
       "text": [
        "Using matplotlib backend: GTKAgg\n",
        "Populating the interactive namespace from numpy and matplotlib\n"
       ]
      },
      {
       "output_type": "stream",
       "stream": "stderr",
       "text": [
        "WARNING: pylab import has clobbered these variables: ['allclose']\n",
        "`%matplotlib` prevents importing * from pylab and numpy\n"
       ]
      }
     ],
     "prompt_number": 10
    },
    {
     "cell_type": "markdown",
     "metadata": {},
     "source": [
      "To determine the effect of sweep and point averaging on slow phase noise, we look at the effect of sweeping around a resonator. We simulate this by having a 'flipped' lorentzian that is evolving in the IQ-plane."
     ]
    },
    {
     "cell_type": "code",
     "collapsed": false,
     "input": [
      "def HangerFunc(f, f0, Q, Qe, A, theta):\n",
      "    # This is the function for a hanger (lambda/4 resonator) which does not take into account a possible slope\n",
      "    # This function may be preferred over SlopedHangerFunc if the area around the hanger is small.\n",
      "    # In this case it may misjudge the slope\n",
      "    return A*(1.-Q/Qe*np.exp(1.j*theta)/(1.+2.j*Q*(f-f0)/f0))"
     ],
     "language": "python",
     "metadata": {},
     "outputs": [],
     "prompt_number": 11
    },
    {
     "cell_type": "code",
     "collapsed": false,
     "input": [
      "f0 = 4\n",
      "Q = 1e6\n",
      "Qe = 1e6\n",
      "A = 1\n",
      "theta = 0\n",
      "\n",
      "freq = np.linspace(3.9999,4.0001,501)\n",
      "S21_1 = HangerFunc(freq, f0, Q, Qe, A, theta)*exp(i)\n",
      "S21_2 = HangerFunc(freq, f0, Q, Qe, A, .2)\n",
      "\n",
      "sweeps = 256\n",
      "average_list = [1,2,4,8,16,32,64,128,256]\n",
      "std = 0.1\n",
      "theta_arr = np.random.randn(sweeps) * std\n",
      "#theta_arr = np.linspace(0,0.0000000001,sweeps)\n",
      "\n",
      "S21_arr = np.zeros((sweeps, len(freq)), dtype=complex)\n",
      "for k, theta in enumerate(theta_arr):\n",
      "    S21_arr[k] = S21_1 = HangerFunc(freq, f0, Q, Qe, A, theta)\n",
      "#S21_arr = np.mean(S21_arr,axis=0)\n",
      "S21_mean = np.mean(S21_arr,axis=0)\n",
      "\n",
      "plt.figure('complex')\n",
      "plt.clf()\n",
      "plt.gca().ticklabel_format(useOffset=False)\n",
      "plt.tight_layout()\n",
      "\n",
      "plt.figure('ampl')\n",
      "plt.clf()\n",
      "plt.gca().ticklabel_format(useOffset=False)\n",
      "plt.tight_layout()\n",
      "\n",
      "plt.figure('ampl')\n",
      "for k, S21 in enumerate(S21_arr):\n",
      "    plt.plot(freq, np.abs(S21), label='%d: abs' % k)   \n",
      "plt.plot(freq, np.abs(S21), label = 'Averaged')\n",
      "\n",
      "plt.figure('complex')\n",
      "for k, S21 in enumerate(S21_arr):\n",
      "    plt.plot(S21.real, S21.imag, label='%d: abs' % k)   \n",
      "plt.plot(S21_mean.real, S21_mean.imag, label = 'Averaged')\n",
      "\n",
      "# for k, S21 in enumerate([S, np.mean(S21_arr,axis=0)]):\n",
      "#     plt.figure('ampl')\n",
      "# #     plt.plot(freq, S21.real, label='%d: real' % k)\n",
      "# #     plt.plot(freq, S21.imag, label='%d: imag' % k)\n",
      "#     plt.plot(freq, np.abs(S21), label='%d: abs' % k)\n",
      "#     plt.legend()\n",
      "    \n",
      "#     plt.figure('complex')\n",
      "#     plt.plot(S21.real, S21.imag, label = '%d' % k)\n",
      "#     plt.legend()\n",
      "\n",
      "plt.figure('Sweep averaging')\n",
      "plt.clf()\n",
      "plt.gca().ticklabel_format(useOffset=False)\n",
      "plt.tight_layout()\n",
      "plt.title('Result of sweep averaging')\n",
      "for k in average_list:\n",
      "    S21 = np.abs(np.mean(S21_arr[:k], axis=0))\n",
      "    plt.plot(freq, S21, label = 'Averages: %d' % k)\n",
      "plt.legend()\n",
      "    "
     ],
     "language": "python",
     "metadata": {},
     "outputs": [
      {
       "metadata": {},
       "output_type": "pyout",
       "prompt_number": 12,
       "text": [
        "<matplotlib.legend.Legend at 0x189bde48>"
       ]
      }
     ],
     "prompt_number": 12
    },
    {
     "cell_type": "code",
     "collapsed": false,
     "input": [
      "for loop in range(30):\n",
      "    f0 = 4\n",
      "    Q = 2e6\n",
      "    Qe = 1e7\n",
      "    A = 1\n",
      "    theta = 0\n",
      "\n",
      "    #Parameters:\n",
      "    sweeps = 400 #determines amount of sweeps\n",
      "    std = 1 #Determines the amount of spread in initial phase\n",
      "\n",
      "\n",
      "    freq = np.linspace(3.9999,4.0001,501)\n",
      "\n",
      "    average_list = np.arange(1,sweeps,2)\n",
      "    theta_arr = np.random.randn(sweeps) * std\n",
      "    #theta_arr = np.linspace(0,0.0000000001,sweeps)\n",
      "\n",
      "    S21_arr = np.zeros((sweeps, len(freq)), dtype=complex)\n",
      "    for k, theta in enumerate(theta_arr):\n",
      "        S21_arr[k] = S21_1 = HangerFunc(freq, f0, Q, Qe, A, theta)\n",
      "    S21_mean = np.mean(S21_arr,axis=0)\n",
      "\n",
      "    Qi_list = np.zeros(len(average_list))\n",
      "    Qc_list = np.zeros(len(average_list))\n",
      "\n",
      "    for k, avg in enumerate(average_list):\n",
      "        S21 = np.mean(S21_arr[:avg], axis=0)\n",
      "        fres = fit_S21_resonance_complex(freq,S21)\n",
      "        Qi_list[k] = fres['fitparsobj']['Qi'].value\n",
      "        Qc_list[k] = fres['fitparsobj']['Qc'].value\n",
      "    plt.plot(Qi_list)\n",
      "    plt.plot(np.ones(len(Qi_list))*Q)\n",
      "    plt.ylim(ymin=Q/1.02)"
     ],
     "language": "python",
     "metadata": {},
     "outputs": [],
     "prompt_number": 88
    },
    {
     "cell_type": "code",
     "collapsed": false,
     "input": [
      "\n",
      "plt.figure('complex')\n",
      "f0_list = [4.0000001]\n",
      "for f0 in f0_list:\n",
      "    S21 = HangerFunc(freq, f0, Q, Qe, A, 0)\n",
      "    plt.plot(S21.real, S21.imag, label='%d: abs' % k)   \n",
      "    plt.plot(HangerFunc(f0, f0, Q, Qe, A, 0).real, HangerFunc(f0, f0, Q, Qe, A, 0).imag, 'o-')\n",
      "\n",
      "#plt.plot(S21_mean.real, S21_mean.imag, label = 'Averaged')"
     ],
     "language": "python",
     "metadata": {},
     "outputs": [],
     "prompt_number": 117
    },
    {
     "cell_type": "code",
     "collapsed": false,
     "input": [],
     "language": "python",
     "metadata": {},
     "outputs": []
    },
    {
     "cell_type": "heading",
     "level": 1,
     "metadata": {},
     "source": [
      "Determining the phase from multiplication by sine and cosine"
     ]
    },
    {
     "cell_type": "code",
     "collapsed": false,
     "input": [
      "phi_lst = np.arange(0,2*pi,0.1)\n",
      "sine_lst = np.zeros(len(phi_lst))\n",
      "cosine_lst = np.zeros(len(phi_lst))\n",
      "for k, phi in enumerate(phi_lst):\n",
      "    x = np.arange(0,10*np.pi,0.1)\n",
      "    y = np.sin(phi + x)\n",
      "#     plt.figure('Multiply by sine and cosine',figsize=(12,6))\n",
      "#     plt.plot(x,y)\n",
      "    sine_lst[k] = np.mean(y * np.sin(x))\n",
      "    cosine_lst[k] = np.mean(y * np.cos(x))\n",
      "#     print 'Sine:  {:>8.2g}'.format(sine_sum)\n",
      "#     print 'Cosine:{:>8.2g}'.format(cosine_sum)\n",
      "plt.figure('Multiply by sine and cosine',figsize=(12,6))\n",
      "#plt.plot(phi_lst, sine_lst,label='sine')\n",
      "plt.plot(phi_lst,cosine_lst, label = 'cosine')\n",
      "plt.plot(phi_lst, .5*np.sin(phi_lst))\n",
      "plt.legend()\n",
      "plt.plot()"
     ],
     "language": "python",
     "metadata": {},
     "outputs": [
      {
       "metadata": {},
       "output_type": "pyout",
       "prompt_number": 26,
       "text": [
        "[]"
       ]
      }
     ],
     "prompt_number": 26
    },
    {
     "cell_type": "code",
     "collapsed": false,
     "input": [
      "plt.plot(np.sin(phi_lst)*np.sin(phi_lst))"
     ],
     "language": "python",
     "metadata": {},
     "outputs": [
      {
       "metadata": {},
       "output_type": "pyout",
       "prompt_number": 28,
       "text": [
        "[<matplotlib.lines.Line2D at 0x13ff45c0>]"
       ]
      }
     ],
     "prompt_number": 28
    },
    {
     "cell_type": "code",
     "collapsed": false,
     "input": [],
     "language": "python",
     "metadata": {},
     "outputs": []
    }
   ],
   "metadata": {}
  }
 ]
}