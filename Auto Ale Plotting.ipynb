{
 "metadata": {
  "name": "",
  "signature": "sha256:3fc272ba45f5207d399d3a54200bf164fb2220d40aa42b864c442676f0765c41"
 },
 "nbformat": 3,
 "nbformat_minor": 0,
 "worksheets": [
  {
   "cells": [
    {
     "cell_type": "code",
     "collapsed": false,
     "input": [
      "savefolder = r\"D:\\sasaad\\Three-month-evaluation\\Figures\""
     ],
     "language": "python",
     "metadata": {},
     "outputs": [],
     "prompt_number": 164
    },
    {
     "cell_type": "heading",
     "level": 1,
     "metadata": {},
     "source": [
      "Functions"
     ]
    },
    {
     "cell_type": "code",
     "collapsed": false,
     "input": [
      "%pylab\n",
      "import sys\n",
      "sys.path.append('D:\\qtlab\\modules')\n",
      "sys.path.append('D:\\qtlab\\source')\n",
      "import pickle\n",
      "import numpy as np\n",
      "import os\n",
      "import qt\n",
      "\n",
      "from utils import physcon as pc\n",
      "from sympy.solvers import solve\n",
      "from sympy import Symbol\n",
      "from scipy.optimize import curve_fit\n",
      "import matplotlib\n",
      "import matplotlib as mpl\n",
      "import matplotlib.pyplot as plt\n",
      "mpl.rc('mathtext', fontset='stixsans',default='regular')\n",
      "mpl.rcParams['font.sans-serif'] = 'Arial', 'Arial', 'Avant Garde', 'Computer Modern Sans serif'"
     ],
     "language": "python",
     "metadata": {},
     "outputs": [
      {
       "output_type": "stream",
       "stream": "stdout",
       "text": [
        "Using matplotlib backend: GTKAgg\n",
        "Populating the interactive namespace from numpy and matplotlib\n"
       ]
      },
      {
       "output_type": "stream",
       "stream": "stderr",
       "text": [
        "WARNING: pylab import has clobbered these variables: ['solve']\n",
        "`%matplotlib` prevents importing * from pylab and numpy\n"
       ]
      }
     ],
     "prompt_number": 7
    },
    {
     "cell_type": "code",
     "collapsed": false,
     "input": [
      "labeldict = {'input_power':'Input power (dBm)', 'n_photon':r'$\\left<n_{ph}\\right>$', 'n_drive':'Number of driven photons',\n",
      "             'n_thermal':'Number of thermal photons', 'power':'VNA power', 'Qi':r'Intrinsic quality factor',\n",
      "             'Qc':r'Coupling quality factor $\\mathrm{Q_c}$', 'Ql':r'Loaded quality factor $\\mathrm{Q_l}$'}"
     ],
     "language": "python",
     "metadata": {},
     "outputs": [],
     "prompt_number": 2
    },
    {
     "cell_type": "code",
     "collapsed": false,
     "input": [
      "# These are the \"Tableau 20\" colors as RGB.  \n",
      "tableau20 = [(31, 119, 180), (174, 199, 232), (255, 127, 14), (255, 187, 120),  \n",
      "             (44, 160, 44), (152, 223, 138), (214, 39, 40), (255, 152, 150),  \n",
      "             (148, 103, 189), (197, 176, 213), (140, 86, 75), (196, 156, 148),  \n",
      "             (227, 119, 194), (247, 182, 210), (127, 127, 127), (199, 199, 199),  \n",
      "             (188, 189, 34), (219, 219, 141), (23, 190, 207), (158, 218, 229)]  \n",
      "  \n",
      "# Scale the RGB values to the [0, 1] range, which is the format matplotlib accepts.  \n",
      "for i in range(len(tableau20)):  \n",
      "    r, g, b = tableau20[i]  \n",
      "    tableau20[i] = (r / 255., g / 255., b / 255.)  "
     ],
     "language": "python",
     "metadata": {},
     "outputs": [],
     "prompt_number": 3
    },
    {
     "cell_type": "code",
     "collapsed": false,
     "input": [
      "def data_smoothing(x, N):\n",
      "    return np.convolve(np.array(N*[np.average(x[:N])]+x.tolist()+N*[np.average(x[-N:])]), np.ones((N,))/N)[(3*N/2-1):-3*N/2]"
     ],
     "language": "python",
     "metadata": {},
     "outputs": [],
     "prompt_number": 4
    },
    {
     "cell_type": "heading",
     "level": 3,
     "metadata": {},
     "source": [
      "Load calibrations"
     ]
    },
    {
     "cell_type": "code",
     "collapsed": false,
     "input": [
      "#Load calibration settings\n",
      "resolution = .2 #GHz, for smoothing\n",
      "\n",
      "calnpz = np.load('D:\\qtlab\\data\\Set5\\calibrations\\calibrations.npz')\n",
      "sma_vatt_cal = np.array([calnpz['f'],calnpz['single_sma_vatt']]).transpose()\n",
      "\n",
      "set5New_cal = np.loadtxt('D:\\qtlab\\data\\Set5\\calibration cooldown Maserati 07\\LIN1.dat',delimiter=';',skiprows=29,usecols=(0,1))\n",
      "set4_cal = np.loadtxt('D:\\qtlab\\data\\Set5\\calibration cooldown Maserati 07\\LIN2.dat',delimiter=';',skiprows=29,usecols=(0,1))\n",
      "set5_cal = np.loadtxt('D:\\qtlab\\data\\Set5\\calibration cooldown Maserati 07\\LIN3.dat',delimiter=';',skiprows=29,usecols=(0,1))\n",
      "lin4_cal = np.loadtxt('D:\\qtlab\\data\\Set5\\calibration cooldown Maserati 07\\LIN4.dat',delimiter=';',skiprows=29,usecols=(0,1))\n",
      "lin7_cal = np.loadtxt('D:\\qtlab\\data\\Set5\\calibration cooldown Maserati 07\\LIN7.dat',delimiter=';',skiprows=29,usecols=(0,1))\n",
      "\n",
      "ecco_cold_cal = np.load(r'D:\\qtlab\\data\\Set5\\Eccosorb calibrations\\20141003_ECCO3COLD.npz')\n",
      "ecco_rt_cal = np.load(r'D:\\qtlab\\data\\Set5\\Eccosorb calibrations\\20141003_ECCO3RT.npz')\n",
      "ecco_cal = np.array([ecco_rt_cal['f']/1e9, ecco_cold_cal['s21']/2 - ecco_rt_cal['s21']/2]).transpose()\n",
      "\n",
      "df = ecco_cal[1,0]-ecco_cal[0,0]\n",
      "ecco_smooth_cal = data_smoothing(ecco_cal[:,1],int(resolution/df))\n",
      "ecco_cal[:,1] = ecco_smooth_cal\n",
      "\n",
      "\n",
      "\n",
      "lin1lin2_rt_cal = np.loadtxt(r'K:\\ns\\qt\\Transmon\\Fridges\\LaMaserati\\Wiring Characterisation\\140915_roundtrips_during_cooldown\\S21_L01_L02_1630_beforeprecool.dat',delimiter=';',skiprows = 29,usecols=(0,1))\n",
      "lin1lin2_1K_cal = np.loadtxt(r'K:\\ns\\qt\\Transmon\\Fridges\\LaMaserati\\Wiring Characterisation\\140915_roundtrips_during_cooldown\\S21_L01_L02_140917_1311_Tmclo1060mK.dat',delimiter=';',skiprows = 29,usecols=(0,1))\n",
      "lin1lin2_cal = np.array([lin1lin2_1K_cal[:,0]/1e9,lin1lin2_1K_cal[:,1] - lin1lin2_rt_cal[:,1]]).transpose()\n",
      "\n",
      "df = lin1lin2_cal[1,0]-lin1lin2_cal[0,0]\n",
      "lin1lin2_smooth_cal = data_smoothing(lin1lin2_cal[:,1],int(resolution/df))\n",
      "lin1lin2_cal[:,1]=lin1lin2_smooth_cal"
     ],
     "language": "python",
     "metadata": {},
     "outputs": [],
     "prompt_number": 5
    },
    {
     "cell_type": "heading",
     "level": 2,
     "metadata": {},
     "source": [
      "Calibration plots"
     ]
    },
    {
     "cell_type": "raw",
     "metadata": {},
     "source": [
      "matplotlib.rcParams.update({'font.size': 12})"
     ]
    },
    {
     "cell_type": "code",
     "collapsed": false,
     "input": [
      "plt.ion()"
     ],
     "language": "python",
     "metadata": {},
     "outputs": [],
     "prompt_number": 6
    },
    {
     "cell_type": "code",
     "collapsed": false,
     "input": [
      "plt.figure()\n",
      "plt.clf()\n",
      "plt.plot(sma_vatt_cal[:,0],sma_vatt_cal[:,1], label = 'SMA')\n",
      "plt.xlabel('frequency (GHz)')\n",
      "plt.ylabel('Amplification (dB)')\n",
      "plt.title('Attenuation from VATT until fridge entrance (at RT)')\n",
      "plt.xlim(xmax=10)\n",
      "plt.show()"
     ],
     "language": "python",
     "metadata": {},
     "outputs": [],
     "prompt_number": 34
    },
    {
     "cell_type": "code",
     "collapsed": false,
     "input": [
      "plt.plot(set4_cal[:,0]/1e9,set4_cal[:,1], label = 'Fridge')"
     ],
     "language": "python",
     "metadata": {},
     "outputs": [
      {
       "metadata": {},
       "output_type": "pyout",
       "prompt_number": 35,
       "text": [
        "<matplotlib.text.Text at 0x15bc11d0>"
       ]
      }
     ],
     "prompt_number": 35
    },
    {
     "cell_type": "code",
     "collapsed": false,
     "input": [
      "plt.plot(set4_cal[:,0]/1e9,set4_cal[:,1], label = 'Fridge')"
     ],
     "language": "python",
     "metadata": {},
     "outputs": [
      {
       "ename": "ValueError",
       "evalue": "operands could not be broadcast together with shapes (691,) (2001,) ",
       "output_type": "pyerr",
       "traceback": [
        "\u001b[1;31m---------------------------------------------------------------------------\u001b[0m\n\u001b[1;31mValueError\u001b[0m                                Traceback (most recent call last)",
        "\u001b[1;32m<ipython-input-36-3458f9a8be87>\u001b[0m in \u001b[0;36m<module>\u001b[1;34m()\u001b[0m\n\u001b[1;32m----> 1\u001b[1;33m \u001b[0mplt\u001b[0m\u001b[1;33m.\u001b[0m\u001b[0mplot\u001b[0m\u001b[1;33m(\u001b[0m\u001b[0mset4_cal\u001b[0m\u001b[1;33m[\u001b[0m\u001b[1;33m:\u001b[0m\u001b[1;33m,\u001b[0m\u001b[1;36m0\u001b[0m\u001b[1;33m]\u001b[0m\u001b[1;33m/\u001b[0m\u001b[1;36m1e9\u001b[0m\u001b[1;33m,\u001b[0m\u001b[0mset4_cal\u001b[0m\u001b[1;33m[\u001b[0m\u001b[1;33m:\u001b[0m\u001b[1;33m,\u001b[0m\u001b[1;36m1\u001b[0m\u001b[1;33m]\u001b[0m \u001b[1;33m+\u001b[0m \u001b[0msma_vatt_cal\u001b[0m\u001b[1;33m[\u001b[0m\u001b[1;33m:\u001b[0m\u001b[1;33m,\u001b[0m\u001b[1;36m1\u001b[0m\u001b[1;33m]\u001b[0m\u001b[1;33m,\u001b[0m \u001b[0mlabel\u001b[0m \u001b[1;33m=\u001b[0m \u001b[1;34m'Fridge'\u001b[0m\u001b[1;33m)\u001b[0m\u001b[1;33m\u001b[0m\u001b[0m\n\u001b[0m",
        "\u001b[1;31mValueError\u001b[0m: operands could not be broadcast together with shapes (691,) (2001,) "
       ]
      }
     ],
     "prompt_number": 36
    },
    {
     "cell_type": "code",
     "collapsed": false,
     "input": [
      "plt.plot(set4_cal[:,0]/1e9,map(lambda freq: convert_power(freq, 0, set4_cal), set4_cal[:,0]/1e9))"
     ],
     "language": "python",
     "metadata": {},
     "outputs": [
      {
       "metadata": {},
       "output_type": "pyout",
       "prompt_number": 41,
       "text": [
        "[<matplotlib.lines.Line2D at 0x15f4eda0>]"
       ]
      }
     ],
     "prompt_number": 41
    },
    {
     "cell_type": "code",
     "collapsed": false,
     "input": [
      "convert_power(2.75, 0, set4_cal)"
     ],
     "language": "python",
     "metadata": {},
     "outputs": [
      {
       "metadata": {},
       "output_type": "pyout",
       "prompt_number": 42,
       "text": [
        "-52.95019450667796"
       ]
      }
     ],
     "prompt_number": 42
    },
    {
     "cell_type": "raw",
     "metadata": {},
     "source": [
      "plt.figure()\n",
      "plt.clf()\n",
      "plt.plot(set4_cal[:,0]/1e9,set4_cal[:,1])\n",
      "plt.xlabel('frequency (GHz)')\n",
      "plt.ylabel('Amplification (dB)')\n",
      "plt.title('Attenuation from fridge entrance to MC (at RT)')\n",
      "plt.xlim(xmax=10)\n",
      "plt.show()"
     ]
    },
    {
     "cell_type": "raw",
     "metadata": {},
     "source": [
      "plt.figure()\n",
      "plt.clf()\n",
      "plt.plot(ecco_cal[:,0],ecco_cal[:,1])\n",
      "plt.xlabel('frequency (GHz)')\n",
      "plt.ylabel('Amplification (dB)')\n",
      "plt.title('Reduced attenuation of Eccosorb due to cryogenic T')\n",
      "plt.show()"
     ]
    },
    {
     "cell_type": "raw",
     "metadata": {},
     "source": [
      "plt.figure()\n",
      "plt.clf()\n",
      "plt.plot(lin1lin2_cal[:500,0],lin1lin2_cal[:500,1])\n",
      "plt.xlabel('frequency (GHz)')\n",
      "plt.ylabel('Amplification (dB)')\n",
      "plt.title('Reduced attenuation of stainless steel cables due to cryogenic T')\n",
      "plt.show()"
     ]
    },
    {
     "cell_type": "raw",
     "metadata": {},
     "source": [
      "matplotlib.rcParams.update({'font.size': 22})"
     ]
    },
    {
     "cell_type": "heading",
     "level": 3,
     "metadata": {},
     "source": [
      "Data handling"
     ]
    },
    {
     "cell_type": "code",
     "collapsed": false,
     "input": [
      "def load_pickle_data(fname):\n",
      "    if os.path.isfile(fname): \n",
      "        return pickle.load(open(fname,'rb'))\n",
      "    else:\n",
      "        print \"File doesn't exist\"\n",
      "        print fname\n",
      "        return None"
     ],
     "language": "python",
     "metadata": {},
     "outputs": [],
     "prompt_number": 8
    },
    {
     "cell_type": "code",
     "collapsed": false,
     "input": [
      "def load_data(path, cal, filename = 'all_results.pickle'):\n",
      "    pickledata = load_pickle_data(os.path.join(path,filename))\n",
      "    if pickledata == None: return 0\n",
      "    reslst={'resdata':[],'resfreqs':[],'resnames':[]}\n",
      "    \n",
      "    for resname, res in pickledata['resname'].items():\n",
      "        reslst['resnames'] += [resname]\n",
      "        \n",
      "        #Stores resonance frequencies (for highest power)\n",
      "        resfreq = res['pow'][res['pow'].keys()[0]]['fitpars'][1]\n",
      "        #check if resonance frequencies are in GHz\n",
      "        resfreq *= 1.e9 if (resfreq < 1.e3) else 1\n",
      "        reslst['resfreqs'] += [resfreq]\n",
      "\n",
      "\n",
      "        resdict = {'power':[], 'input_power':[], 'f0':[], 'n_photon':[], 'n_drive':[], 'n_thermal':[], 'Qi':[], 'Qc':[], 'Ql':[], 'errQi':[], 'errQc':[], 'errQl':[]}\n",
      "        for power, powerdata in sorted(res['pow'].items()):\n",
      "            input_power = convert_power(resfreq, power, cal)\n",
      "            f0 = powerdata['fitpars'][1]\n",
      "            Qi, Qc, Ql = powerdata['Qicl']\n",
      "            errQi, errQc, errQl = powerdata['errQicl']\n",
      "            temperature = powerdata['T']/1000. #In Kelvin\n",
      "            n_drive, n_thermal = map(get_photon_number(input_power, resfreq/1.e9, Ql, Qc, temperature).get, ['n_P', 'n_Thermal'])\n",
      "            #n_single = get_single_photon_power(resfreq/1.e9, Ql, Qc, temperature)\n",
      "            resdict['power'] += [power]\n",
      "            resdict['input_power'] += [input_power]\n",
      "            resdict['f0'] += [f0]\n",
      "            resdict['Qi'] += [Qi]\n",
      "            resdict['Qc'] += [Qc]\n",
      "            resdict['Ql'] += [Ql]\n",
      "            resdict['errQi'] += [errQi]\n",
      "            resdict['errQc'] += [errQc]\n",
      "            resdict['errQl'] += [errQl]\n",
      "            resdict['n_photon'] += [n_drive + n_thermal]\n",
      "            resdict['n_drive'] += [n_drive]\n",
      "            resdict['n_thermal'] += [n_thermal]\n",
      "            #resdict['n_single'] += [n_single]\n",
      "        reslst['resdata'] += [resdict]\n",
      "    return reslst"
     ],
     "language": "python",
     "metadata": {},
     "outputs": [],
     "prompt_number": 9
    },
    {
     "cell_type": "code",
     "collapsed": false,
     "input": [
      "def merge_data(reslst1, reslst2, weight):\n",
      "    reslst = reslst1.copy()\n",
      "    for k, resname in enumerate(reslst2['resnames']):\n",
      "        #print 'resonator',resname\n",
      "        #print 'reslst',reslst\n",
      "        if resname not in reslst['resnames']:\n",
      "            #print 'not merging for resonator',resname\n",
      "            reslst['resnames'] += [resname]\n",
      "            reslst['resfreqs'] += [reslst2['resfreqs'][k]]\n",
      "            reslst['resdata'] += [reslst2['resdata'][k]]\n",
      "        else: #Perform merge\n",
      "            resind = reslst['resnames'].index(resname)\n",
      "            #print 'resind',resind\n",
      "            #print reslst['resdata']\n",
      "            for l, power in enumerate(reslst2['resdata'][k]['power']):\n",
      "                if power not in reslst['resdata'][resind]['power']:\n",
      "                    for key in reslst['resdata'][resind].keys():\n",
      "                        reslst['resdata'][resind][key] += [reslst2['resdata'][k][key][l]]\n",
      "            #Sorting\n",
      "            sortorder = np.argsort(reslst['resdata'][resind]['power'])\n",
      "            for key, value in reslst['resdata'][resind].items():\n",
      "                reslst['resdata'][resind][key] = np.array(value)[sortorder].tolist()\n",
      "    return reslst"
     ],
     "language": "python",
     "metadata": {},
     "outputs": [],
     "prompt_number": 10
    },
    {
     "cell_type": "code",
     "collapsed": false,
     "input": [
      "def load_merge_data(path, cal, reslst=None, filename = 'all_results.pickle', weight = 1):\n",
      "\n",
      "    reslst_load = load_data(path, cal, filename)\n",
      "    print 'reslst: ',reslst_load['resnames'], 'Data objects:',len(reslst_load['resdata'])     \n",
      "    if reslst != None and reslst != {}:\n",
      "        reslst = merge_data(reslst, reslst_load, weight)\n",
      "    else:\n",
      "        reslst = reslst_load\n",
      "    return reslst"
     ],
     "language": "python",
     "metadata": {},
     "outputs": [],
     "prompt_number": 11
    },
    {
     "cell_type": "heading",
     "level": 3,
     "metadata": {},
     "source": [
      "Plotting"
     ]
    },
    {
     "cell_type": "code",
     "collapsed": false,
     "input": [
      "def plot_xy(reslst,legend=[1], xattr = 'input_power', yattr = 'Qi', logplot = [False, False],ignore=[], set='Set5New', legendname=False, yerr = None, marker = 'o-'):\n",
      "    #Make it possible to create several plots\n",
      "    if type(yattr) is not list:\n",
      "        yattrs = [yattr]\n",
      "        \n",
      "    #Qdict={'Qi':{'legend':legend[0]},'Qc':{'legend':legend[1]},'Ql':{'legend':legend[2]}}\n",
      "    colormap = plt.cm.gist_ncar\n",
      "    for l, yattr in enumerate(yattrs):\n",
      "        plt.figure('%s_vs_%s'%(yattr,xattr),figsize = (4.875,3.2))\n",
      "        plt.gca().set_color_cycle(tableau20)#[colormap(i) for i in np.linspace(0, 0.9, len(reslst['resfreqs']))])\n",
      "        plt.title('%s %s_vs_%s'%(set, yattr,xattr))\n",
      "        \n",
      "        plotlst = plot_add_resonators(reslst, xattr=xattr, yattr=yattr, ignore=ignore, legendname = legendname, marker = marker, yerr = yerr)\n",
      "        if logplot[0] == True: plt.xscale('log')\n",
      "        if logplot[1] == True: plt.yscale('log')\n",
      "        xlabel, ylabel = [labeldict[attr] if attr in labeldict else attr for attr in xattr, yattr]\n",
      "        plt.xlabel(xlabel)\n",
      "        plt.ylabel(ylabel,labelpad = -14)\n",
      "        plot_legend = plt.legend(loc=legend[min(len(legend)-1, l)], fontsize = 'small', numpoints= 1)\n",
      "        #ax = plt.gca().add_artist(plot_legend)\n",
      "        plt.tight_layout()\n",
      "    return plotlst"
     ],
     "language": "python",
     "metadata": {},
     "outputs": [],
     "prompt_number": 12
    },
    {
     "cell_type": "code",
     "collapsed": false,
     "input": [
      "def plot_add_resonators(reslst, xattr = 'input_power', yattr = 'Qi', ignore=[], include = None, marker = 'o-', legendname = False, yerr = None):\n",
      "    if include == None:\n",
      "        include = range(len(reslst['resdata']))\n",
      "    plotlst=[]\n",
      "    for m, k in enumerate(np.argsort(reslst['resfreqs'])):\n",
      "            if(m  not in ignore) and (k in include):\n",
      "                #check if resonance frequencies are in GHz\n",
      "                resfreq = reslst['resfreqs'][k]\n",
      "                resfreq /= 1.e9 if (resfreq > 1.e3) else 1\n",
      "                if legendname:\n",
      "                    plotlabel = r'%s: %.2f GHz'%(reslst['resnames'][k],resfreq)\n",
      "                else:\n",
      "                    plotlabel = '%.2f GHz'%resfreq #r'$f_{res}$' + ': \n",
      "                if yerr is None:\n",
      "                    plotlst.append(plt.plot(reslst['resdata'][k][xattr],reslst['resdata'][k][yattr],\n",
      "                            marker, ms = 5, label=plotlabel)[0])\n",
      "                else:\n",
      "                    plotlst.append(plt.errorbar(reslst['resdata'][k][xattr], reslst['resdata'][k][yattr], marker = marker[0],\n",
      "                            ms = 5,label=plotlabel, yerr=reslst['resdata'][k][yerr], fmt='o-'))\n",
      "    return plotlst"
     ],
     "language": "python",
     "metadata": {},
     "outputs": [],
     "prompt_number": 13
    },
    {
     "cell_type": "code",
     "collapsed": false,
     "input": [
      "def save_plot():\n",
      "    for Q in ['Qi','Qc','Ql']:\n",
      "        plt.figure('%s_vs_power'%Q)\n",
      "        print self.path + \"/\" + Q + '.png'\n",
      "        plt.savefig(self.path + \"/\" +Q  + '.png')\n",
      "        plt.close()"
     ],
     "language": "python",
     "metadata": {},
     "outputs": [],
     "prompt_number": 14
    },
    {
     "cell_type": "heading",
     "level": 3,
     "metadata": {},
     "source": [
      "Data manipulation"
     ]
    },
    {
     "cell_type": "code",
     "collapsed": false,
     "input": [
      "def convert_power(freq, power, line_cal, sma_vatt_cal=sma_vatt_cal, ecco_cal = ecco_cal, lin1lin2_cal = lin1lin2_cal, reverse=False):\n",
      "    '''\n",
      "    args: freq (Ghz), power (dBm), line_cal (freq,dBm), sma_vatt_cal (freq,dBm)\n",
      "    line_cal is the calibration from input line of the fridge to the mixing chamber\n",
      "    sma_vatt_cal is the calibration from the source up til the input of the fridge\n",
      "    '''\n",
      "    if freq >= 1e3:\n",
      "        freq /=1e9\n",
      "    line_freqs = line_cal[:,0]/1e9\n",
      "    line_ind = np.argmax(freq<=line_freqs)\n",
      "    sma_vatt_freqs = sma_vatt_cal[:,0]\n",
      "    sma_vatt_ind = np.argmax(freq<=sma_vatt_freqs)\n",
      "    ecco_freqs = ecco_cal[:,0]\n",
      "    ecco_ind = np.argmax(freq<=ecco_freqs)\n",
      "    lin1lin2_freqs = lin1lin2_cal[:,0]\n",
      "    lin1lin2_ind = np.argmax(freq<=lin1lin2_freqs)\n",
      "    \n",
      "#     print freq, power\n",
      "#     print line_ind, sma_vatt_ind, ecco_ind, lin1lin2_ind\n",
      "    #Note power is the opposite of attenuation\n",
      "    line_power = line_cal[line_ind,1]\n",
      "    sma_vatt_power = sma_vatt_cal[sma_vatt_ind,1]\n",
      "    ecco_power = ecco_cal[ecco_ind, 1]\n",
      "    lin1lin2_power = lin1lin2_cal[lin1lin2_ind,1]\n",
      "    if not reverse:\n",
      "        total_power = power + line_power + sma_vatt_power + ecco_power + lin1lin2_power/2\n",
      "    else:\n",
      "        total_power = power - line_power - sma_vatt_power - ecco_power - lin1lin2_power/2\n",
      "    return total_power"
     ],
     "language": "python",
     "metadata": {},
     "outputs": [],
     "prompt_number": 15
    },
    {
     "cell_type": "code",
     "collapsed": false,
     "input": [
      "def get_photon_number(Pin, f, Ql, Qc, T):\n",
      "    #Calculates the number of photons present in a resonator\n",
      "    # input Pin, f, Ql, Qc, T in dBm, GHz,#,#,K\n",
      "    #Returns {n_P, n_Thermal}\n",
      "    #n_P is the number of photons present due to input power\n",
      "    #n_Thermal is the number of photons present due to thermal excitations\n",
      "    hbar, k_B = pc.hbar, pc.k_B\n",
      "    omega = 2.*np.pi*f*1e9\n",
      "    n_Thermal = 1./(np.exp(hbar*omega/k_B/T)-1.)\n",
      "    n_P = 4./hbar/omega**2*Ql**2/Qc*10**(Pin/10.)/1.e3\n",
      "    return({'n_P':n_P, 'n_Thermal':n_Thermal})"
     ],
     "language": "python",
     "metadata": {},
     "outputs": [],
     "prompt_number": 16
    },
    {
     "cell_type": "code",
     "collapsed": false,
     "input": [
      "def get_single_photon_power(*args):\n",
      "    try:\n",
      "        x = Symbol('x')\n",
      "        return solve(np.sum(map(get_photon_number(x,*args).get,['n_P','n_Thermal'])) - 1, x)[0]\n",
      "    except:\n",
      "        print \"Couldn't determine single photon level\"\n",
      "        return 0"
     ],
     "language": "python",
     "metadata": {},
     "outputs": [],
     "prompt_number": 19
    },
    {
     "cell_type": "code",
     "collapsed": false,
     "input": [
      "def linear_fit_func(x,a,b):\n",
      "    return a*x + b"
     ],
     "language": "python",
     "metadata": {},
     "outputs": [],
     "prompt_number": 20
    },
    {
     "cell_type": "code",
     "collapsed": false,
     "input": [
      "def single_photon_power_fit(res):\n",
      "    xdata =res['power']\n",
      "    ydata = np.log10(res['n_photon'])\n",
      "    a, b =curve_fit(linear_fit_func, xdata, ydata )[0]\n",
      "    single_photon_power = -b/a\n",
      "    return single_photon_power"
     ],
     "language": "python",
     "metadata": {},
     "outputs": [],
     "prompt_number": 21
    },
    {
     "cell_type": "code",
     "collapsed": false,
     "input": [
      "def determine_single_photon_powers(reslst):\n",
      "    #Calculates single photon powers\n",
      "    for k, res in enumerate(reslst['resdata']):\n",
      "        print reslst['resnames'][k], 'freq: %.3f GHz'%(reslst['resfreqs'][k]/1.e9),\n",
      "        try:\n",
      "            single_photon_power = single_photon_power_fit(res)\n",
      "            print 'Single photon power: %.1f dBm VNA power' % single_photon_power\n",
      "        except:\n",
      "            print \"Couldn't find single photon power\""
     ],
     "language": "python",
     "metadata": {},
     "outputs": [],
     "prompt_number": 22
    },
    {
     "cell_type": "heading",
     "level": 1,
     "metadata": {},
     "source": [
      "Testing"
     ]
    },
    {
     "cell_type": "code",
     "collapsed": false,
     "input": [
      "#Load pickle data\n",
      "pdata = load_pickle_data(r'D:\\qtlab\\data\\set5New_LaMaserati\\20141118\\11_set5New_LaMaserati')"
     ],
     "language": "python",
     "metadata": {},
     "outputs": [
      {
       "output_type": "stream",
       "stream": "stdout",
       "text": [
        "File doesn't exist\n",
        "D:\\qtlab\\data\\set5New_LaMaserati\\20141118\\11_set5New_LaMaserati\n"
       ]
      }
     ],
     "prompt_number": 95
    },
    {
     "cell_type": "code",
     "collapsed": false,
     "input": [
      "#Get keys values from dict\n",
      "\n",
      "# (IMHO) the simplest approach:\n",
      "def sortedDictValues1(adict):\n",
      "    items = adict.items()\n",
      "    items.sort()\n",
      "    return [value for key, value in items]\n",
      "\n",
      "# an alternative implementation, which\n",
      "# happens to run a bit faster for large\n",
      "# dictionaries on my machine:\n",
      "def sortedDictValues2(adict):\n",
      "    keys = adict.keys()\n",
      "    keys.sort()\n",
      "    return [dict[key] for key in keys]\n",
      "\n",
      "# a further slight speed-up on my box\n",
      "# is to map a bound-method:\n",
      "def sortedDictValues3(adict):\n",
      "    keys = adict.keys()\n",
      "    keys.sort()\n",
      "    return map(adict.get, keys)"
     ],
     "language": "python",
     "metadata": {},
     "outputs": [],
     "prompt_number": 96
    },
    {
     "cell_type": "code",
     "collapsed": false,
     "input": [
      "def test_fun(arg1, *args, **kwargs):\n",
      "    if len(args) == 1:\n",
      "        print 'one argument'"
     ],
     "language": "python",
     "metadata": {},
     "outputs": [],
     "prompt_number": 63
    },
    {
     "cell_type": "code",
     "collapsed": false,
     "input": [
      "test_dict = {0:['asdg','asdgsda'],20:[1234,3532],-30:15}"
     ],
     "language": "python",
     "metadata": {},
     "outputs": [],
     "prompt_number": 22
    },
    {
     "cell_type": "heading",
     "level": 1,
     "metadata": {},
     "source": [
      "Analysis"
     ]
    },
    {
     "cell_type": "heading",
     "level": 3,
     "metadata": {},
     "source": [
      "Set5New"
     ]
    },
    {
     "cell_type": "markdown",
     "metadata": {},
     "source": [
      "This is the new set5, which was not previously measured (with shielding)"
     ]
    },
    {
     "cell_type": "code",
     "collapsed": false,
     "input": [
      "cal = set5New_cal\n",
      "\n",
      "reslst_set5New = load_merge_data(r'\\\\TUD277449\\data\\set5New_LaMaserati\\20141118\\11_set5New_LaMaserati', cal)#First five resonators\n",
      "reslst_set5New = load_merge_data(r'\\\\TUD277449\\data\\set5New_LaMaserati\\20141118\\16_set5New_LaMaserati', cal, reslst_set5New)#Second two resonators\n",
      "reslst_set5New = load_merge_data(r'\\\\TUD277449\\data\\Set5\\20141118\\12_set5New_LaMaserati', cal, reslst_set5New)#Overnight run (failed)\n",
      "reslst_set5New = load_merge_data(r'\\\\TUD277449\\data\\Set5\\20141119\\set5New_LaMaserati', cal, reslst_set5New)#Day run (high/medium power)\n",
      "reslst_set5New = load_merge_data(r'\\\\TUD277449\\data\\Set5\\20141120\\set5New_LaMaserati', cal, reslst_set5New)#Day run (low power)\n",
      "reslst_set5New = load_merge_data(r'\\\\TUD277449\\data\\Set5\\20141121\\8_04HDMSDRIE', cal, reslst_set5New)#Weekend run(single photon)\n",
      "reslst_set5New = load_merge_data(r'\\\\TUD277449\\data\\Set5\\20141122\\2_02HDMSDRIE', cal, reslst_set5New)#Weekend run(single photon)\n",
      "reslst_set5New = load_merge_data(r'\\\\TUD277449\\data\\Set5\\20141123\\03HDMSDRIE', cal, reslst_set5New)#Weekend run(single photon)\n",
      "reslst_set5New = load_merge_data(r'\\\\TUD277449\\data\\Set5\\20141123\\4_01HDMSDRIE', cal, reslst_set5New)#Weekend run(single photon)\n",
      "reslst_set5New = load_merge_data(r'\\\\TUD277449\\data\\Set5\\20141123\\4_01HDMSDRIE', cal, reslst_set5New)#Weekend run(single photon)\n",
      "print reslst_set5New['resnames']"
     ],
     "language": "python",
     "metadata": {},
     "outputs": [
      {
       "output_type": "stream",
       "stream": "stdout",
       "text": [
        "reslst:  ['02HDMSDRIE', '03HDMSDRIE', '01HDMSDRIE', '04HDMSDRIE', '06HDMSDRIE', '07HDMSDRIE'] Data objects: 6\n",
        "reslst: "
       ]
      },
      {
       "output_type": "stream",
       "stream": "stdout",
       "text": [
        " ['07HDMSDRIE', '10HDMS'] Data objects: 2\n",
        "reslst: "
       ]
      },
      {
       "output_type": "stream",
       "stream": "stdout",
       "text": [
        " ['01HDMSDRIE'] Data objects: 1\n",
        "reslst: "
       ]
      },
      {
       "output_type": "stream",
       "stream": "stdout",
       "text": [
        " ['02HDMSDRIE', '03HDMSDRIE', '04HDMSDRIE', '06HDMSDRIE', '07HDMSDRIE', '10HDMS'] Data objects: 6\n",
        "reslst: "
       ]
      },
      {
       "output_type": "stream",
       "stream": "stdout",
       "text": [
        " ['02HDMSDRIE', '03HDMSDRIE', '01HDMSDRIE', '04HDMSDRIE', '06HDMSDRIE', '07HDMSDRIE', '10HDMS'] Data objects: 7\n",
        "reslst:  ['04HDMSDRIE'] Data objects: 1\n",
        "reslst:  ['02HDMSDRIE'] Data objects: 1\n",
        "reslst: "
       ]
      },
      {
       "output_type": "stream",
       "stream": "stdout",
       "text": [
        " ['03HDMSDRIE'] Data objects: 1\n",
        "reslst:  ['01HDMSDRIE'] Data objects: 1\n",
        "reslst: "
       ]
      },
      {
       "output_type": "stream",
       "stream": "stdout",
       "text": [
        " ['01HDMSDRIE'] Data objects: 1\n",
        "['02HDMSDRIE', '03HDMSDRIE', '01HDMSDRIE', '04HDMSDRIE', '06HDMSDRIE', '07HDMSDRIE', '10HDMS']\n"
       ]
      }
     ],
     "prompt_number": 23
    },
    {
     "cell_type": "code",
     "collapsed": false,
     "input": [
      "determine_single_photon_powers(reslst_set5New)"
     ],
     "language": "python",
     "metadata": {},
     "outputs": [
      {
       "output_type": "stream",
       "stream": "stdout",
       "text": [
        "02HDMSDRIE freq: 3.087 GHz Single photon power: -106.9 dBm VNA power\n",
        "03HDMSDRIE freq: 4.090 GHz Single photon power: -104.9 dBm VNA power\n",
        "01HDMSDRIE freq: 2.067 GHz Couldn't find single photon power\n",
        "04HDMSDRIE freq: 5.118 GHz Single photon power: -97.7 dBm VNA power\n",
        "06HDMSDRIE freq: 6.107 GHz Single photon power: -90.7 dBm VNA power\n",
        "07HDMSDRIE freq: 7.131 GHz Single photon power: -86.7 dBm VNA power\n",
        "10HDMS freq: 8.097 GHz Single photon power: -81.2 dBm VNA power\n"
       ]
      },
      {
       "output_type": "stream",
       "stream": "stderr",
       "text": [
        "-c:3: RuntimeWarning: invalid value encountered in log10\n"
       ]
      }
     ],
     "prompt_number": 24
    },
    {
     "cell_type": "code",
     "collapsed": false,
     "input": [
      "plot_xy(reslst_set5New, xattr='n_photon',yattr='Qi',legend=[2],logplot=[True, True],ignore=[0])\n",
      "plt.show()"
     ],
     "language": "python",
     "metadata": {},
     "outputs": [],
     "prompt_number": 25
    },
    {
     "cell_type": "heading",
     "level": 2,
     "metadata": {},
     "source": [
      "Set 5"
     ]
    },
    {
     "cell_type": "markdown",
     "metadata": {},
     "source": [
      "This is the set5 without shielding"
     ]
    },
    {
     "cell_type": "code",
     "collapsed": false,
     "input": [
      "cal = set5_cal\n",
      "reslst_set5 = load_merge_data(r'\\\\TUD277449\\data\\set5_LaMaserati\\20141116\\7_set5_LaMaserati', cal)#All resonators"
     ],
     "language": "python",
     "metadata": {},
     "outputs": [
      {
       "output_type": "stream",
       "stream": "stdout",
       "text": [
        "reslst:  ['02HDMSDRIE', '03HDMSDRIE', '12HDMSRIE', '01HDMSDRIE', '04HDMSDRIE', '05HDMSDRIE2nd', '06HDMSDRIE', '07HDMSDRIE', '10HDMS'] Data objects: 9\n"
       ]
      }
     ],
     "prompt_number": 26
    },
    {
     "cell_type": "code",
     "collapsed": false,
     "input": [
      "plot_xy(reslst_set5, xattr='n_photon',yattr='Qi',legend=[2],logplot=[True, True],ignore=[], set='Set5 (No shielding)')\n",
      "plt.show()"
     ],
     "language": "python",
     "metadata": {},
     "outputs": [],
     "prompt_number": 27
    },
    {
     "cell_type": "heading",
     "level": 2,
     "metadata": {},
     "source": [
      "Set 5 Old"
     ]
    },
    {
     "cell_type": "markdown",
     "metadata": {},
     "source": [
      "This is the set5 that was measured in the previous cooldown in October"
     ]
    },
    {
     "cell_type": "code",
     "collapsed": false,
     "input": [
      "cal = set4_cal\n",
      "reslst_set5old = load_merge_data(r'\\\\TUD277449\\data\\Set5\\20141026\\7_Set5', cal)#First five resonators\n",
      "# del reslst_set5old['resnames'][5]\n",
      "# del reslst_set5old['resfreqs'][5]\n",
      "# del reslst_set5old['resdata'][5]\n",
      "#[del reslst_set5old['resdata'][5][key][0] for key in reslst_set5old['resdata'][5].keys()]"
     ],
     "language": "python",
     "metadata": {},
     "outputs": [
      {
       "output_type": "stream",
       "stream": "stdout",
       "text": [
        "reslst:  ['02HDMSDRIE', '03HDMSDRIE', '12HDMSRIE', '04HDMSDRIE', '05HDMSDRIE2nd', '11HDMSRIE', '06HDMSDRIE', '07HDMSDRIE', '10HDMS'] Data objects: 9\n"
       ]
      }
     ],
     "prompt_number": 56
    },
    {
     "cell_type": "code",
     "collapsed": false,
     "input": [
      "reslst1_ind=[0,1,2,4,5,6,7,8]\n",
      "reslst2_ind=[0,1,2,3,4,6,7,8]"
     ],
     "language": "python",
     "metadata": {},
     "outputs": [],
     "prompt_number": 57
    },
    {
     "cell_type": "code",
     "collapsed": false,
     "input": [
      "plot_xy(reslst_set5old, xattr='n_photon',yattr='Qi',legend=[4],logplot=[True, True],ignore=[7], set='Set5 Old')\n",
      "plt.xlim([1, 10**9])\n",
      "plt.ylim([10**5, 10**7])\n",
      "plt.show()"
     ],
     "language": "python",
     "metadata": {},
     "outputs": [],
     "prompt_number": 58
    },
    {
     "cell_type": "heading",
     "level": 2,
     "metadata": {},
     "source": [
      "Set 4"
     ]
    },
    {
     "cell_type": "heading",
     "level": 4,
     "metadata": {},
     "source": [
      "Data loading"
     ]
    },
    {
     "cell_type": "code",
     "collapsed": false,
     "input": [
      "cal = set4_cal\n",
      "# #Up to -74\n",
      "reslst_set4 = load_merge_data(r'D:\\qtlab\\data\\HDMS_Set4_ANISO\\20141124\\4_set4_LaMaserati', cal)\n",
      "reslst_set4 = load_merge_data(r'D:\\qtlab\\data\\HDMS_Set4_ANISO\\20141126\\2_set4_LaMaserati', cal, reslst_set4)\n",
      "#-80 ,-90, -100\n",
      "reslst_set4 = load_merge_data(r'D:\\qtlab\\data\\HDMS_Set4_ANISO\\20141127\\2_set4_LaMaserati', cal, reslst_set4)\n",
      "reslst_set4 = load_merge_data(r'D:\\qtlab\\data\\HDMS_Set4_ANISO\\20141127\\26_set4_LaMaserati', cal, reslst_set4)\n",
      "#Remove -100 power from res06 due to sub-single photon level\n",
      "for attr, val in reslst_set4['resdata'][4].items():\n",
      "    val.pop(0)\n",
      "#-110 for 02HMDSDRIE and 04HDMSDRIE\n",
      "reslst_set4 = load_merge_data(r'D:\\qtlab\\data\\HDMS_Set4_ANISO\\20141128\\02HDMSDRIE', cal, reslst_set4)\n",
      "reslst_set4 = load_merge_data(r'D:\\qtlab\\data\\HDMS_Set4_ANISO\\20141128\\04HDMSDRIE', cal, reslst_set4)\n",
      "\n",
      "\n",
      "#Until -74 for 17HMDSDRIEOPT\n",
      "reslst_set4 = load_merge_data(r'D:\\qtlab\\data\\HDMS_Set4_ANISO\\20141128\\17HMDSDRIEOPT', cal, reslst_set4)\n",
      "\n",
      "# #reslst_set4 = load_merge_data(r'D:\\qtlab\\data\\HDMS_Set4_ANISO\\20141129\\set4_LaMaserati', cal, reslst_set4) #uneven power\n",
      "# #reslst_set4 = load_merge_data(r'D:\\qtlab\\data\\HDMS_Set4_ANISO\\20141129\\2_03HDMSDRIE', cal, reslst_set4) #uneven power\n",
      "# #reslst_set4 = load_merge_data(r'D:\\qtlab\\data\\HDMS_Set4_ANISO\\20141129\\17HMDSDRIEOPT', cal, reslst_set4) #Uneven power \n",
      "\n",
      "#Missin parts for 10HDMSDRIE2nd\n",
      "reslst_set4 = load_merge_data(r'D:\\qtlab\\data\\HDMS_Set4_ANISO\\20141129\\10HDMSDRIE2nd', cal, reslst_set4)\n",
      "\n",
      "# -110 for 03HDMSDRIE\n",
      "reslst_set4 = load_merge_data(r'D:\\qtlab\\data\\HDMS_Set4_ANISO\\20141129\\03HDMSDRIE', cal, reslst_set4)\n",
      "\n",
      "#-94\n",
      "reslst_set4 = load_merge_data(r'D:\\qtlab\\data\\HDMS_Set4_ANISO\\20141202\\10HDMSDRIE2nd', cal, reslst_set4)\n",
      "\n",
      "#Monday measurements\n",
      "#-84, -94 for four qubits\n",
      "reslst_set4 = load_merge_data(r'D:\\qtlab\\data\\HDMS_Set4_ANISO\\20141201\\set4_LaMaserati', cal, reslst_set4)\n",
      "\n",
      "#-76\n",
      "reslst_set4 = load_merge_data(r'D:\\qtlab\\data\\HDMS_Set4_ANISO\\20141202\\05HDMSDRIE', cal, reslst_set4)\n",
      "\n",
      "#-104\n",
      "reslst_set4 = load_merge_data(r'D:\\qtlab\\data\\HDMS_Set4_ANISO\\20141202\\04HDMSDRIE', cal, reslst_set4)\n",
      "\n",
      "\n",
      "#-84, -94\n",
      "reslst_set4 = load_merge_data(r'D:\\qtlab\\data\\HDMS_Set4_ANISO\\20141203\\17HMDSDRIEOPT', cal, reslst_set4)\n",
      "\n",
      "#-84\n",
      "reslst_set4 = load_merge_data(r'D:\\qtlab\\data\\HDMS_Set4_ANISO\\20141204\\06HDMSDRIE', cal, reslst_set4)\n",
      "\n",
      "#-80\n",
      "reslst_set4 = load_merge_data(r'D:\\qtlab\\data\\HDMS_Set4_ANISO\\20141205\\17HMDSDRIEOPT', cal, reslst_set4)\n",
      "\n",
      "\n",
      "#clear last datapoints 10HDMSDRIE2nd due to bad fitting\n",
      "for attr, val in reslst_set4['resdata'][6].items():\n",
      "    val.pop(0)"
     ],
     "language": "python",
     "metadata": {},
     "outputs": [
      {
       "output_type": "stream",
       "stream": "stdout",
       "text": [
        "reslst:  ['04HDMSDRIE', '05HDMSDRIE', '02HDMSDRIE', '03HDMSDRIE'] Data objects: 4\n",
        "reslst: "
       ]
      },
      {
       "output_type": "stream",
       "stream": "stdout",
       "text": [
        " ['06HDMSDRIE', '10HDMSDRIE2nd'] Data objects: 2\n",
        "reslst:  ['02HDMSDRIE', '03HDMSDRIE'] Data objects: 2\n",
        "reslst: "
       ]
      },
      {
       "output_type": "stream",
       "stream": "stdout",
       "text": [
        " ['06HDMSDRIE', '10HDMSDRIE2nd', '04HDMSDRIE', '05HDMSDRIE'] Data objects: 4\n",
        "reslst:  ['02HDMSDRIE'] Data objects: 1\n",
        "reslst:  ['04HDMSDRIE'] Data objects: 1\n",
        "reslst: "
       ]
      },
      {
       "output_type": "stream",
       "stream": "stdout",
       "text": [
        " ['17HMDSDRIEOPT'] Data objects: 1\n",
        "reslst:  ['10HDMSDRIE2nd'] Data objects: 1\n",
        "reslst:  ['03HDMSDRIE'] Data objects: 1\n",
        "reslst:  ['10HDMSDRIE2nd'] Data objects: 1\n",
        "reslst: "
       ]
      },
      {
       "output_type": "stream",
       "stream": "stdout",
       "text": [
        " ['10HDMSDRIE2nd', '04HDMSDRIE', '05HDMSDRIE', '03HDMSDRIE'] Data objects: 4\n",
        "reslst:  ['05HDMSDRIE'] Data objects: 1\n",
        "reslst:  ['04HDMSDRIE'] Data objects: 1\n",
        "reslst:  ['17HMDSDRIEOPT'] Data objects: 1\n",
        "reslst:  ['06HDMSDRIE'] Data objects: 1\n",
        "reslst:  ['17HMDSDRIEOPT'] Data objects: 1\n"
       ]
      }
     ],
     "prompt_number": 23
    },
    {
     "cell_type": "code",
     "collapsed": false,
     "input": [
      "ind=0\n",
      "print reslst_set4['resnames'][ind]\n",
      "print reslst_set4['resfreqs'][ind]\n",
      "print reslst_set4['resdata'][ind]['power']\n",
      "print reslst_set4['resdata'][ind]['n_photon'][-11]\n",
      "print reslst_set4['resdata'][ind]['Qi'][-11]"
     ],
     "language": "python",
     "metadata": {},
     "outputs": [
      {
       "output_type": "stream",
       "stream": "stdout",
       "text": [
        "04HDMSDRIE\n",
        "3683242449.41\n",
        "[-110, -104, -100, -94, -90, -84, -80, -74, -72, -70, -68, -66, -64, -62, -60, -58, -56, -54, -52, -50, -48, -46, -44, -42, -40, -38, -36, -34, -32, -30]\n",
        "1296085.20611\n",
        "4756495.96422\n"
       ]
      }
     ],
     "prompt_number": 174
    },
    {
     "cell_type": "code",
     "collapsed": false,
     "input": [
      "freqsortlst = np.argsort(reslst_set4['resfreqs'])\n",
      "for ind in freqsortlst:\n",
      "    print '{}. name: {}:\\t f_res: {:4.3g} GHz'.format(ind, reslst_set4['resnames'][ind], reslst_set4['resfreqs'][ind]/1e9)"
     ],
     "language": "python",
     "metadata": {},
     "outputs": [
      {
       "output_type": "stream",
       "stream": "stdout",
       "text": [
        "2. name: 02HDMSDRIE:\t f_res: 1.83 GHz\n",
        "3. name: 03HDMSDRIE:\t f_res: 2.75 GHz\n",
        "0. name: 04HDMSDRIE:\t f_res: 3.68 GHz\n",
        "1. name: 05HDMSDRIE:\t f_res: 4.57 GHz\n",
        "5. name: 10HDMSDRIE2nd:\t f_res: 5.51 GHz\n",
        "4. name: 06HDMSDRIE:\t f_res: 6.41 GHz\n",
        "6. name: 17HMDSDRIEOPT:\t f_res: 9.17 GHz\n"
       ]
      }
     ],
     "prompt_number": 200
    },
    {
     "cell_type": "code",
     "collapsed": false,
     "input": [
      "determine_single_photon_powers(reslst_set4)"
     ],
     "language": "python",
     "metadata": {},
     "outputs": [
      {
       "output_type": "stream",
       "stream": "stdout",
       "text": [
        "04HDMSDRIE freq: 3.683 GHz Single photon power: -109.2 dBm VNA power\n",
        "05HDMSDRIE freq: 4.567 GHz Single photon power: -102.4 dBm VNA power\n",
        "02HDMSDRIE freq: 1.834 GHz Single photon power: -123.0 dBm VNA power\n",
        "03HDMSDRIE freq: 2.752 GHz Single photon power: -115.1 dBm VNA power\n",
        "06HDMSDRIE freq: 6.411 GHz Single photon power: -91.5 dBm VNA power\n",
        "10HDMSDRIE2nd freq: 5.506 GHz Single photon power: -99.8 dBm VNA power\n",
        "17HMDSDRIEOPT freq: 9.173 GHz Single photon power: -82.7 dBm VNA power\n"
       ]
      }
     ],
     "prompt_number": 60
    },
    {
     "cell_type": "code",
     "collapsed": false,
     "input": [
      "plot_xy(reslst_set4, xattr='n_photon',yattr='f0',legend=[4],logplot=[True, False],ignore=[0,2,3,4,5,6], set='Set4',legendname = True, yerr = 'errQi')\n",
      "f0 = reslst_set4['resdata'][3]['f0'][0]\n",
      "span = 3e3\n",
      "plt.ylim(f0-span, f0+span)"
     ],
     "language": "python",
     "metadata": {},
     "outputs": [
      {
       "metadata": {},
       "output_type": "pyout",
       "prompt_number": 157,
       "text": [
        "(2752460843.087097, 2752466843.087097)"
       ]
      }
     ],
     "prompt_number": 157
    },
    {
     "cell_type": "heading",
     "level": 3,
     "metadata": {},
     "source": [
      "Plotting"
     ]
    },
    {
     "cell_type": "heading",
     "level": 4,
     "metadata": {},
     "source": [
      "Single resonator"
     ]
    },
    {
     "cell_type": "code",
     "collapsed": false,
     "input": [
      "npdata = np.load(r'D:\\qtlab\\data\\HDMS_Set4_ANISO\\20141124\\4_set4_LaMaserati\\res03HDMSDRIE_pow-70.npz')\n",
      "freq = np.abs(npdata['arr_0'][:,0])\n",
      "data_real = npdata['arr_0'][:,1].real\n",
      "data_imag = npdata['arr_0'][:,2].real\n",
      "data = data_real + 1.j * data_imag\n",
      "fit = npdata['arr_0'][:,4]"
     ],
     "language": "python",
     "metadata": {},
     "outputs": [],
     "prompt_number": 124
    },
    {
     "cell_type": "code",
     "collapsed": false,
     "input": [
      "resonator = '03HDMSDRIE'\n",
      "power = -70\n",
      "index = reslst_set4['resnames'].index(resonator)\n",
      "power_index = reslst_set4['resdata'][index]['power'].index(power)\n",
      "f0 = reslst_set4['resdata'][index]['f0'][power_index] / 1e9\n",
      "f0_index = np.argmax(freq > f0)"
     ],
     "language": "python",
     "metadata": {},
     "outputs": [],
     "prompt_number": 125
    },
    {
     "cell_type": "code",
     "collapsed": false,
     "input": [
      "plt.figure('Resonator amplitude', figsize(6,4))\n",
      "plt.xlabel('frequency (GHz)')\n",
      "plt.ylabel('S21 (mV)')\n",
      "plt.gca().ticklabel_format(useOffset=False)\n",
      "plt.plot(freq, np.abs(data), label='data', linewidth = 2)\n",
      "plt.plot(freq, np.abs(fit), label='fit', c='Red')\n",
      "#plt.plot(f0, np.abs(data[f0_index]), 'o', ms=20)\n",
      "plt.legend(loc=4)\n",
      "plt.ylim(ymin=0)\n",
      "plt.tight_layout()\n",
      "plt.savefig(os.path.join(savefolder, 'resonator_amplitude.png'))"
     ],
     "language": "python",
     "metadata": {},
     "outputs": [],
     "prompt_number": 141
    },
    {
     "cell_type": "code",
     "collapsed": false,
     "input": [
      "plt.figure('Resonator complex', figsize(6,4))\n",
      "plt.xlabel('S21 (real)')\n",
      "plt.ylabel('S21 (imag)')\n",
      "plt.gca().ticklabel_format(useOffset=False)\n",
      "plt.plot(data.real, data.imag, label='data', linewidth = 2)\n",
      "plt.plot(fit.real, fit.imag, label='fit', c='Red', linewidth = 1.5)\n",
      "plt.plot(data[f0_index].real, data[f0_index].imag, 'o', ms=10,c='Green')\n",
      "\n",
      "plt.legend(loc=4)\n",
      "plt.ylim(ymin=0)\n",
      "plt.tight_layout()\n",
      "plt.savefig(os.path.join(savefolder, 'resonator_complex.png'))"
     ],
     "language": "python",
     "metadata": {},
     "outputs": [],
     "prompt_number": 165
    },
    {
     "cell_type": "heading",
     "level": 4,
     "metadata": {},
     "source": [
      "Power vs Qi"
     ]
    },
    {
     "cell_type": "code",
     "collapsed": false,
     "input": [
      "plot_xy(reslst_set4, xattr='power',yattr='Qi',legend=[2],logplot=[False, True],ignore=[4], set='Set4',legendname = True)#, yerr = 'errQi')\n",
      "plt.show()"
     ],
     "language": "python",
     "metadata": {},
     "outputs": [],
     "prompt_number": 62
    },
    {
     "cell_type": "heading",
     "level": 4,
     "metadata": {},
     "source": [
      "n_ph vs Qi (only relevant resonators)"
     ]
    },
    {
     "cell_type": "code",
     "collapsed": false,
     "input": [
      "\n",
      "plot_xy(reslst_set4, xattr='n_photon',yattr='Qi',legend=[2],logplot=[True, True],ignore=[0,4,6], set='Set4',legendname = False, yerr='errQi')#,legendname = True)\n",
      "plt.xlim((.2,10**7))\n",
      "plt.ylim(ymax=10**7)\n",
      "plt.title('')\n",
      "plt.xlabel(r'$\\langle \\mathit{n}_\\mathrm{ph} \\rangle$', labelpad = -2)"
     ],
     "language": "python",
     "metadata": {},
     "outputs": [
      {
       "metadata": {},
       "output_type": "pyout",
       "prompt_number": 90,
       "text": [
        "<matplotlib.text.Text at 0x24362748>"
       ]
      }
     ],
     "prompt_number": 90
    },
    {
     "cell_type": "code",
     "collapsed": false,
     "input": [
      "#Checking bump in 10HDMSDRIE2nd\n",
      "reslst_set4_retake = load_merge_data(r'D:\\qtlab\\data\\HDMS_Set4_ANISO\\20141203\\10HDMSDRIE2nd', cal)\n",
      "plot_xy(reslst_set4, xattr='power',yattr='Qi',legend=[4],logplot=[False, True],ignore=[], set='Set4',legendname = True)\n",
      "plt.plot(reslst_set4_retake['resdata'][0]['power'],reslst_set4_retake['resdata'][0]['Qi'])\n",
      "plt.show()"
     ],
     "language": "python",
     "metadata": {},
     "outputs": [
      {
       "output_type": "stream",
       "stream": "stdout",
       "text": [
        "reslst:  ['04HDMSDRIE'] Data objects: 1\n"
       ]
      }
     ],
     "prompt_number": 24
    },
    {
     "cell_type": "code",
     "collapsed": false,
     "input": [
      "#Checking bump in 10HDMSDRIE2nd\n",
      "reslst_set4_retake = load_merge_data(r'D:\\qtlab\\data\\HDMS_Set4_ANISO\\20141204\\04HDMSDRIE', cal)\n",
      "plot_xy(reslst_set4, xattr='power',yattr='Qi',legend=[4],logplot=[False, True],ignore=[], set='Set4',legendname = True)\n",
      "plt.plot(reslst_set4_retake['resdata'][0]['power'],reslst_set4_retake['resdata'][0]['Qi'])\n",
      "plt.show()"
     ],
     "language": "python",
     "metadata": {},
     "outputs": [
      {
       "output_type": "stream",
       "stream": "stdout",
       "text": [
        "reslst:  ['04HDMSDRIE'] Data objects: 1\n"
       ]
      }
     ],
     "prompt_number": 25
    },
    {
     "cell_type": "heading",
     "level": 2,
     "metadata": {},
     "source": [
      "Set4 noslope"
     ]
    },
    {
     "cell_type": "code",
     "collapsed": false,
     "input": [
      "cal = set4_cal\n",
      "#Using fits without slope\n",
      "set4_noslope_folder = r'D:\\qtlab\\data\\HDMS_Set4_ANISO\\pickledata_no_slope_fit'\n",
      "picklefiles = filter(lambda x: x[-7:] == '.pickle', os.listdir(set4_noslope_folder))\n",
      "reslst_set4_noslope = {}\n",
      "for picklefile in picklefiles:\n",
      "    reslst_set4_noslope = load_merge_data(set4_noslope_folder, cal, reslst_set4_noslope, filename = picklefile)"
     ],
     "language": "python",
     "metadata": {},
     "outputs": [
      {
       "output_type": "stream",
       "stream": "stdout",
       "text": [
        "reslst:  ['04HDMSDRIE', '05HDMSDRIE', '02HDMSDRIE', '03HDMSDRIE'] Data objects: 4\n",
        "reslst:  ['06HDMSDRIE', '10HDMSDRIE2nd'] Data objects: 2\n",
        "reslst:  ['06HDMSDRIE', '10HDMSDRIE2nd', '04HDMSDRIE', '05HDMSDRIE'] Data objects: 4\n",
        "reslst:  ['02HDMSDRIE', '03HDMSDRIE'] Data objects: 2\n",
        "reslst:  ['02HDMSDRIE'] Data objects: 1\n",
        "reslst:  ['04HDMSDRIE'] Data objects: 1\n",
        "reslst:  ['17HMDSDRIEOPT'] Data objects: 1\n",
        "reslst:  ['03HDMSDRIE'] Data objects: 1\n",
        "reslst:  ['10HDMSDRIE2nd'] Data objects: 1\n",
        "reslst:  ['10HDMSDRIE2nd', '04HDMSDRIE', '05HDMSDRIE', '03HDMSDRIE'] Data objects: 4\n",
        "reslst:  ['04HDMSDRIE'] Data objects: 1\n",
        "reslst:  ['05HDMSDRIE'] Data objects: 1\n",
        "reslst:  ['10HDMSDRIE2nd'] Data objects: 1\n",
        "reslst:  ['17HMDSDRIEOPT'] Data objects: 1\n",
        "reslst:  ['06HDMSDRIE'] Data objects: 1\n"
       ]
      }
     ],
     "prompt_number": 144
    },
    {
     "cell_type": "heading",
     "level": 3,
     "metadata": {},
     "source": [
      "Plotting"
     ]
    },
    {
     "cell_type": "heading",
     "level": 4,
     "metadata": {},
     "source": [
      "Power versus Qi"
     ]
    },
    {
     "cell_type": "code",
     "collapsed": false,
     "input": [
      "plot_xy(reslst_set4_noslope, xattr='power',yattr='Qi',legend=[2],logplot=[False, True],ignore=[4], set='Set4_noslope',legendname = True)#, yerr = 'errQi')\n",
      "plt.show()"
     ],
     "language": "python",
     "metadata": {},
     "outputs": [],
     "prompt_number": 75
    },
    {
     "cell_type": "heading",
     "level": 4,
     "metadata": {},
     "source": [
      "n_ph versus Qi"
     ]
    },
    {
     "cell_type": "code",
     "collapsed": false,
     "input": [
      "plot_xy(reslst_set4_noslope, xattr='n_photon',yattr='Qi',legend=[2],logplot=[True, True],ignore=[0,4,6], set='Set4_noslope',legendname = True)#, yerr = 'errQi')\n",
      "plt.xlim(xmax=10**7)\n",
      "plt.ylim(ymax=10**7)\n",
      "plt.show()"
     ],
     "language": "python",
     "metadata": {},
     "outputs": [],
     "prompt_number": 106
    },
    {
     "cell_type": "heading",
     "level": 4,
     "metadata": {},
     "source": [
      "Comparison slope and no slope"
     ]
    },
    {
     "cell_type": "code",
     "collapsed": false,
     "input": [
      "plot_xy(reslst_set4, xattr='n_photon',yattr='Qi',legend=[2],logplot=[True, True],ignore=[0,4,6], set='Set4',legendname = False, yerr='errQi')#,legendname = True)\n",
      "\n",
      "plt.gca().set_color_cycle(tableau20)#[colormap(i) for i in np.linspace(0, 0.9, len(reslst['resfreqs']))])\n",
      "plotlst = plot_add_resonators(reslst_set4_noslope, xattr='n_photon', yattr='Qi', ignore=[0,4,6], marker = '^-', yerr = 'errQi')\n",
      "plt.xlim((.2,10**7))\n",
      "plt.ylim(ymax=10**7)\n",
      "plt.title('')\n",
      "plt.xlabel(r'$\\langle \\mathit{n}_\\mathrm{ph} \\rangle$', labelpad = -2)"
     ],
     "language": "python",
     "metadata": {},
     "outputs": [
      {
       "metadata": {},
       "output_type": "pyout",
       "prompt_number": 145,
       "text": [
        "<matplotlib.text.Text at 0x2d1d86d8>"
       ]
      }
     ],
     "prompt_number": 145
    },
    {
     "cell_type": "code",
     "collapsed": false,
     "input": [
      "plot_xy(reslst_set4, xattr='power',yattr='Qi',legend=[2],logplot=[False, True],ignore=[0,4,6], set='Set4',legendname = False, yerr='errQi')#,legendname = True)\n",
      "\n",
      "plt.gca().set_color_cycle(tableau20)#[colormap(i) for i in np.linspace(0, 0.9, len(reslst['resfreqs']))])\n",
      "plotlst = plot_add_resonators(reslst_set4_noslope, xattr='power', yattr='Qi', ignore=[0,4,6], marker = '^-', yerr = 'errQi')\n",
      "# plt.xlim((.2,10**7))\n",
      "# plt.ylim(ymax=10**7)\n",
      "plt.title('')\n",
      "plt.xlabel(r'$\\langle \\mathit{n}_\\mathrm{ph} \\rangle$', labelpad = -2)"
     ],
     "language": "python",
     "metadata": {},
     "outputs": [
      {
       "metadata": {},
       "output_type": "pyout",
       "prompt_number": 143,
       "text": [
        "<matplotlib.text.Text at 0x2e3b00b8>"
       ]
      }
     ],
     "prompt_number": 143
    },
    {
     "cell_type": "heading",
     "level": 2,
     "metadata": {},
     "source": [
      "Comparison Set4 to old"
     ]
    },
    {
     "cell_type": "code",
     "collapsed": false,
     "input": [
      "set4old_data = pickle.load(open('D:\\qtlab\\data\\HDMS_Set4_ANISO\\Qiset4DRIE_LaVespa.pickle','r+'))"
     ],
     "language": "python",
     "metadata": {},
     "outputs": [],
     "prompt_number": 66
    },
    {
     "cell_type": "code",
     "collapsed": false,
     "input": [
      "pltnew = plot_xy(reslst_set4, xattr='n_photon',yattr='Qi',legend=[4],logplot=[True, True],ignore=[4,6], set='Set4',legendname = True)#, yerr = 'errQi')\n",
      "\n",
      "pltold=[]\n",
      "colormap = plt.cm.gist_ncar\n",
      "plt.gca().set_color_cycle([colormap(i) for i in np.linspace(0, 0.9, len(reslst_set4['resfreqs']))])\n",
      "sortedlst = np.argsort([elem['f0'] for elem in set4old_data.values()])\n",
      "for resind in sortedlst:\n",
      "    resname, resdata = set4old_data.items()[resind]\n",
      "    pltold.append(plt.plot(resdata['n'],resdata['Qi'],'v-',label = 'old %s: %.2f GHz' % (resname, resdata['f0']), ms=8))\n",
      "plt.ylim(ymax=2*10**7)\n",
      "plt.show()"
     ],
     "language": "python",
     "metadata": {},
     "outputs": []
    },
    {
     "cell_type": "heading",
     "level": 2,
     "metadata": {},
     "source": [
      "Comparison set4 15 mK to higher temperatures"
     ]
    },
    {
     "cell_type": "code",
     "collapsed": false,
     "input": [
      "set4_250mK = load_merge_data(r'D:\\qtlab\\data\\HDMS_Set4_ANISO\\20141209\\8_set4_LaMaserati', cal)\n",
      "set4_250mK = load_merge_data(r'D:\\qtlab\\data\\HDMS_Set4_ANISO\\20141209\\03HDMSDRIE', cal, set4_250mK)\n",
      "set4_250mK = load_merge_data(r'D:\\qtlab\\data\\HDMS_Set4_ANISO\\20141211\\6_03HDMSDRIE', cal, set4_250mK)\n",
      "\n",
      "set4_90mK = load_merge_data(r'D:\\qtlab\\data\\HDMS_Set4_ANISO\\20141210\\2_03HDMSDRIE', cal)\n",
      "set4_90mK = load_merge_data(r'D:\\qtlab\\data\\HDMS_Set4_ANISO\\20141211\\03HDMSDRIE', cal, set4_90mK)\n",
      "\n",
      "#set4_180mK = load_merge_data(r'D:\\qtlab\\data\\HDMS_Set4_ANISO\\20141214\\03HDMSDRIE', cal) #Longer run for lowest power\n",
      "#set4_180mK['resdata'][0]['Qi'][0] =3.79*10**6\n",
      "set4_180mK = load_merge_data(r'D:\\qtlab\\data\\HDMS_Set4_ANISO\\20141212\\3_03HDMSDRIE', cal)\n",
      "\n",
      "\n",
      "set4_325mK = load_merge_data(r'D:\\qtlab\\data\\HDMS_Set4_ANISO\\20141212\\4_03HDMSDRIE', cal)\n",
      "set4_400mK = load_merge_data(r'D:\\qtlab\\data\\HDMS_Set4_ANISO\\20141212\\5_03HDMSDRIE', cal)\n",
      "set4_135mK = load_merge_data(r'D:\\qtlab\\data\\HDMS_Set4_ANISO\\20141213\\03HDMSDRIE', cal)"
     ],
     "language": "python",
     "metadata": {},
     "outputs": [
      {
       "output_type": "stream",
       "stream": "stdout",
       "text": [
        "reslst:  ['02HDMSDRIE', '03HDMSDRIE'] Data objects: 2\n",
        "reslst:  ['03HDMSDRIE'] Data objects: 1\n",
        "reslst:  ['03HDMSDRIE'] Data objects: 1\n",
        "reslst: "
       ]
      },
      {
       "output_type": "stream",
       "stream": "stdout",
       "text": [
        " ['03HDMSDRIE'] Data objects: 1\n",
        "reslst:  ['03HDMSDRIE'] Data objects: 1\n",
        "reslst: "
       ]
      },
      {
       "output_type": "stream",
       "stream": "stdout",
       "text": [
        " ['03HDMSDRIE'] Data objects: 1\n",
        "reslst: "
       ]
      },
      {
       "output_type": "stream",
       "stream": "stdout",
       "text": [
        " ['03HDMSDRIE'] Data objects: 1\n",
        "reslst:  ['03HDMSDRIE'] Data objects: 1\n",
        "reslst: "
       ]
      },
      {
       "output_type": "stream",
       "stream": "stdout",
       "text": [
        " ['03HDMSDRIE'] Data objects: 1\n"
       ]
      }
     ],
     "prompt_number": 146
    },
    {
     "cell_type": "heading",
     "level": 4,
     "metadata": {},
     "source": [
      "Resonator 2 (2.75 GHz)"
     ]
    },
    {
     "cell_type": "code",
     "collapsed": false,
     "input": [
      "plot15mK = plot_xy(reslst_set4, xattr='n_photon',yattr='Qi',legend=[4],logplot=[True, True],ignore=[0,2,3,4,5,6], set='Set4',legendname = True, yerr = 'errQi')\n",
      "# colormap = plt.cm.gist_ncar\n",
      "# plt.gca().set_color_cycle([colormap(i) for i in np.linspace(0, 0.9, len(reslst_set4['resfreqs']))])\n",
      "\n",
      "plot90mK = plot_add_resonators(set4_90mK, xattr='n_photon',yattr='Qi',ignore=[], legendname = True,marker='o-', yerr = 'errQi')\n",
      "plot135mK = plot_add_resonators(set4_135mK, xattr='n_photon',yattr='Qi',ignore=[], legendname = True,marker='o-', yerr = 'errQi')\n",
      "\n",
      "plot180mK = plot_add_resonators(set4_180mK, xattr='n_photon',yattr='Qi',ignore=[], legendname = True,marker='o-', yerr = 'errQi')\n",
      "plot250mK = plot_add_resonators(set4_250mK, xattr='n_photon',yattr='Qi',ignore=[0], legendname = True,marker='o-', yerr = 'errQi')\n",
      "plot325mK = plot_add_resonators(set4_325mK, xattr='n_photon',yattr='Qi',ignore=[], legendname = True,marker='o-', yerr = 'errQi')\n",
      "plot400mK = plot_add_resonators(set4_400mK, xattr='n_photon',yattr='Qi',ignore=[], legendname = True,marker='o-', yerr = 'errQi')\n",
      "print [plot15mK, plot90mK, plot180mK, plot250mK,plot325mK]\n",
      "plots = [plot15mK[0],\n",
      "         plot90mK[0],\n",
      "         plot135mK[0],\n",
      "         plot180mK[0],\n",
      "         plot250mK[0],\n",
      "         plot325mK[0],\n",
      "        plot400mK[0]]\n",
      "pltold = []\n",
      "plt.legend(plots,['15 mK','90 mK','135 mK','180 mK','250 mK','325mK','400mK'], loc=4,fontsize = 'small', numpoints= 1)\n",
      "plt.ylim(ymax=1.3*10**7)\n",
      "plt.title('')#Comparison set4 15 mK (dot) versus 250mK (triangle)')\n",
      "plt.show()"
     ],
     "language": "python",
     "metadata": {},
     "outputs": [
      {
       "output_type": "stream",
       "stream": "stdout",
       "text": [
        "[[<Container object of 3 artists>], [<Container object of 3 artists>], [<Container object of 3 artists>], [<Container object of 3 artists>], [<Container object of 3 artists>]]\n"
       ]
      }
     ],
     "prompt_number": 147
    },
    {
     "cell_type": "heading",
     "level": 4,
     "metadata": {},
     "source": [
      "Lowest power f0 vs T"
     ]
    },
    {
     "cell_type": "code",
     "collapsed": false,
     "input": [
      "plt.figure('f0_vs_T')\n",
      "plt.clf()\n",
      "\n",
      "indices = [3,0,0,0,1,0,0]\n",
      "temperatures = [15,90,135,180,250,325,400]\n",
      "reslsts = [reslst_set4,set4_90mK, set4_135mK, set4_180mK, set4_250mK, set4_325mK, set4_400mK]\n",
      "f0 = np.zeros((len(indices),2))\n",
      "f0[:,0] = temperatures\n",
      "f0[:,1] = [reslsts[k]['resdata'][ind]['f0'][2] for k, ind in enumerate(indices)]\n",
      "f0_15mK = f0[0,1]\n",
      "f0[:,1] -= f0_15mK\n",
      "f0[:,1] /= f0_15mK\n",
      "plt.plot(f0[:,0],f0[:,1])\n",
      "plt.xlabel('Temperature (mK)')\n",
      "plt.ylabel(r'$\\Delta f / f$' )\n",
      "plt.ticklabel_format(style='sci', axis='y', scilimits=(0,0))\n",
      "ax = plt.gca()\n",
      "ax.ticklabel_format(useOffset=False)"
     ],
     "language": "python",
     "metadata": {},
     "outputs": [],
     "prompt_number": 148
    },
    {
     "cell_type": "heading",
     "level": 4,
     "metadata": {},
     "source": [
      "Resonator 1 (1.83 GHz)"
     ]
    },
    {
     "cell_type": "code",
     "collapsed": false,
     "input": [
      "plot15mK = plot_xy(reslst_set4, xattr='n_photon',yattr='Qi',legend=[4],logplot=[True, True],ignore=[1,2,3,4,5,6], set='Set4',legendname = True, yerr = 'errQi')\n",
      "# colormap = plt.cm.gist_ncar\n",
      "# plt.gca().set_color_cycle([colormap(i) for i in np.linspace(0, 0.9, len(reslst_set4['resfreqs']))])\n",
      "plot250mK = plot_add_resonators(set4_250mK, xattr='n_photon',yattr='Qi',ignore=[1], legendname = True,marker='o-')\n",
      "plot90mK = plt.plot(range(10),range(10**8,10**8+10),'o-',ms=8)\n",
      "plot180mK = plt.plot(range(10),range(10**8,10**8+10),'o-',ms=8)\n",
      "print [plot15mK, plot90mK, plot180mK, plot250mK]\n",
      "plots = [plot15mK[0],\n",
      "         plot90mK[0]\n",
      "         ,plot180mK[0],\n",
      "         plot250mK[0]]\n",
      "pltold = []\n",
      "plt.legend(plots,['15 mK','90 mK','180 mK','250 mK'], loc=4,fontsize = 'medium',prop={'size':16})\n",
      "# for resind in [sortedlst[1]]:\n",
      "#     resname, resdata = set4old_data.items()[resind]\n",
      "#     pltold.append(plt.plot(resdata['n'],resdata['Qi'],'s-',label = 'old %s: %.2f GHz' % (resname, resdata['f0']), ms=8))\n",
      "plt.ylim(ymax=1.3*10**7)\n",
      "plt.title('')#Comparison set4 15 mK (dot) versus 250mK (triangle)')\n",
      "plt.show()"
     ],
     "language": "python",
     "metadata": {},
     "outputs": [
      {
       "output_type": "stream",
       "stream": "stdout",
       "text": [
        "[[<matplotlib.lines.Line2D object at 0x0000000016CA7F28>], [<matplotlib.lines.Line2D object at 0x00000000168AE9E8>], [<matplotlib.lines.Line2D object at 0x0000000016CCC128>], [<matplotlib.lines.Line2D object at 0x0000000016CC1B38>]]\n"
       ]
      }
     ],
     "prompt_number": 30
    },
    {
     "cell_type": "heading",
     "level": 2,
     "metadata": {},
     "source": [
      "Comparison 05HDMSDRIE Set4  to newest data"
     ]
    },
    {
     "cell_type": "code",
     "collapsed": false,
     "input": [
      "set4_05HDMSDRIE_new = load_merge_data(r'D:\\qtlab\\data\\HDMS_Set4_ANISO\\20141221\\5_set4_LaMaserati', cal)\n",
      "set4_05HDMSDRIE_new = load_merge_data(r'D:\\qtlab\\data\\HDMS_Set4_ANISO\\20141221\\6_set4_LaMaserati', cal, set4_05HDMSDRIE_new)\n",
      "set4_05HDMSDRIE_newcheck = load_merge_data(r'D:\\qtlab\\data\\HDMS_Set4_ANISO\\20141222\\05HDMSDRIE', cal)"
     ],
     "language": "python",
     "metadata": {},
     "outputs": [
      {
       "output_type": "stream",
       "stream": "stdout",
       "text": [
        "reslst:  ['05HDMSDRIE'] Data objects: 1\n",
        "reslst:  ['05HDMSDRIE'] Data objects: 1\n",
        "reslst: "
       ]
      },
      {
       "output_type": "stream",
       "stream": "stdout",
       "text": [
        " ['05HDMSDRIE'] Data objects: 1\n"
       ]
      }
     ],
     "prompt_number": 116
    },
    {
     "cell_type": "code",
     "collapsed": false,
     "input": [
      "plt.clf()\n",
      "plot_xy(reslst_set4, xattr='n_photon', yattr='Qi', logplot=[True, True], ignore=[0,1,2,4,5,6])\n",
      "plot_add_resonators(set4_05HDMSDRIE_new, xattr='n_photon', yattr='Qi')\n",
      "plot_add_resonators(set4_05HDMSDRIE_newcheck, xattr='n_photon', yattr='Qi')\n",
      "plt.legend(['old data', 'new data', 'new data 2nd run'])\n",
      "plt.xlabel('Photon number')\n",
      "plt.ylabel('Internal quality factor')"
     ],
     "language": "python",
     "metadata": {},
     "outputs": [
      {
       "metadata": {},
       "output_type": "pyout",
       "prompt_number": 117,
       "text": [
        "<matplotlib.text.Text at 0x166b8f98>"
       ]
      }
     ],
     "prompt_number": 117
    },
    {
     "cell_type": "heading",
     "level": 2,
     "metadata": {},
     "source": [
      "Comparison 04HDMSDRIE Set4 to newest data"
     ]
    },
    {
     "cell_type": "code",
     "collapsed": false,
     "input": [
      "set4_04HDMSDRIE_new = load_merge_data(r'D:\\qtlab\\data\\HDMS_Set4_ANISO\\20141222\\11_set4_LaMaserati', cal)\n",
      "plt.clf()\n",
      "plot_xy(reslst_set4, xattr='n_photon', yattr='Qi', logplot=[True, True], ignore=[0,1,3,4,5,6])\n",
      "plot_add_resonators(set4_04HDMSDRIE_new, xattr='n_photon', yattr='Qi')\n",
      "plt.legend(['old data', 'new data'],loc=4)\n",
      "plt.title(r'04HDMSDRIE $f_{res} = 3.68$ GHz')\n",
      "plt.xlabel('Photon number')\n",
      "plt.ylabel('Internal quality factor')"
     ],
     "language": "python",
     "metadata": {},
     "outputs": [
      {
       "output_type": "stream",
       "stream": "stdout",
       "text": [
        "reslst:  ['04HDMSDRIE'] Data objects: 1\n"
       ]
      },
      {
       "metadata": {},
       "output_type": "pyout",
       "prompt_number": 166,
       "text": [
        "<matplotlib.text.Text at 0x21a2e898>"
       ]
      }
     ],
     "prompt_number": 166
    },
    {
     "cell_type": "code",
     "collapsed": false,
     "input": [
      "plot_xy(reslst_set4, xattr='power', yattr='Qi', logplot=[False, True], ignore=[0,1,3,4,5,6])\n",
      "plot_add_resonators(set4_04HDMSDRIE_new, xattr='power', yattr='Qi')"
     ],
     "language": "python",
     "metadata": {},
     "outputs": [
      {
       "metadata": {},
       "output_type": "pyout",
       "prompt_number": 129,
       "text": [
        "[<matplotlib.lines.Line2D at 0x20baf7f0>]"
       ]
      }
     ],
     "prompt_number": 129
    },
    {
     "cell_type": "heading",
     "level": 2,
     "metadata": {},
     "source": [
      "Comparison Set 5"
     ]
    },
    {
     "cell_type": "code",
     "collapsed": false,
     "input": [
      "reslst1 = reslst_set5\n",
      "reslst1_name = 'set5'\n",
      "reslst2 = reslst_set5old\n",
      "reslst2_name = 'Set5 old'\n",
      "\n",
      "figurename = 'Comparison_%s_%s'%(reslst1_name, reslst2_name)\n",
      "title = r'Comparison $\\mathrm{Q_i}$ %s vs %s' % (reslst1_name, reslst2_name)\n",
      "xattr = 'n_photon'\n",
      "yattr = 'Qi'\n",
      "logplot = [True, True]\n",
      "legendpos=[3,4,1]\n",
      "ignore = [0]\n",
      "\n",
      "#Find the resonators that are common\n",
      "common_names=[]\n",
      "reslst1_ind = []\n",
      "reslst2_ind = []\n",
      "for resname in reslst1['resnames']:\n",
      "    if resname in reslst2['resnames']:\n",
      "        common_names.append(resname)\n",
      "        reslst1_ind.append(reslst1['resnames'].index(resname))\n",
      "        reslst2_ind.append(reslst2['resnames'].index(resname))\n",
      "\n",
      "reslst1_ind=[0,1,2,4,5,6,7,8]\n",
      "reslst2_ind=[0,1,2,3,4,6,7,8]\n",
      "#Create initial settings for plot\n",
      "plt.figure(figurename, figsize=(10,7))\n",
      "plt.clf()\n",
      "plt.title(title)\n",
      "colormap = plt.cm.gist_ncar\n",
      "\n",
      "#Plot resonator lists\n",
      "plt.gca().set_color_cycle([colormap(i) for i in np.linspace(0, 0.9, len(common_names))])\n",
      "plt_reslst1 = plot_add_resonators(reslst1, xattr = xattr, yattr = yattr, include = reslst1_ind,marker = 'v-', ignore = ignore)\n",
      "freqs_legend_reslst1 = plt.legend(loc=legendpos[0], fontsize = 'small',prop={'size':10},title = reslst1_name)\n",
      "plt.gca().set_color_cycle([colormap(i) for i in np.linspace(0, 0.9, len(common_names))])\n",
      "ax = plt.gca().add_artist(freqs_legend_reslst1)\n",
      "\n",
      "plt_reslst2 = plot_add_resonators(reslst2, xattr = xattr, yattr = yattr,  include = reslst2_ind, ignore = ignore)\n",
      "plotlabels_reslst2 = [plotelem._label for plotelem in plt_reslst2]\n",
      "freqs_legend_reslst2 = plt.legend(plt_reslst2, plotlabels_reslst2, loc=legendpos[1], fontsize = 'small',prop={'size':10}, title =reslst2_name)\n",
      "ax = plt.gca().add_artist(freqs_legend_reslst2)\n",
      "\n",
      "#plt.legend([plt_reslst1[-1], plt_reslst2[-1]],['Set5New', 'Set5'], loc=legendpos[2],fontsize = 'medium',prop={'size':10})\n",
      "\n",
      "xlabel, ylabel = [labeldict[attr] if attr in labeldict else attr for attr in xattr, yattr]\n",
      "plt.xlabel(xlabel)\n",
      "plt.ylabel(ylabel)\n",
      "plt.gca().set_ylim(bottom=3e5)\n",
      "if logplot[0] == True: plt.xscale('log')\n",
      "if logplot[1] == True: plt.yscale('log')\n",
      "plt.xlim([1, 10**9])\n",
      "plt.ylim([10**5, 10**7])\n",
      "plt.tight_layout()\n",
      "plt.show()"
     ],
     "language": "python",
     "metadata": {},
     "outputs": [],
     "prompt_number": 77
    },
    {
     "cell_type": "heading",
     "level": 1,
     "metadata": {},
     "source": [
      "Tests"
     ]
    },
    {
     "cell_type": "code",
     "collapsed": false,
     "input": [
      "def check_resdata_equal_length(reslst):\n",
      "    #Check if all resonators have equal lengths for all elements in their resdata\n",
      "    for resdata in reslst['resdata']:\n",
      "        data_length=[]\n",
      "        for val in resdata.values():\n",
      "            data_length += [len(val)]\n",
      "        if not all(x==data_length[0] for x in data_length):\n",
      "            print 'Not all elements have equal length'"
     ],
     "language": "python",
     "metadata": {},
     "outputs": [],
     "prompt_number": 250
    },
    {
     "cell_type": "code",
     "collapsed": false,
     "input": [
      "check_resdata_equal_length(reslst)"
     ],
     "language": "python",
     "metadata": {},
     "outputs": [],
     "prompt_number": 251
    },
    {
     "cell_type": "code",
     "collapsed": false,
     "input": [
      "data=np.load(r'D:\\qtlab\\data\\HDMS_Set4_ANISO\\20141221\\3_set4_LaMaserati\\res05HDMSDRIE_pow-40.npz')"
     ],
     "language": "python",
     "metadata": {},
     "outputs": [],
     "prompt_number": 74
    },
    {
     "cell_type": "code",
     "collapsed": false,
     "input": [
      "np.shape(data['arr_0'])"
     ],
     "language": "python",
     "metadata": {},
     "outputs": [
      {
       "metadata": {},
       "output_type": "pyout",
       "prompt_number": 76,
       "text": [
        "(1001L, 5L)"
       ]
      }
     ],
     "prompt_number": 76
    },
    {
     "cell_type": "code",
     "collapsed": false,
     "input": [
      "import IPython"
     ],
     "language": "python",
     "metadata": {},
     "outputs": [],
     "prompt_number": 167
    },
    {
     "cell_type": "code",
     "collapsed": false,
     "input": [
      "IPython.ipapi.get()"
     ],
     "language": "python",
     "metadata": {},
     "outputs": [
      {
       "ename": "AttributeError",
       "evalue": "'module' object has no attribute 'ipapi'",
       "output_type": "pyerr",
       "traceback": [
        "\u001b[1;31m---------------------------------------------------------------------------\u001b[0m\n\u001b[1;31mAttributeError\u001b[0m                            Traceback (most recent call last)",
        "\u001b[1;32m<ipython-input-169-9d98835c67ac>\u001b[0m in \u001b[0;36m<module>\u001b[1;34m()\u001b[0m\n\u001b[1;32m----> 1\u001b[1;33m \u001b[0mIPython\u001b[0m\u001b[1;33m.\u001b[0m\u001b[0mipapi\u001b[0m\u001b[1;33m.\u001b[0m\u001b[0mget\u001b[0m\u001b[1;33m(\u001b[0m\u001b[1;33m)\u001b[0m\u001b[1;33m\u001b[0m\u001b[0m\n\u001b[0m",
        "\u001b[1;31mAttributeError\u001b[0m: 'module' object has no attribute 'ipapi'"
       ]
      }
     ],
     "prompt_number": 169
    },
    {
     "cell_type": "code",
     "collapsed": false,
     "input": [],
     "language": "python",
     "metadata": {},
     "outputs": []
    }
   ],
   "metadata": {}
  }
 ]
}