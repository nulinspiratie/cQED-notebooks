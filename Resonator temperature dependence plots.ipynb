{
 "metadata": {
  "name": "",
  "signature": "sha256:28f698c29aac5c41c1483b64480e0a61786c73ebdd990a1213152d4b968dab5d"
 },
 "nbformat": 3,
 "nbformat_minor": 0,
 "worksheets": [
  {
   "cells": [
    {
     "cell_type": "code",
     "collapsed": false,
     "input": [
      "import numpy as np\n",
      "from matplotlib import pyplot as plt\n",
      "from matplotlib import animation\n",
      "import os\n",
      "import h5py as h5\n",
      "import sys\n",
      "import cmath\n",
      "import lmfit\n",
      "import pickle\n",
      "\n",
      "sys.path.append('D:/qtlab/modules')\n",
      "sys.path.append('D:/qtlab/source')\n",
      "from utils import *\n",
      "%pylab"
     ],
     "language": "python",
     "metadata": {},
     "outputs": [
      {
       "output_type": "stream",
       "stream": "stdout",
       "text": [
        "Using matplotlib backend: GTKAgg\n",
        "Populating the interactive namespace from numpy and matplotlib\n"
       ]
      },
      {
       "output_type": "stream",
       "stream": "stderr",
       "text": [
        "WARNING: pylab import has clobbered these variables: ['allclose']\n",
        "`%matplotlib` prevents importing * from pylab and numpy\n"
       ]
      }
     ],
     "prompt_number": 1
    },
    {
     "cell_type": "code",
     "collapsed": false,
     "input": [
      "def smooth(x,window_len=11,window='hanning'):\n",
      "    if not window in ['flat', 'hanning', 'hamming', 'bartlett', 'blackman']:\n",
      "        raise ValueError, \"Window is on of 'flat', 'hanning', 'hamming', 'bartlett', 'blackman'\"\n",
      "\n",
      "\n",
      "    s=np.r_[x[window_len-1:0:-1],x,x[-1:-window_len:-1]]\n",
      "    #print(len(s))\n",
      "    if window == 'flat': #moving average\n",
      "        w=np.ones(window_len,'d')\n",
      "    else:\n",
      "        w=eval('np.'+window+'(window_len)')\n",
      "    w/w.sum()\n",
      "        \n",
      "    y=np.convolve(w/w.sum(),s,mode='valid')\n",
      "    edge = (window_len - 1) / 2\n",
      "    return y[edge:-edge]\n"
     ],
     "language": "python",
     "metadata": {},
     "outputs": [],
     "prompt_number": 2
    },
    {
     "cell_type": "heading",
     "level": 1,
     "metadata": {},
     "source": [
      "Loading data\n"
     ]
    },
    {
     "cell_type": "heading",
     "level": 2,
     "metadata": {},
     "source": [
      "Temperature decrease"
     ]
    },
    {
     "cell_type": "code",
     "collapsed": false,
     "input": [
      "path = r'D:\\qtlab\\data\\VNA_T_dependence\\data'\n",
      "if not os.path.exists(path):\n",
      "    path = r'C:\\PycQED\\data\\VNA_T_dependence\\data'\n",
      "    if not os.path.exists(path):\n",
      "        raise NameError('Cannot find data')\n",
      "filenames = os.listdir(path)\n",
      "for k, filename in enumerate(filenames):\n",
      "    if filename[:6] == '141527': #Point where power was changed to -60\n",
      "        break\n",
      "filenames = filenames[k:]\n",
      "filenames = filter(lambda x: x[-4:] == 'hdf5', filenames)\n",
      "\n",
      "filepath = os.path.join(path,filenames[k])\n",
      "data=h5.File(filepath,'r')\n",
      "freq = data['Experimental_Data']['Frequency'].value\n",
      "fmin = freq[0]\n",
      "fmax = freq[-1]\n",
      "\n",
      "Qi_lst_decrease = []\n",
      "f0_lst_decrease = []\n",
      "T_lst_decrease = []\n",
      "for k, filename in enumerate(filenames):\n",
      "    filepath = os.path.join(path,filename)\n",
      "    if os.path.exists(filepath):\n",
      "        data=h5.File(filepath,'r')\n",
      "    else:\n",
      "        raise NameError('Data file not found!')\n",
      "    freq = data['Experimental_Data']['Frequency'].value\n",
      "    S21 = data['Experimental_Data']['S21 (comp)'].value\n",
      "\n",
      "    fres = fit_S21_resonance_complex(freq,S21)\n",
      "    Qi = fres['fitparsobj']['Qi'].value\n",
      "    f0 = fres['fitparsobj']['f0'].value\n",
      "    if 'temperature' in data['Experimental_Data'].keys():\n",
      "        temperature = data['Experimental_Data']['temperature'].value\n",
      "        T_lst_decrease += [temperature]\n",
      "        Qi_lst_decrease += [Qi]\n",
      "        f0_lst_decrease += [f0]\n",
      "    \n",
      "    filedir = os.path.split(filepath)\n",
      "    picklefilepath = os.path.join(filedir[0], filename.split('.')[0] + '.pickle')\n",
      "    if not os.path.exists(picklefilepath):\n",
      "        fres.pop('fitparsobj',None)\n",
      "        pickle.dump(fres, open(picklefilepath, 'w'))\n",
      "for lst in [Qi_lst_decrease, f0_lst_decrease, T_lst_decrease]:\n",
      "    lst = np.array(lst) \n",
      "picklefilepath = os.path.join(filedir[0], 'data_decrease.pickle')\n",
      "if not os.path.exists(picklefilepath):\n",
      "    pickle.dump({'Qi_lst_decrease':Qi_lst_decrease, 'f0_lst_decrease':f0_lst_decrease, 'T_lst_decrease':T_lst_decrease}, open(picklefilepath, 'w'))"
     ],
     "language": "python",
     "metadata": {},
     "outputs": [],
     "prompt_number": 3
    },
    {
     "cell_type": "heading",
     "level": 2,
     "metadata": {},
     "source": [
      "Temperature increase"
     ]
    },
    {
     "cell_type": "code",
     "collapsed": false,
     "input": [
      "path = r'D:\\qtlab\\data\\VNA_T_dependence_increase\\data'\n",
      "if not os.path.exists(path):\n",
      "    path = r'C:\\PycQED\\data\\VNA_T_dependence_increase\\data'\n",
      "    if not os.path.exists(path):\n",
      "        raise NameError('Cannot find data')\n",
      "filenames = os.listdir(path)\n",
      "filenames = filenames[1:]\n",
      "filenames = filter(lambda x: x[-4:] == 'hdf5', filenames)\n",
      "filepath = os.path.join(path,filenames[0])\n",
      "\n",
      "data=h5.File(filepath,'r')\n",
      "freq = data['Experimental Data']['Frequency'].value\n",
      "S21 = data['Experimental Data']['S21 (comp)'].value\n",
      "fmin = freq[0]\n",
      "fmax = freq[-1]\n",
      "\n",
      "Qi_lst_increase = []\n",
      "f0_lst_increase = []\n",
      "T_lst_increase = []\n",
      "for k, filename in enumerate(filenames):\n",
      "    filepath = os.path.join(path,filename)\n",
      "    if os.path.exists(filepath):\n",
      "        data=h5.File(filepath,'r')\n",
      "    \n",
      "        if 'Experimental Data' in data.keys():\n",
      "            freq = data['Experimental Data']['Frequency'].value\n",
      "            S21 = data['Experimental Data']['S21 (comp)'].value\n",
      "\n",
      "            fres = fit_S21_resonance_complex(freq,S21)\n",
      "            Qi = fres['fitparsobj']['Qi'].value\n",
      "            f0 = fres['fitparsobj']['f0'].value\n",
      "            temperature = float(data['Instrument settings']['Fridge_Monitor'].attrs['T_MC'])\n",
      "            T_lst_increase += [temperature]\n",
      "            Qi_lst_increase += [Qi]\n",
      "            f0_lst_increase += [f0]\n",
      "            \n",
      "            filedir = os.path.split(filepath)\n",
      "            picklefilepath = os.path.join(filedir[0], filename.split('.')[0] + '.pickle')\n",
      "            if not os.path.exists(picklefilepath):\n",
      "                fres.pop('fitparsobj',None)\n",
      "                pickle.dump(fres, open(picklefilepath, 'w'))\n",
      "        else:\n",
      "            print \"No experimental data in\", filename    \n",
      "        data.close()\n",
      "    else:\n",
      "        raise NameError('Data file not found!')\n",
      "for lst in [Qi_lst_increase, f0_lst_increase, T_lst_increase]:\n",
      "    lst = np.array(lst) \n",
      "picklefilepath = os.path.join(filedir[0], 'data_increase.pickle')\n",
      "if not os.path.exists(picklefilepath):\n",
      "    pickle.dump({'Qi_lst_increase':Qi_lst_increase, 'f0_lst_increase':f0_lst_increase, 'T_lst_increase':T_lst_increase}, open(picklefilepath, 'w'))"
     ],
     "language": "python",
     "metadata": {},
     "outputs": [
      {
       "output_type": "stream",
       "stream": "stdout",
       "text": [
        "No experimental data in 007_163521_sweep_100_-60.hdf5\n",
        "No experimental data in"
       ]
      },
      {
       "output_type": "stream",
       "stream": "stdout",
       "text": [
        " 368_091028_sweep_100_-60.hdf5\n"
       ]
      }
     ],
     "prompt_number": 4
    },
    {
     "cell_type": "heading",
     "level": 1,
     "metadata": {},
     "source": [
      "Plotting"
     ]
    },
    {
     "cell_type": "markdown",
     "metadata": {},
     "source": [
      "One problem of the temperature data during warm-up is that the update interval was too low.  \n",
      "The result is that the temperature was updated only once every few measurements. this gives plots which are not smooth.  \n",
      "To alleviate this inconvenience, the temperature data is smoothed."
     ]
    },
    {
     "cell_type": "code",
     "collapsed": false,
     "input": [
      "plt.figure()\n",
      "plt.plot(T_lst_increase,label='raw')\n",
      "plt.plot(smooth(T_lst_increase),label='smooth')\n",
      "plt.legend()\n",
      "plt.show()"
     ],
     "language": "python",
     "metadata": {},
     "outputs": [],
     "prompt_number": 10
    },
    {
     "cell_type": "markdown",
     "metadata": {},
     "source": [
      "We can see below that for the cool-down it is not necessary to smoothe the data"
     ]
    },
    {
     "cell_type": "code",
     "collapsed": false,
     "input": [
      "plt.figure()\n",
      "plt.plot(T_lst_decrease,label='raw')\n",
      "plt.plot(smooth(T_lst_decrease),label='smooth')\n",
      "plt.legend()\n",
      "plt.show()"
     ],
     "language": "python",
     "metadata": {},
     "outputs": [],
     "prompt_number": 17
    },
    {
     "cell_type": "heading",
     "level": 2,
     "metadata": {},
     "source": [
      "quality factor"
     ]
    },
    {
     "cell_type": "heading",
     "level": 3,
     "metadata": {},
     "source": [
      "Cooldown"
     ]
    },
    {
     "cell_type": "markdown",
     "metadata": {},
     "source": [
      "We now plot the quality factor as a function of temperature for the cooldown.  \n",
      "We plot three different ranges:  \n",
      "The first plot is the full range, which includes the helium pumping cycle.  \n",
      "The second plot includes the steep drop in quality factor, but ignores the pumping.  \n",
      "The third plot is a close-up of the region at high quality factor"
     ]
    },
    {
     "cell_type": "code",
     "collapsed": false,
     "input": [
      "idx_decrease_drop = 450\n",
      "idx_decrease = 500"
     ],
     "language": "python",
     "metadata": {},
     "outputs": [],
     "prompt_number": 5
    },
    {
     "cell_type": "code",
     "collapsed": false,
     "input": [
      "plt.figure('Temperature decrease tracking - Qi vs T',figsize=(7,5))\n",
      "\n",
      "plt.plot(T_lst_decrease, Qi_lst_decrease, 'o-', ms=2)\n",
      "plt.plot(T_lst_decrease[idx_decrease_drop:], Qi_lst_decrease[idx_decrease_drop:], 'o-', ms=2)\n",
      "plt.plot(T_lst_decrease[idx_decrease:], Qi_lst_decrease[idx_decrease:], 'o-', ms=2)\n",
      "\n",
      "plt.gca().ticklabel_format(useOffset=False)\n",
      "plt.xlabel('temperature (mK)')\n",
      "plt.ylabel('internal quality factor')\n",
      "plt.title('Decreasing temperature tracking')\n",
      "\n",
      "plt.yscale('log')\n",
      "\n",
      "plt.tight_layout()\n",
      "plt.savefig(r'D:\\sasaad\\Three-month-evaluation\\Figures\\Temperature decrease tracking - Qi vs T.png')"
     ],
     "language": "python",
     "metadata": {},
     "outputs": [],
     "prompt_number": 99
    },
    {
     "cell_type": "heading",
     "level": 3,
     "metadata": {},
     "source": [
      "Warmup"
     ]
    },
    {
     "cell_type": "markdown",
     "metadata": {},
     "source": [
      "The same can be done for warmup"
     ]
    },
    {
     "cell_type": "code",
     "collapsed": false,
     "input": [
      "idx_increase_drop = -90\n",
      "idx_increase=-103"
     ],
     "language": "python",
     "metadata": {},
     "outputs": [],
     "prompt_number": 6
    },
    {
     "cell_type": "code",
     "collapsed": false,
     "input": [
      "plt.figure('Temperature Increase tracking - Qi vs T',figsize=(7,5))\n",
      "\n",
      "plt.plot(smooth(T_lst_increase), Qi_lst_increase, 'o-', ms=2)\n",
      "plt.plot(smooth(T_lst_increase)[:idx_increase_drop], Qi_lst_increase[:idx_increase_drop], 'o-', ms=2)\n",
      "plt.plot(smooth(T_lst_increase)[:idx_increase], Qi_lst_increase[:idx_increase], 'o-', ms=2)\n",
      "#plt.plot(smooth(T_lst_increase), Qi_lst, 'o-', ms=2)\n",
      "\n",
      "plt.gca().ticklabel_format(useOffset=False)\n",
      "plt.xlabel('temperature (mK)')\n",
      "plt.ylabel('internal quality factor')\n",
      "plt.title('Increase temperature tracking')\n",
      "\n",
      "plt.yscale('log')\n",
      "\n",
      "plt.tight_layout()\n",
      "plt.savefig(r'D:\\sasaad\\Three-month-evaluation\\Figures\\Temperature increase tracking - Qi vs T.png')"
     ],
     "language": "python",
     "metadata": {},
     "outputs": [],
     "prompt_number": 104
    },
    {
     "cell_type": "heading",
     "level": 3,
     "metadata": {},
     "source": [
      "Cooldown and warm-up"
     ]
    },
    {
     "cell_type": "markdown",
     "metadata": {},
     "source": [
      "We now plot the quality factor as a function of temperature for the cooldown and the warm-up  "
     ]
    },
    {
     "cell_type": "code",
     "collapsed": false,
     "input": [
      "plt.figure('Temperature tracking (drop) - Qi vs T',figsize=(6,4))\n",
      "\n",
      "plt.plot(T_lst_decrease[idx_decrease_drop:], Qi_lst_decrease[idx_decrease_drop:], 'o-', ms=3, label = 'cooldown')\n",
      "plt.plot(smooth(T_lst_increase)[:idx_increase_drop], Qi_lst_increase[:idx_increase_drop], 'o-', ms=3, label = 'warmup')\n",
      "\n",
      "plt.gca().ticklabel_format(useOffset=False)\n",
      "plt.xlabel('temperature (mK)')\n",
      "plt.ylabel('internal quality factor')\n",
      "#plt.title('Temperature tracking')\n",
      "\n",
      "#plt.yscale('log')\n",
      "plt.gca().ticklabel_format(axis='y',style='sci',scilimits=(1,4))\n",
      "\n",
      "plt.tight_layout()\n",
      "plt.legend(loc=3, numpoints= 1)\n",
      "plt.savefig(r'D:\\sasaad\\Three-month-evaluation\\Figures\\Temperature tracking drop - Qi vs T.png')"
     ],
     "language": "python",
     "metadata": {},
     "outputs": [],
     "prompt_number": 102
    },
    {
     "cell_type": "code",
     "collapsed": false,
     "input": [
      "plt.figure('Temperature tracking (no drop) - Qi vs T',figsize=(6,4))\n",
      "\n",
      "plt.plot(T_lst_decrease[idx_decrease:], Qi_lst_decrease[idx_decrease:], 'o-', ms=3, label = 'cooldown')\n",
      "plt.plot(smooth(T_lst_increase)[:idx_increase], Qi_lst_increase[:idx_increase], 'o-', ms=3, label = 'warmup')\n",
      "\n",
      "plt.gca().ticklabel_format(useOffset=False)\n",
      "plt.xlabel('temperature (mK)')\n",
      "plt.ylabel('internal quality factor')\n",
      "#plt.title('Temperature tracking')\n",
      "\n",
      "plt.ylim(ymin=6.5*10**6)\n",
      "#plt.yscale('log')\n",
      "plt.gca().ticklabel_format(axis='y',style='sci',scilimits=(1,4))\n",
      "\n",
      "plt.tight_layout()\n",
      "plt.legend(numpoints= 1)\n",
      "plt.savefig(r'D:\\sasaad\\Three-month-evaluation\\Figures\\Temperature tracking - no drop - Qi vs T.png')"
     ],
     "language": "python",
     "metadata": {},
     "outputs": [],
     "prompt_number": 105
    },
    {
     "cell_type": "heading",
     "level": 2,
     "metadata": {},
     "source": [
      "Center frequency"
     ]
    },
    {
     "cell_type": "markdown",
     "metadata": {},
     "source": [
      "We check again to make sure that the range is correct"
     ]
    },
    {
     "cell_type": "code",
     "collapsed": false,
     "input": [
      "plt.figure('Temperature decrease tracking - f0 vs T',figsize=(7,5))\n",
      "\n",
      "plt.plot(T_lst_decrease, f0_lst_decrease, 'o-', ms=2)\n",
      "plt.plot(T_lst_decrease[idx_decrease_drop:], f0_lst_decrease[idx_decrease_drop:], 'o-', ms=2)\n",
      "plt.plot(T_lst_decrease[idx_decrease:], f0_lst_decrease[idx_decrease:], 'o-', ms=2)\n",
      "\n",
      "plt.gca().ticklabel_format(useOffset=False)\n",
      "plt.xlabel('temperature (mK)')\n",
      "plt.ylabel('resonance frequency (GHz)')\n",
      "plt.title('Decreasing temperature tracking')\n",
      "\n",
      "plt.tight_layout()\n",
      "plt.savefig(r'D:\\sasaad\\Three-month-evaluation\\Figures\\Temperature decrease tracking - f0 vs T.png')"
     ],
     "language": "python",
     "metadata": {},
     "outputs": [],
     "prompt_number": 106
    },
    {
     "cell_type": "code",
     "collapsed": false,
     "input": [
      "plt.figure('Temperature Increase tracking - f0 vs T',figsize=(7,5))\n",
      "\n",
      "plt.plot(smooth(T_lst_increase), f0_lst_increase, 'o-', ms=2)\n",
      "plt.plot(smooth(T_lst_increase)[:idx_increase_drop], f0_lst_increase[:idx_increase_drop], 'o-', ms=2)\n",
      "plt.plot(smooth(T_lst_increase)[:idx_increase],f0_lst_increase[:idx_increase], 'o-', ms=2)\n",
      "#plt.plot(smooth(T_lst_increase), Qi_lst, 'o-', ms=2)\n",
      "\n",
      "plt.gca().ticklabel_format(useOffset=False)\n",
      "plt.xlabel('temperature (mK)')\n",
      "plt.ylabel('resonance frequency (GHz)')\n",
      "plt.title('Increasing temperature tracking')\n",
      "\n",
      "plt.tight_layout()\n",
      "plt.savefig(r'D:\\sasaad\\Three-month-evaluation\\Figures\\Temperature increase tracking - f0 vs T.png')"
     ],
     "language": "python",
     "metadata": {},
     "outputs": [],
     "prompt_number": 107
    },
    {
     "cell_type": "markdown",
     "metadata": {},
     "source": [
      "This seems good"
     ]
    },
    {
     "cell_type": "heading",
     "level": 3,
     "metadata": {},
     "source": [
      "Cooldown and warm-up"
     ]
    },
    {
     "cell_type": "code",
     "collapsed": false,
     "input": [
      "idx_increase_drop_f0 = -97"
     ],
     "language": "python",
     "metadata": {},
     "outputs": [],
     "prompt_number": 87
    },
    {
     "cell_type": "code",
     "collapsed": false,
     "input": [
      "plt.figure('Temperature tracking - f0 vs T',figsize=(7,5))\n",
      "\n",
      "plt.plot(T_lst_decrease[idx_decrease_drop:], f0_lst_decrease[idx_decrease_drop:], 'o-', ms=2, label='cooldown')\n",
      "plt.plot(smooth(T_lst_increase)[:idx_increase_drop_f0], f0_lst_increase[:idx_increase_drop_f0], 'o-', ms=2, label='warmup')\n",
      "#plt.plot(smooth(T_lst_increase), Qi_lst, 'o-', ms=2)\n",
      "\n",
      "plt.gca().ticklabel_format(useOffset=False)\n",
      "plt.xlabel('temperature (mK)')\n",
      "plt.ylabel('resonance frequency (GHz)')\n",
      "#plt.title('Temperature tracking')\n",
      "plt.legend()\n",
      "plt.tight_layout()\n",
      "plt.xlim(xmax=1100)\n",
      "plt.savefig(r'D:\\sasaad\\Three-month-evaluation\\Figures\\Temperature tracking - f0 vs T.png')"
     ],
     "language": "python",
     "metadata": {},
     "outputs": [],
     "prompt_number": 140
    },
    {
     "cell_type": "heading",
     "level": 4,
     "metadata": {},
     "source": [
      "Fractional frequency shift"
     ]
    },
    {
     "cell_type": "code",
     "collapsed": false,
     "input": [
      "f0_lst_decrease_fractional = (f0_lst_decrease - min(f0_lst_decrease[500:])) / min(f0_lst_decrease[500:])\n",
      "f0_lst_increase_fractional = (f0_lst_increase - min(f0_lst_increase[:240])) / min(f0_lst_increase[:240])"
     ],
     "language": "python",
     "metadata": {},
     "outputs": [],
     "prompt_number": 43
    },
    {
     "cell_type": "code",
     "collapsed": false,
     "input": [
      "plt.figure('Temperature tracking fractional - f0 vs T',figsize=(6,4))\n",
      "\n",
      "plt.plot(T_lst_decrease[idx_decrease_drop:], f0_lst_decrease_fractional[idx_decrease_drop:], 'o-', ms=2, label='cooldown')\n",
      "plt.plot(smooth(T_lst_increase)[:idx_increase_drop_f0], f0_lst_increase_fractional[:idx_increase_drop_f0], 'o-', ms=2, label='warmup')\n",
      "#plt.plot(smooth(T_lst_increase), Qi_lst, 'o-', ms=2)\n",
      "\n",
      "plt.gca().ticklabel_format(useOffset=False)\n",
      "plt.xlabel('temperature (mK)')\n",
      "plt.ylabel(r'relative frequency shift $\\Delta f / f$')\n",
      "#plt.title('Temperature tracking')\n",
      "plt.legend()\n",
      "plt.tight_layout()\n",
      "plt.xlim(xmax=1100)\n",
      "plt.savefig(r'D:\\sasaad\\Three-month-evaluation\\Figures\\Temperature tracking fractional - f0 vs T.png')"
     ],
     "language": "python",
     "metadata": {},
     "outputs": [],
     "prompt_number": 161
    },
    {
     "cell_type": "code",
     "collapsed": false,
     "input": [
      "plt.plot(T_lst_decrease[idx_decrease:], f0_lst_decrease_fractional[idx_decrease:], 'o-', ms=2, label='cooldown')"
     ],
     "language": "python",
     "metadata": {},
     "outputs": [
      {
       "metadata": {},
       "output_type": "pyout",
       "prompt_number": 45,
       "text": [
        "[<matplotlib.lines.Line2D at 0x39d37400>]"
       ]
      }
     ],
     "prompt_number": 45
    },
    {
     "cell_type": "heading",
     "level": 3,
     "metadata": {},
     "source": [
      "Fitting data to center frequency"
     ]
    },
    {
     "cell_type": "code",
     "collapsed": false,
     "input": [
      "from scipy.special import digamma\n",
      "from scipy.constants import k, hbar\n",
      "pi = np.pi"
     ],
     "language": "python",
     "metadata": {},
     "outputs": [],
     "prompt_number": 8
    },
    {
     "cell_type": "code",
     "collapsed": false,
     "input": [
      "def digamma_T(T, omega):\n",
      "    return digamma(1./2 + 1./(2.j*pi) * (hbar * omega) / (k * T))"
     ],
     "language": "python",
     "metadata": {},
     "outputs": [],
     "prompt_number": 9
    },
    {
     "cell_type": "markdown",
     "metadata": {},
     "source": [
      "The fractional df/f has two contributions:\n",
      "1. TLS (which shows a peak at the lowest temperatures)\n",
      "2. Quasiparticles"
     ]
    },
    {
     "cell_type": "markdown",
     "metadata": {},
     "source": [
      "$\\sigma_2$ seems to be different in all papers. Therefore I will compare them:  \n",
      "    \n",
      "$\\xi = \\frac{\\hbar \\omega}{k T}$\n",
      "    \n",
      "1. Gao ch.3  \n",
      "$\\sigma_2 = \\pi * \\Delta_0 / (\\hbar * \\omega) * (1 - \\sqrt{(2 * \\pi * k * T) / \\Delta_0} * \\exp{(-\\Delta_0 / (k * T))} - 2*\\exp{(-\\Delta_0 / (k * T))} * \\exp{(-\\xi)} * I0(\\xi))$\n",
      "\n",
      "\n",
      "\n",
      "\n",
      "2. Mazin Superconducting kinetic inductance photon detectors. To be more accurate use $\\Delta(T)$  \n",
      "$\\sigma_2 = \\frac{\\pi  \\Delta_0}{\\hbar  \\omega} * \\left[1 - \\exp{(-\\Delta_0/(kT))} * \\exp{(-\\xi)} * I0{(\\xi)}\\right]$"
     ]
    },
    {
     "cell_type": "code",
     "collapsed": false,
     "input": [
      "def delta(T,delta_0):\n",
      "    ''' From Gao PhD Thesis P 24'''\n",
      "    return delta_0 * exp(-sqrt((2*pi*k*T) / delta_0) * exp(-delta_0 / (k * T)))\n",
      "\n",
      "from scipy.special import iv\n",
      "\n",
      "def sigma_2(T, delta_0):\n",
      "    def I0(z):\n",
      "        return iv(0,z)\n",
      "    xi = (hbar * omega_0) / (2 * k * T)\n",
      "    \n",
      "    #Gao ch3\n",
      "#     return pi * delta_0 / (hbar * omega) * (1 - sqrt( (2 * pi * k * T) / delta_0) * exp(-delta_0 / (k * T)) - 2*exp(-delta_0 / (k * T)) * exp(-ksi) * I0(ksi))\n",
      "\n",
      "    #Barends p.39\n",
      "#     return pi * delta(T, delta_0) / (hbar * omega) * (1 - 2 * exp(-delta(T, delta_0) / (k * T)) * exp(-(hbar * omega) / (2*k * T)) * I0(ksi))\n",
      "\n",
      "    #Geerlings p.92\n",
      "#     d = delta(T, delta_0)\n",
      "#     return (pi * d) / (hbar*omega) * (1 - 2*exp(- d / (k*T))) * exp(-ksi)*I0(ksi)\n",
      "    #Mazin  Superconducting Kinetic Inductance Photon Detectors\n",
      "    return (pi * delta_0)/(hbar * omega_0) * (1 - exp(-delta_0/(k*T)) * exp(-xi) * I0(xi))\n",
      "#     return [(pi * delta_0)/(hbar * omega) * (1 - exp(-delta_0/(k*T)) * exp(-xi) * I0(xi)),\n",
      "#             (pi * delta_0)/(hbar * omega), exp(-delta_0/(k*T)), exp(-xi),  I0(xi)]\n",
      "\n",
      "def sigma_2_fractional(T, delta_0):\n",
      "    sigma_2_0 = sigma_2(T_0,delta_0)\n",
      "    return (sigma_2(T,delta_0) - sigma_2_0) / sigma_2_0\n",
      "    \n"
     ],
     "language": "python",
     "metadata": {},
     "outputs": [],
     "prompt_number": 14
    },
    {
     "cell_type": "code",
     "collapsed": false,
     "input": [
      "def f_fractional_TLS(T_mK, F_delta):\n",
      "    T = T_mK / 1000\n",
      "    return F_delta / pi * (digamma_T(T, omega_0).real - log((hbar * omega_0) / (k * T)))\n",
      "\n",
      "def f_fractional_inductance(T_mK, alpha, delta):\n",
      "    T = T_mK / 1000\n",
      "    ''' alpha is the kinetic inductance fraction Lk/(Lg + Lk)'''\n",
      "    return alpha / 2 * sigma_2_fractional(T, delta) # Barends 2008\n",
      "#     return alpha / 2 * ( Xs(T) - Xs(0) ) / ( Xs(0) ) #Gao PhD Thesis p.25\n",
      "\n",
      "def f_fractional(T_mK, F_delta, alpha, delta):\n",
      "    return f_fractional_TLS(T_mK, F_delta) +  f_fractional_inductance(T_mK, alpha, delta)"
     ],
     "language": "python",
     "metadata": {},
     "outputs": [],
     "prompt_number": 19
    },
    {
     "cell_type": "heading",
     "level": 3,
     "metadata": {},
     "source": [
      "Testing"
     ]
    },
    {
     "cell_type": "code",
     "collapsed": false,
     "input": [
      "omega = f0 * 2*pi * 1e9\n",
      "print hbar*omega\n",
      "print k*0.001"
     ],
     "language": "python",
     "metadata": {},
     "outputs": [
      {
       "output_type": "stream",
       "stream": "stdout",
       "text": [
        "1.82211143364e-24\n",
        "0.366\n"
       ]
      }
     ],
     "prompt_number": 8
    },
    {
     "cell_type": "code",
     "collapsed": false,
     "input": [
      "def I0(z):\n",
      "    return iv(0,z)\n",
      "arr = np.linspace(0.01, 1, 101)\n",
      "plt.loglog(arr,I0(arr))\n"
     ],
     "language": "python",
     "metadata": {},
     "outputs": [
      {
       "metadata": {},
       "output_type": "pyout",
       "prompt_number": 16,
       "text": [
        "[<matplotlib.lines.Line2D at 0x3a5bd828>]"
       ]
      }
     ],
     "prompt_number": 16
    },
    {
     "cell_type": "heading",
     "level": 3,
     "metadata": {},
     "source": [
      "Fitting function"
     ]
    },
    {
     "cell_type": "heading",
     "level": 4,
     "metadata": {},
     "source": [
      "Defining variables"
     ]
    },
    {
     "cell_type": "code",
     "collapsed": false,
     "input": [
      "T_0 = .001\n",
      "T_arr = np.linspace(T_0*1000, 1000, 101)\n",
      "omega_0 = f0 * 2 * pi * 1e9\n",
      "delta_0 = 12 * hbar*omega_0\n",
      "sigma_2_0 = sigma_2(T_0,delta_0)\n",
      "plt.plot(T_arr, sigma_2_fractional(T_arr/1000, delta_0))"
     ],
     "language": "python",
     "metadata": {},
     "outputs": [
      {
       "metadata": {},
       "output_type": "pyout",
       "prompt_number": 15,
       "text": [
        "[<matplotlib.lines.Line2D at 0x4058048>]"
       ]
      }
     ],
     "prompt_number": 15
    },
    {
     "cell_type": "code",
     "collapsed": false,
     "input": [
      "def residuals_f_fractional(pars, T_arr, data = data):\n",
      "    f_fractional_arr = f_fractional(T_arr, pars['F_delta'].value, pars['alpha'].value, pars['delta'].value)\n",
      "    f_fractional_arr += pars['df0']\n",
      "    return f_fractional_arr - data"
     ],
     "language": "python",
     "metadata": {},
     "outputs": [],
     "prompt_number": 16
    },
    {
     "cell_type": "code",
     "collapsed": false,
     "input": [
      "idx_decrease_fit = 450\n",
      "# omega = f0_lst_decrease[-1] * 2*pi * 1e9\n",
      "T_arr = np.array(smooth(T_lst_decrease)[idx_decrease_fit:])\n",
      "f0 = f0_lst_decrease[idx_decrease_fit]\n",
      "f0_fractional = (f0_lst_decrease - f0) / f0\n",
      "data = np.array(f0_fractional[idx_decrease_fit:])"
     ],
     "language": "python",
     "metadata": {},
     "outputs": [],
     "prompt_number": 17
    },
    {
     "cell_type": "code",
     "collapsed": false,
     "input": [
      "fit_params = lmfit.Parameters()\n",
      "\n",
      "fit_params.add('df0', value=.3e-6)\n",
      "fit_params.add('F_delta', value=.04e-6)\n",
      "fit_params.add('alpha', value=1.e-5)\n",
      "fit_params.add('delta', value=10* hbar*omega_0)\n",
      "\n",
      "args = tuple(map(lambda key: fit_params[key].value, fit_params.keys()[1:]))\n",
      "init_fit = f_fractional(T_arr, *args)\n",
      "fit = lmfit.minimize(residuals_f_fractional, fit_params, args = (T_arr, ), kws={'data':data})#, iter_cb = plt.plot(T_arr, f_fractional(T_arr, fit_params['F_delta'].value)))\n",
      "args = tuple(map(lambda key: fit_params[key].value, fit_params.keys()[1:]))\n",
      "best_fit = f_fractional(T_arr, *args)"
     ],
     "language": "python",
     "metadata": {},
     "outputs": [],
     "prompt_number": 20
    },
    {
     "cell_type": "code",
     "collapsed": false,
     "input": [
      "plt.figure('fit', figsize=(7,5))\n",
      "plt.clf()\n",
      "plt.plot(T_arr, data - fit_params['df0'], 'o', label = 'data')\n",
      "plt.plot(T_arr, f_fractional_TLS(T_arr, fit_params['F_delta']), '-', label = 'TLS', linewidth=2)\n",
      "plt.plot(T_arr, f_fractional_inductance(T_arr, fit_params['alpha'], fit_params['delta']), '-', label = 'inductance', linewidth=2)\n",
      "ylim = plt.ylim()\n",
      "plt.plot(T_arr, f_fractional_inductance(T_arr, .16, fit_params['delta']), '-', label = 'inductance', linewidth=2)\n",
      "plt.plot(T_arr, best_fit, '-', label = 'fit', linewidth=2)\n",
      "\n",
      "plt.xlabel('Temperature (mK)')\n",
      "plt.ylabel(r'Frequency shift $\\Delta f / f_0$')\n",
      "plt.ylim(ylim)\n",
      "plt.tight_layout()\n",
      "plt.legend(loc=4)"
     ],
     "language": "python",
     "metadata": {},
     "outputs": [
      {
       "metadata": {},
       "output_type": "pyout",
       "prompt_number": 25,
       "text": [
        "<matplotlib.legend.Legend at 0x3a714ac8>"
       ]
      }
     ],
     "prompt_number": 25
    },
    {
     "cell_type": "code",
     "collapsed": false,
     "input": [
      "print fit_params['alpha']\n",
      "print fit_params['df0']"
     ],
     "language": "python",
     "metadata": {},
     "outputs": [
      {
       "output_type": "stream",
       "stream": "stdout",
       "text": [
        "<Parameter 'alpha', value=-1.5811775261259019e-06 +/- 3.77e-07, bounds=[-inf:inf]>\n",
        "<Parameter 'df0', value=-4.0987654043972351e-07 +/- 1.29e-07, bounds=[-inf:inf]>\n"
       ]
      }
     ],
     "prompt_number": 30
    },
    {
     "cell_type": "heading",
     "level": 2,
     "metadata": {},
     "source": [
      "Animation"
     ]
    },
    {
     "cell_type": "code",
     "collapsed": false,
     "input": [
      "class ResonatorAnimation(animation.TimedAnimation):\n",
      "    def __init__(self):\n",
      "        fig = plt.figure('Resonator during cooldown')\n",
      "\n",
      "        ax1 = fig.add_subplot(3,1,1)\n",
      "        ax2 = fig.add_subplot(3,1,2)\n",
      "        ax3 = fig.add_subplot(3,1,3)\n",
      "\n",
      "        ax1.set_xlabel('Frequency (GHz)')\n",
      "        ax1.set_ylabel('S21 (mV)')\n",
      "        self.lineresonator = Line2D([], [])\n",
      "        self.lineresonatorfit = Line2D([], [])\n",
      "        ax1.add_line(self.lineresonator)\n",
      "        ax1.add_line(self.lineresonatorfit)\n",
      "        ax1.set_ylim(0,0.045)\n",
      "\n",
      "\n",
      "\n",
      "        ax2.set_xlabel('Temperature (mK)')\n",
      "        ax2.set_ylabel('Internal quality factor')\n",
      "        self.lineQi = Line2D([], [])\n",
      "        ax2.add_line(self.lineQi)\n",
      "\n",
      "\n",
      "\n",
      "        ax3.set_xlabel('Temperature (mK)')\n",
      "        ax3.set_ylabel('Center frequency')\n",
      "        self.linef0 = Line2D([], [])\n",
      "        ax3.add_line(self.linef0)\n",
      "\n",
      "        for ax in [ax1,ax2,ax3]:\n",
      "            ax.get_xaxis().get_major_formatter().set_useOffset(False)\n",
      "            ax.get_yaxis().get_major_formatter().set_useOffset(False)\n",
      "\n",
      "        self._temperature = []\n",
      "        self._Qi = []\n",
      "        self._f0 = []\n",
      "\n",
      "        animation.TimedAnimation.__init__(self, fig, interval=50, blit=True)\n",
      "\n",
      "    def _draw_frame(self, framedata):\n",
      "        i = framedata\n",
      "\n",
      "        filepath = os.path.join(path,filenames[i])\n",
      "        if os.path.exists(filepath):\n",
      "            data=h5.File(filepath,'r')\n",
      "        else:\n",
      "            raise NameError('Data file not found!')\n",
      "        freq = data['Experimental_Data']['Frequency'].value\n",
      "        S21 = data['Experimental_Data']['S21 (comp)'].value\n",
      "        \n",
      "        fres = fit_S21_resonance_complex(freq,S21)\n",
      "        Qi = fres['fitparsobj']['Qi'].value\n",
      "        f0 = fres['fitparsobj']['f0'].value\n",
      "        if 'temperature' in data['Experimental_Data'].keys():\n",
      "            temperature = data['Experimental_Data']['temperature'].value\n",
      "            self._temperature += [temperature]\n",
      "            self._Qi += [Qi]\n",
      "            self._f0 += [f0]\n",
      "        \n",
      "        self.lineresonator.set_data(freq, np.abs(S21))\n",
      "        self.lineresonatorfit.set_data(freq, np.abs(fres['fit']))\n",
      "        \n",
      "        if len(self._temperature) != 0:\n",
      "    #         npoints = len(self._temperature)\n",
      "            self.lineQi.set_data(self._temperature, self._Qi)\n",
      "            self.linef0.set_data(self._temperature, self._f0)\n",
      "        else:\n",
      "            self.lineQi.set_data([], [])\n",
      "            self.linef0.set_data([], [])\n",
      "\n",
      "\n",
      "\n",
      "        self._drawn_artists = [self.lineresonator, self.lineresonatorfit,\n",
      "                               self.lineQi, self.linef0]\n",
      "\n",
      "    def new_frame_seq(self):\n",
      "        return iter(range(len(filenames)))\n",
      "\n",
      "    def _init_draw(self):\n",
      "        lines =  [self.lineresonator, self.lineresonatorfit,\n",
      "                               self.lineQi, self.linef0]\n",
      "        for l in lines:\n",
      "            l.set_data([], [])\n",
      "\n",
      "\n",
      "anim = animation.FuncAnimation(fig, show_plot, init_func=init,\n",
      "                               frames=len(filenames), interval=100, blit=True,repeat=False)\n",
      "plt.show()"
     ],
     "language": "python",
     "metadata": {},
     "outputs": [
      {
       "ename": "NameError",
       "evalue": "name 'fig' is not defined",
       "output_type": "pyerr",
       "traceback": [
        "\u001b[1;31m---------------------------------------------------------------------------\u001b[0m\n\u001b[1;31mNameError\u001b[0m                                 Traceback (most recent call last)",
        "\u001b[1;32m<ipython-input-92-cc292594251b>\u001b[0m in \u001b[0;36m<module>\u001b[1;34m()\u001b[0m\n\u001b[0;32m     85\u001b[0m \u001b[1;33m\u001b[0m\u001b[0m\n\u001b[0;32m     86\u001b[0m \u001b[1;33m\u001b[0m\u001b[0m\n\u001b[1;32m---> 87\u001b[1;33m anim = animation.FuncAnimation(fig, show_plot, init_func=init,\n\u001b[0m\u001b[0;32m     88\u001b[0m                                frames=len(filenames), interval=100, blit=True,repeat=False)\n\u001b[0;32m     89\u001b[0m \u001b[0mplt\u001b[0m\u001b[1;33m.\u001b[0m\u001b[0mshow\u001b[0m\u001b[1;33m(\u001b[0m\u001b[1;33m)\u001b[0m\u001b[1;33m\u001b[0m\u001b[0m\n",
        "\u001b[1;31mNameError\u001b[0m: name 'fig' is not defined"
       ]
      }
     ],
     "prompt_number": 92
    },
    {
     "cell_type": "code",
     "collapsed": false,
     "input": [
      "for key, val in fres['fitparsobj'].items():\n",
      "    print '{:<8}: {}'.format(key, val.value)"
     ],
     "language": "python",
     "metadata": {},
     "outputs": [
      {
       "output_type": "stream",
       "stream": "stdout",
       "text": [
        "A       : 0.0423401046158\n",
        "f       : [ 2.752435    2.75243505  2.7524351  ...,  2.7524849   2.75248495  2.752485  ]\n",
        "f0      : 2.75243418979\n",
        "Q       : 498130.142032\n",
        "Qe      : 871798.442126\n",
        "Qi      : 1161033.11826\n",
        "Qc      : 872443.800739\n",
        "df      : -3.00383078314\n",
        "theta   : -0.0384656962236\n",
        "phi_v   : -325.52091761\n",
        "phi_0   : -2.82233153335\n"
       ]
      }
     ],
     "prompt_number": 225
    },
    {
     "cell_type": "code",
     "collapsed": false,
     "input": [],
     "language": "python",
     "metadata": {},
     "outputs": []
    }
   ],
   "metadata": {}
  }
 ]
}